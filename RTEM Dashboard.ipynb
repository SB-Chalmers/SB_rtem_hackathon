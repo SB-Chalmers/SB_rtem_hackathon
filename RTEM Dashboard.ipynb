{
 "cells": [
  {
   "cell_type": "markdown",
   "metadata": {},
   "source": [
    "# RTEM Dashboard\n",
    "Author: SS  \n",
    "Date: 10/05/2022  \n",
    "Description: Notebook to explore the structure of the RTEM API and plot useful charts  "
   ]
  },
  {
   "cell_type": "markdown",
   "metadata": {},
   "source": [
    "## Import libraries"
   ]
  },
  {
   "cell_type": "code",
   "execution_count": 7,
   "metadata": {},
   "outputs": [],
   "source": [
    "# Standard python libraries\n",
    "import pandas as pd\n",
    "import json\n",
    "import numpy as np"
   ]
  },
  {
   "cell_type": "code",
   "execution_count": 25,
   "metadata": {},
   "outputs": [],
   "source": [
    "# RTEM libraries\n",
    "from onboard.client import RtemClient\n",
    "from onboard.client.dataframes import points_df_from_streaming_timeseries\n",
    "from onboard.client.models import PointSelector, TimeseriesQuery, PointData\n",
    "from datetime import datetime, timezone, timedelta\n",
    "import pytz"
   ]
  },
  {
   "cell_type": "markdown",
   "metadata": {},
   "source": [
    "## Load secret\n",
    "This is done so we dont share API keys.   \n",
    "To get this working on your notebook, create a folder called 'secrets' in your root directory and create a 'secrets.txt' inside it with your API key."
   ]
  },
  {
   "cell_type": "code",
   "execution_count": 9,
   "metadata": {},
   "outputs": [],
   "source": [
    "# Read secret from /secrets/ folder\n",
    "with open('secrets/secrets.txt') as f:\n",
    "    secret = f.readlines()[0]\n",
    "\n",
    "# Setup client\n",
    "client = RtemClient(api_key=secret)"
   ]
  },
  {
   "cell_type": "code",
   "execution_count": 10,
   "metadata": {},
   "outputs": [],
   "source": [
    "# Run this once to minimise making too many calls\n",
    "df_buildings = pd.DataFrame(client.get_all_buildings())"
   ]
  },
  {
   "cell_type": "code",
   "execution_count": 11,
   "metadata": {},
   "outputs": [
    {
     "data": {
      "text/html": [
       "<div>\n",
       "<style scoped>\n",
       "    .dataframe tbody tr th:only-of-type {\n",
       "        vertical-align: middle;\n",
       "    }\n",
       "\n",
       "    .dataframe tbody tr th {\n",
       "        vertical-align: top;\n",
       "    }\n",
       "\n",
       "    .dataframe thead th {\n",
       "        text-align: right;\n",
       "    }\n",
       "</style>\n",
       "<table border=\"1\" class=\"dataframe\">\n",
       "  <thead>\n",
       "    <tr style=\"text-align: right;\">\n",
       "      <th></th>\n",
       "      <th>id</th>\n",
       "      <th>org_id</th>\n",
       "      <th>name</th>\n",
       "      <th>address</th>\n",
       "      <th>sq_ft</th>\n",
       "      <th>image_src</th>\n",
       "      <th>bms_manufacturer</th>\n",
       "      <th>bms_product_name</th>\n",
       "      <th>bms_version</th>\n",
       "      <th>timezone</th>\n",
       "      <th>info</th>\n",
       "      <th>status</th>\n",
       "      <th>equip_count</th>\n",
       "      <th>point_count</th>\n",
       "    </tr>\n",
       "  </thead>\n",
       "  <tbody>\n",
       "    <tr>\n",
       "      <th>0</th>\n",
       "      <td>441</td>\n",
       "      <td>5</td>\n",
       "      <td>88737</td>\n",
       "      <td>None</td>\n",
       "      <td>551143.0</td>\n",
       "      <td>None</td>\n",
       "      <td>None</td>\n",
       "      <td>None</td>\n",
       "      <td>None</td>\n",
       "      <td>America/New_York</td>\n",
       "      <td>{'org': '', 'floors': '', 'm2fend': '', 'saten...</td>\n",
       "      <td>LIVE</td>\n",
       "      <td>20</td>\n",
       "      <td>1293</td>\n",
       "    </tr>\n",
       "    <tr>\n",
       "      <th>1</th>\n",
       "      <td>140</td>\n",
       "      <td>5</td>\n",
       "      <td>83483</td>\n",
       "      <td>None</td>\n",
       "      <td>21869.0</td>\n",
       "      <td>None</td>\n",
       "      <td>None</td>\n",
       "      <td>None</td>\n",
       "      <td>None</td>\n",
       "      <td>America/New_York</td>\n",
       "      <td>{'org': '', 'floors': '', 'm2fend': '', 'saten...</td>\n",
       "      <td>LIVE</td>\n",
       "      <td>13</td>\n",
       "      <td>354</td>\n",
       "    </tr>\n",
       "    <tr>\n",
       "      <th>2</th>\n",
       "      <td>191</td>\n",
       "      <td>5</td>\n",
       "      <td>94414</td>\n",
       "      <td>None</td>\n",
       "      <td>198057.0</td>\n",
       "      <td>None</td>\n",
       "      <td>None</td>\n",
       "      <td>None</td>\n",
       "      <td>None</td>\n",
       "      <td>America/New_York</td>\n",
       "      <td>{'org': '', 'floors': '', 'm2fend': '23:00', '...</td>\n",
       "      <td>LIVE</td>\n",
       "      <td>7</td>\n",
       "      <td>19</td>\n",
       "    </tr>\n",
       "    <tr>\n",
       "      <th>3</th>\n",
       "      <td>231</td>\n",
       "      <td>5</td>\n",
       "      <td>89496</td>\n",
       "      <td>None</td>\n",
       "      <td>NaN</td>\n",
       "      <td>None</td>\n",
       "      <td>None</td>\n",
       "      <td>None</td>\n",
       "      <td>None</td>\n",
       "      <td>America/New_York</td>\n",
       "      <td>{'org': '', 'floors': '', 'm2fend': '', 'saten...</td>\n",
       "      <td>LIVE</td>\n",
       "      <td>4</td>\n",
       "      <td>51</td>\n",
       "    </tr>\n",
       "    <tr>\n",
       "      <th>4</th>\n",
       "      <td>248</td>\n",
       "      <td>5</td>\n",
       "      <td>116742</td>\n",
       "      <td>None</td>\n",
       "      <td>127000.0</td>\n",
       "      <td>None</td>\n",
       "      <td>None</td>\n",
       "      <td>None</td>\n",
       "      <td>None</td>\n",
       "      <td>America/New_York</td>\n",
       "      <td>{'org': '', 'floors': '', 'm2fend': '', 'saten...</td>\n",
       "      <td>LIVE</td>\n",
       "      <td>7</td>\n",
       "      <td>34</td>\n",
       "    </tr>\n",
       "  </tbody>\n",
       "</table>\n",
       "</div>"
      ],
      "text/plain": [
       "    id  org_id    name address     sq_ft image_src bms_manufacturer  \\\n",
       "0  441       5   88737    None  551143.0      None             None   \n",
       "1  140       5   83483    None   21869.0      None             None   \n",
       "2  191       5   94414    None  198057.0      None             None   \n",
       "3  231       5   89496    None       NaN      None             None   \n",
       "4  248       5  116742    None  127000.0      None             None   \n",
       "\n",
       "  bms_product_name bms_version          timezone  \\\n",
       "0             None        None  America/New_York   \n",
       "1             None        None  America/New_York   \n",
       "2             None        None  America/New_York   \n",
       "3             None        None  America/New_York   \n",
       "4             None        None  America/New_York   \n",
       "\n",
       "                                                info status  equip_count  \\\n",
       "0  {'org': '', 'floors': '', 'm2fend': '', 'saten...   LIVE           20   \n",
       "1  {'org': '', 'floors': '', 'm2fend': '', 'saten...   LIVE           13   \n",
       "2  {'org': '', 'floors': '', 'm2fend': '23:00', '...   LIVE            7   \n",
       "3  {'org': '', 'floors': '', 'm2fend': '', 'saten...   LIVE            4   \n",
       "4  {'org': '', 'floors': '', 'm2fend': '', 'saten...   LIVE            7   \n",
       "\n",
       "   point_count  \n",
       "0         1293  \n",
       "1          354  \n",
       "2           19  \n",
       "3           51  \n",
       "4           34  "
      ]
     },
     "execution_count": 11,
     "metadata": {},
     "output_type": "execute_result"
    }
   ],
   "source": [
    "df_buildings.head()"
   ]
  },
  {
   "cell_type": "code",
   "execution_count": 12,
   "metadata": {},
   "outputs": [
    {
     "name": "stdout",
     "output_type": "stream",
     "text": [
      "shape of dataframe (229, 14)\n"
     ]
    },
    {
     "data": {
      "text/html": [
       "<div>\n",
       "<style scoped>\n",
       "    .dataframe tbody tr th:only-of-type {\n",
       "        vertical-align: middle;\n",
       "    }\n",
       "\n",
       "    .dataframe tbody tr th {\n",
       "        vertical-align: top;\n",
       "    }\n",
       "\n",
       "    .dataframe thead th {\n",
       "        text-align: right;\n",
       "    }\n",
       "</style>\n",
       "<table border=\"1\" class=\"dataframe\">\n",
       "  <thead>\n",
       "    <tr style=\"text-align: right;\">\n",
       "      <th></th>\n",
       "      <th>id</th>\n",
       "      <th>org_id</th>\n",
       "      <th>sq_ft</th>\n",
       "      <th>equip_count</th>\n",
       "      <th>point_count</th>\n",
       "    </tr>\n",
       "  </thead>\n",
       "  <tbody>\n",
       "    <tr>\n",
       "      <th>count</th>\n",
       "      <td>229.000000</td>\n",
       "      <td>229.0</td>\n",
       "      <td>2.010000e+02</td>\n",
       "      <td>229.000000</td>\n",
       "      <td>229.000000</td>\n",
       "    </tr>\n",
       "    <tr>\n",
       "      <th>mean</th>\n",
       "      <td>279.296943</td>\n",
       "      <td>5.0</td>\n",
       "      <td>3.598326e+05</td>\n",
       "      <td>26.572052</td>\n",
       "      <td>193.842795</td>\n",
       "    </tr>\n",
       "    <tr>\n",
       "      <th>std</th>\n",
       "      <td>126.752691</td>\n",
       "      <td>0.0</td>\n",
       "      <td>5.004452e+05</td>\n",
       "      <td>50.564882</td>\n",
       "      <td>510.273853</td>\n",
       "    </tr>\n",
       "    <tr>\n",
       "      <th>min</th>\n",
       "      <td>98.000000</td>\n",
       "      <td>5.0</td>\n",
       "      <td>7.960000e+03</td>\n",
       "      <td>1.000000</td>\n",
       "      <td>1.000000</td>\n",
       "    </tr>\n",
       "    <tr>\n",
       "      <th>25%</th>\n",
       "      <td>165.000000</td>\n",
       "      <td>5.0</td>\n",
       "      <td>9.000000e+04</td>\n",
       "      <td>4.000000</td>\n",
       "      <td>22.000000</td>\n",
       "    </tr>\n",
       "    <tr>\n",
       "      <th>50%</th>\n",
       "      <td>259.000000</td>\n",
       "      <td>5.0</td>\n",
       "      <td>1.980570e+05</td>\n",
       "      <td>8.000000</td>\n",
       "      <td>38.000000</td>\n",
       "    </tr>\n",
       "    <tr>\n",
       "      <th>75%</th>\n",
       "      <td>392.000000</td>\n",
       "      <td>5.0</td>\n",
       "      <td>3.640000e+05</td>\n",
       "      <td>25.000000</td>\n",
       "      <td>182.000000</td>\n",
       "    </tr>\n",
       "    <tr>\n",
       "      <th>max</th>\n",
       "      <td>503.000000</td>\n",
       "      <td>5.0</td>\n",
       "      <td>3.000000e+06</td>\n",
       "      <td>393.000000</td>\n",
       "      <td>6068.000000</td>\n",
       "    </tr>\n",
       "  </tbody>\n",
       "</table>\n",
       "</div>"
      ],
      "text/plain": [
       "               id  org_id         sq_ft  equip_count  point_count\n",
       "count  229.000000   229.0  2.010000e+02   229.000000   229.000000\n",
       "mean   279.296943     5.0  3.598326e+05    26.572052   193.842795\n",
       "std    126.752691     0.0  5.004452e+05    50.564882   510.273853\n",
       "min     98.000000     5.0  7.960000e+03     1.000000     1.000000\n",
       "25%    165.000000     5.0  9.000000e+04     4.000000    22.000000\n",
       "50%    259.000000     5.0  1.980570e+05     8.000000    38.000000\n",
       "75%    392.000000     5.0  3.640000e+05    25.000000   182.000000\n",
       "max    503.000000     5.0  3.000000e+06   393.000000  6068.000000"
      ]
     },
     "execution_count": 12,
     "metadata": {},
     "output_type": "execute_result"
    }
   ],
   "source": [
    "print(f'shape of dataframe {df_buildings.shape}')\n",
    "df_buildings.describe()"
   ]
  },
  {
   "cell_type": "markdown",
   "metadata": {},
   "source": [
    "### Something interesting going on in the info column"
   ]
  },
  {
   "cell_type": "code",
   "execution_count": 13,
   "metadata": {},
   "outputs": [
    {
     "data": {
      "text/plain": [
       "{'org': '',\n",
       " 'floors': '',\n",
       " 'm2fend': '',\n",
       " 'satend': '',\n",
       " 'sunend': '',\n",
       " 'geoCity': 'Bronx',\n",
       " 'geoState': 'NY',\n",
       " 'm2fstart': '',\n",
       " 'satstart': '',\n",
       " 'sunstart': '',\n",
       " 'yearBuilt': '',\n",
       " 'geoCountry': 'US',\n",
       " 'weatherRef': '',\n",
       " 'customerType': 'Multifamily'}"
      ]
     },
     "execution_count": 13,
     "metadata": {},
     "output_type": "execute_result"
    }
   ],
   "source": [
    "df_buildings['info'][0]"
   ]
  },
  {
   "cell_type": "code",
   "execution_count": 14,
   "metadata": {},
   "outputs": [],
   "source": [
    "# splitting these values into columns in the df\n",
    "objs = [df_buildings, pd.DataFrame(df_buildings['info'].tolist()).iloc[:, :14]]\n",
    "df_buildings_flt = pd.concat(objs, axis=1).drop('info', axis=1)"
   ]
  },
  {
   "cell_type": "markdown",
   "metadata": {},
   "source": [
    "# Plotting"
   ]
  },
  {
   "cell_type": "code",
   "execution_count": 15,
   "metadata": {},
   "outputs": [
    {
     "data": {
      "text/plain": [
       "Index(['id', 'org_id', 'name', 'address', 'sq_ft', 'image_src',\n",
       "       'bms_manufacturer', 'bms_product_name', 'bms_version', 'timezone',\n",
       "       'status', 'equip_count', 'point_count', 'org', 'floors', 'm2fend',\n",
       "       'satend', 'sunend', 'geoCity', 'geoState', 'm2fstart', 'satstart',\n",
       "       'sunstart', 'yearBuilt', 'geoCountry', 'weatherRef', 'customerType'],\n",
       "      dtype='object')"
      ]
     },
     "execution_count": 15,
     "metadata": {},
     "output_type": "execute_result"
    }
   ],
   "source": [
    "df_buildings_flt.columns"
   ]
  },
  {
   "cell_type": "code",
   "execution_count": 16,
   "metadata": {},
   "outputs": [],
   "source": [
    "# Import plottting libraries\n",
    "import plotly\n",
    "import seaborn as sns\n",
    "pd.options.plotting.backend = \"plotly\" "
   ]
  },
  {
   "cell_type": "code",
   "execution_count": 17,
   "metadata": {},
   "outputs": [
    {
     "data": {
      "application/vnd.plotly.v1+json": {
       "config": {
        "plotlyServerURL": "https://plot.ly"
       },
       "data": [
        {
         "alignmentgroup": "True",
         "bingroup": "x",
         "hovertemplate": "variable=sq_ft<br>value=%{x}<br>count=%{y}<extra></extra>",
         "legendgroup": "sq_ft",
         "marker": {
          "color": "#636efa",
          "pattern": {
           "shape": ""
          }
         },
         "name": "sq_ft",
         "offsetgroup": "sq_ft",
         "orientation": "v",
         "showlegend": true,
         "type": "histogram",
         "x": [
          551143,
          21869,
          198057,
          null,
          127000,
          120000,
          56090,
          32240,
          198057,
          198057,
          198057,
          35000,
          130000,
          232808,
          null,
          80000,
          119710,
          3000000,
          100000,
          null,
          null,
          56000,
          50000,
          null,
          33220,
          1898155,
          null,
          null,
          205000,
          275000,
          null,
          600000,
          null,
          1500000,
          null,
          171129,
          null,
          2800000,
          665000,
          null,
          1040873,
          789079,
          null,
          153750,
          1028336,
          47092,
          null,
          869066,
          2338000,
          null,
          null,
          null,
          12000,
          205000,
          145000,
          236000,
          274096,
          null,
          127577,
          150000,
          229154,
          782298,
          563391,
          7960,
          110000,
          2400000,
          76800,
          352360,
          null,
          180000,
          null,
          null,
          16903,
          null,
          25000,
          null,
          20000,
          null,
          null,
          13512,
          357001,
          49428,
          135000,
          210000,
          268000,
          null,
          63550,
          240900,
          98122,
          1040873,
          179000,
          236067,
          600000,
          56000,
          699000,
          789079,
          198057,
          20025,
          1200000,
          789079,
          1073894,
          205000,
          8500,
          52096,
          null,
          470000,
          198057,
          700000,
          200000,
          667000,
          15750,
          221704,
          252105,
          1325000,
          43299,
          198057,
          31152,
          23400,
          281755,
          373700,
          20000,
          144000,
          900000,
          198057,
          198057,
          789079,
          144000,
          144000,
          250000,
          198057,
          552860,
          56000,
          56000,
          75165,
          9000,
          274096,
          1700000,
          144000,
          115020,
          274096,
          2486000,
          198057,
          144000,
          228690,
          12285,
          789079,
          44627,
          259000,
          259000,
          8500,
          198057,
          789079,
          274096,
          198057,
          274096,
          198057,
          144000,
          144000,
          121758,
          50000,
          360000,
          120721,
          198057,
          789079,
          1993000,
          47040,
          228690,
          364000,
          88800,
          144000,
          789079,
          144000,
          522000,
          198057,
          31220,
          56000,
          null,
          900000,
          100000,
          144000,
          367995,
          42000,
          250000,
          625844,
          56000,
          390000,
          115860,
          145079,
          11500,
          198057,
          200000,
          120000,
          274096,
          90000,
          198057,
          373700,
          144000,
          198057,
          176584,
          259000,
          56000,
          156250,
          22747,
          150000,
          198057,
          259000,
          338424,
          8500,
          350000,
          399613,
          725000,
          1100000,
          1040873,
          330000,
          357297,
          144000,
          56000,
          9000,
          198057,
          52782,
          12000,
          450000,
          144000,
          144000,
          198057,
          421316,
          75000,
          860000,
          140400
         ],
         "xaxis": "x",
         "yaxis": "y"
        }
       ],
       "layout": {
        "barmode": "relative",
        "legend": {
         "title": {
          "text": "variable"
         },
         "tracegroupgap": 0
        },
        "template": {
         "data": {
          "bar": [
           {
            "error_x": {
             "color": "#2a3f5f"
            },
            "error_y": {
             "color": "#2a3f5f"
            },
            "marker": {
             "line": {
              "color": "#E5ECF6",
              "width": 0.5
             },
             "pattern": {
              "fillmode": "overlay",
              "size": 10,
              "solidity": 0.2
             }
            },
            "type": "bar"
           }
          ],
          "barpolar": [
           {
            "marker": {
             "line": {
              "color": "#E5ECF6",
              "width": 0.5
             },
             "pattern": {
              "fillmode": "overlay",
              "size": 10,
              "solidity": 0.2
             }
            },
            "type": "barpolar"
           }
          ],
          "carpet": [
           {
            "aaxis": {
             "endlinecolor": "#2a3f5f",
             "gridcolor": "white",
             "linecolor": "white",
             "minorgridcolor": "white",
             "startlinecolor": "#2a3f5f"
            },
            "baxis": {
             "endlinecolor": "#2a3f5f",
             "gridcolor": "white",
             "linecolor": "white",
             "minorgridcolor": "white",
             "startlinecolor": "#2a3f5f"
            },
            "type": "carpet"
           }
          ],
          "choropleth": [
           {
            "colorbar": {
             "outlinewidth": 0,
             "ticks": ""
            },
            "type": "choropleth"
           }
          ],
          "contour": [
           {
            "colorbar": {
             "outlinewidth": 0,
             "ticks": ""
            },
            "colorscale": [
             [
              0,
              "#0d0887"
             ],
             [
              0.1111111111111111,
              "#46039f"
             ],
             [
              0.2222222222222222,
              "#7201a8"
             ],
             [
              0.3333333333333333,
              "#9c179e"
             ],
             [
              0.4444444444444444,
              "#bd3786"
             ],
             [
              0.5555555555555556,
              "#d8576b"
             ],
             [
              0.6666666666666666,
              "#ed7953"
             ],
             [
              0.7777777777777778,
              "#fb9f3a"
             ],
             [
              0.8888888888888888,
              "#fdca26"
             ],
             [
              1,
              "#f0f921"
             ]
            ],
            "type": "contour"
           }
          ],
          "contourcarpet": [
           {
            "colorbar": {
             "outlinewidth": 0,
             "ticks": ""
            },
            "type": "contourcarpet"
           }
          ],
          "heatmap": [
           {
            "colorbar": {
             "outlinewidth": 0,
             "ticks": ""
            },
            "colorscale": [
             [
              0,
              "#0d0887"
             ],
             [
              0.1111111111111111,
              "#46039f"
             ],
             [
              0.2222222222222222,
              "#7201a8"
             ],
             [
              0.3333333333333333,
              "#9c179e"
             ],
             [
              0.4444444444444444,
              "#bd3786"
             ],
             [
              0.5555555555555556,
              "#d8576b"
             ],
             [
              0.6666666666666666,
              "#ed7953"
             ],
             [
              0.7777777777777778,
              "#fb9f3a"
             ],
             [
              0.8888888888888888,
              "#fdca26"
             ],
             [
              1,
              "#f0f921"
             ]
            ],
            "type": "heatmap"
           }
          ],
          "heatmapgl": [
           {
            "colorbar": {
             "outlinewidth": 0,
             "ticks": ""
            },
            "colorscale": [
             [
              0,
              "#0d0887"
             ],
             [
              0.1111111111111111,
              "#46039f"
             ],
             [
              0.2222222222222222,
              "#7201a8"
             ],
             [
              0.3333333333333333,
              "#9c179e"
             ],
             [
              0.4444444444444444,
              "#bd3786"
             ],
             [
              0.5555555555555556,
              "#d8576b"
             ],
             [
              0.6666666666666666,
              "#ed7953"
             ],
             [
              0.7777777777777778,
              "#fb9f3a"
             ],
             [
              0.8888888888888888,
              "#fdca26"
             ],
             [
              1,
              "#f0f921"
             ]
            ],
            "type": "heatmapgl"
           }
          ],
          "histogram": [
           {
            "marker": {
             "pattern": {
              "fillmode": "overlay",
              "size": 10,
              "solidity": 0.2
             }
            },
            "type": "histogram"
           }
          ],
          "histogram2d": [
           {
            "colorbar": {
             "outlinewidth": 0,
             "ticks": ""
            },
            "colorscale": [
             [
              0,
              "#0d0887"
             ],
             [
              0.1111111111111111,
              "#46039f"
             ],
             [
              0.2222222222222222,
              "#7201a8"
             ],
             [
              0.3333333333333333,
              "#9c179e"
             ],
             [
              0.4444444444444444,
              "#bd3786"
             ],
             [
              0.5555555555555556,
              "#d8576b"
             ],
             [
              0.6666666666666666,
              "#ed7953"
             ],
             [
              0.7777777777777778,
              "#fb9f3a"
             ],
             [
              0.8888888888888888,
              "#fdca26"
             ],
             [
              1,
              "#f0f921"
             ]
            ],
            "type": "histogram2d"
           }
          ],
          "histogram2dcontour": [
           {
            "colorbar": {
             "outlinewidth": 0,
             "ticks": ""
            },
            "colorscale": [
             [
              0,
              "#0d0887"
             ],
             [
              0.1111111111111111,
              "#46039f"
             ],
             [
              0.2222222222222222,
              "#7201a8"
             ],
             [
              0.3333333333333333,
              "#9c179e"
             ],
             [
              0.4444444444444444,
              "#bd3786"
             ],
             [
              0.5555555555555556,
              "#d8576b"
             ],
             [
              0.6666666666666666,
              "#ed7953"
             ],
             [
              0.7777777777777778,
              "#fb9f3a"
             ],
             [
              0.8888888888888888,
              "#fdca26"
             ],
             [
              1,
              "#f0f921"
             ]
            ],
            "type": "histogram2dcontour"
           }
          ],
          "mesh3d": [
           {
            "colorbar": {
             "outlinewidth": 0,
             "ticks": ""
            },
            "type": "mesh3d"
           }
          ],
          "parcoords": [
           {
            "line": {
             "colorbar": {
              "outlinewidth": 0,
              "ticks": ""
             }
            },
            "type": "parcoords"
           }
          ],
          "pie": [
           {
            "automargin": true,
            "type": "pie"
           }
          ],
          "scatter": [
           {
            "marker": {
             "colorbar": {
              "outlinewidth": 0,
              "ticks": ""
             }
            },
            "type": "scatter"
           }
          ],
          "scatter3d": [
           {
            "line": {
             "colorbar": {
              "outlinewidth": 0,
              "ticks": ""
             }
            },
            "marker": {
             "colorbar": {
              "outlinewidth": 0,
              "ticks": ""
             }
            },
            "type": "scatter3d"
           }
          ],
          "scattercarpet": [
           {
            "marker": {
             "colorbar": {
              "outlinewidth": 0,
              "ticks": ""
             }
            },
            "type": "scattercarpet"
           }
          ],
          "scattergeo": [
           {
            "marker": {
             "colorbar": {
              "outlinewidth": 0,
              "ticks": ""
             }
            },
            "type": "scattergeo"
           }
          ],
          "scattergl": [
           {
            "marker": {
             "colorbar": {
              "outlinewidth": 0,
              "ticks": ""
             }
            },
            "type": "scattergl"
           }
          ],
          "scattermapbox": [
           {
            "marker": {
             "colorbar": {
              "outlinewidth": 0,
              "ticks": ""
             }
            },
            "type": "scattermapbox"
           }
          ],
          "scatterpolar": [
           {
            "marker": {
             "colorbar": {
              "outlinewidth": 0,
              "ticks": ""
             }
            },
            "type": "scatterpolar"
           }
          ],
          "scatterpolargl": [
           {
            "marker": {
             "colorbar": {
              "outlinewidth": 0,
              "ticks": ""
             }
            },
            "type": "scatterpolargl"
           }
          ],
          "scatterternary": [
           {
            "marker": {
             "colorbar": {
              "outlinewidth": 0,
              "ticks": ""
             }
            },
            "type": "scatterternary"
           }
          ],
          "surface": [
           {
            "colorbar": {
             "outlinewidth": 0,
             "ticks": ""
            },
            "colorscale": [
             [
              0,
              "#0d0887"
             ],
             [
              0.1111111111111111,
              "#46039f"
             ],
             [
              0.2222222222222222,
              "#7201a8"
             ],
             [
              0.3333333333333333,
              "#9c179e"
             ],
             [
              0.4444444444444444,
              "#bd3786"
             ],
             [
              0.5555555555555556,
              "#d8576b"
             ],
             [
              0.6666666666666666,
              "#ed7953"
             ],
             [
              0.7777777777777778,
              "#fb9f3a"
             ],
             [
              0.8888888888888888,
              "#fdca26"
             ],
             [
              1,
              "#f0f921"
             ]
            ],
            "type": "surface"
           }
          ],
          "table": [
           {
            "cells": {
             "fill": {
              "color": "#EBF0F8"
             },
             "line": {
              "color": "white"
             }
            },
            "header": {
             "fill": {
              "color": "#C8D4E3"
             },
             "line": {
              "color": "white"
             }
            },
            "type": "table"
           }
          ]
         },
         "layout": {
          "annotationdefaults": {
           "arrowcolor": "#2a3f5f",
           "arrowhead": 0,
           "arrowwidth": 1
          },
          "autotypenumbers": "strict",
          "coloraxis": {
           "colorbar": {
            "outlinewidth": 0,
            "ticks": ""
           }
          },
          "colorscale": {
           "diverging": [
            [
             0,
             "#8e0152"
            ],
            [
             0.1,
             "#c51b7d"
            ],
            [
             0.2,
             "#de77ae"
            ],
            [
             0.3,
             "#f1b6da"
            ],
            [
             0.4,
             "#fde0ef"
            ],
            [
             0.5,
             "#f7f7f7"
            ],
            [
             0.6,
             "#e6f5d0"
            ],
            [
             0.7,
             "#b8e186"
            ],
            [
             0.8,
             "#7fbc41"
            ],
            [
             0.9,
             "#4d9221"
            ],
            [
             1,
             "#276419"
            ]
           ],
           "sequential": [
            [
             0,
             "#0d0887"
            ],
            [
             0.1111111111111111,
             "#46039f"
            ],
            [
             0.2222222222222222,
             "#7201a8"
            ],
            [
             0.3333333333333333,
             "#9c179e"
            ],
            [
             0.4444444444444444,
             "#bd3786"
            ],
            [
             0.5555555555555556,
             "#d8576b"
            ],
            [
             0.6666666666666666,
             "#ed7953"
            ],
            [
             0.7777777777777778,
             "#fb9f3a"
            ],
            [
             0.8888888888888888,
             "#fdca26"
            ],
            [
             1,
             "#f0f921"
            ]
           ],
           "sequentialminus": [
            [
             0,
             "#0d0887"
            ],
            [
             0.1111111111111111,
             "#46039f"
            ],
            [
             0.2222222222222222,
             "#7201a8"
            ],
            [
             0.3333333333333333,
             "#9c179e"
            ],
            [
             0.4444444444444444,
             "#bd3786"
            ],
            [
             0.5555555555555556,
             "#d8576b"
            ],
            [
             0.6666666666666666,
             "#ed7953"
            ],
            [
             0.7777777777777778,
             "#fb9f3a"
            ],
            [
             0.8888888888888888,
             "#fdca26"
            ],
            [
             1,
             "#f0f921"
            ]
           ]
          },
          "colorway": [
           "#636efa",
           "#EF553B",
           "#00cc96",
           "#ab63fa",
           "#FFA15A",
           "#19d3f3",
           "#FF6692",
           "#B6E880",
           "#FF97FF",
           "#FECB52"
          ],
          "font": {
           "color": "#2a3f5f"
          },
          "geo": {
           "bgcolor": "white",
           "lakecolor": "white",
           "landcolor": "#E5ECF6",
           "showlakes": true,
           "showland": true,
           "subunitcolor": "white"
          },
          "hoverlabel": {
           "align": "left"
          },
          "hovermode": "closest",
          "mapbox": {
           "style": "light"
          },
          "paper_bgcolor": "white",
          "plot_bgcolor": "#E5ECF6",
          "polar": {
           "angularaxis": {
            "gridcolor": "white",
            "linecolor": "white",
            "ticks": ""
           },
           "bgcolor": "#E5ECF6",
           "radialaxis": {
            "gridcolor": "white",
            "linecolor": "white",
            "ticks": ""
           }
          },
          "scene": {
           "xaxis": {
            "backgroundcolor": "#E5ECF6",
            "gridcolor": "white",
            "gridwidth": 2,
            "linecolor": "white",
            "showbackground": true,
            "ticks": "",
            "zerolinecolor": "white"
           },
           "yaxis": {
            "backgroundcolor": "#E5ECF6",
            "gridcolor": "white",
            "gridwidth": 2,
            "linecolor": "white",
            "showbackground": true,
            "ticks": "",
            "zerolinecolor": "white"
           },
           "zaxis": {
            "backgroundcolor": "#E5ECF6",
            "gridcolor": "white",
            "gridwidth": 2,
            "linecolor": "white",
            "showbackground": true,
            "ticks": "",
            "zerolinecolor": "white"
           }
          },
          "shapedefaults": {
           "line": {
            "color": "#2a3f5f"
           }
          },
          "ternary": {
           "aaxis": {
            "gridcolor": "white",
            "linecolor": "white",
            "ticks": ""
           },
           "baxis": {
            "gridcolor": "white",
            "linecolor": "white",
            "ticks": ""
           },
           "bgcolor": "#E5ECF6",
           "caxis": {
            "gridcolor": "white",
            "linecolor": "white",
            "ticks": ""
           }
          },
          "title": {
           "x": 0.05
          },
          "xaxis": {
           "automargin": true,
           "gridcolor": "white",
           "linecolor": "white",
           "ticks": "",
           "title": {
            "standoff": 15
           },
           "zerolinecolor": "white",
           "zerolinewidth": 2
          },
          "yaxis": {
           "automargin": true,
           "gridcolor": "white",
           "linecolor": "white",
           "ticks": "",
           "title": {
            "standoff": 15
           },
           "zerolinecolor": "white",
           "zerolinewidth": 2
          }
         }
        },
        "title": {
         "text": "Histogram of building area"
        },
        "xaxis": {
         "anchor": "y",
         "domain": [
          0,
          1
         ],
         "title": {
          "text": "value"
         }
        },
        "yaxis": {
         "anchor": "x",
         "domain": [
          0,
          1
         ],
         "title": {
          "text": "count"
         }
        }
       }
      }
     },
     "metadata": {},
     "output_type": "display_data"
    }
   ],
   "source": [
    "df_buildings_flt[['sq_ft']].plot(kind='hist',title = \"Histogram of building area\")"
   ]
  },
  {
   "cell_type": "code",
   "execution_count": 27,
   "metadata": {},
   "outputs": [
    {
     "data": {
      "application/vnd.plotly.v1+json": {
       "config": {
        "plotlyServerURL": "https://plot.ly"
       },
       "data": [
        {
         "hovertemplate": "sq_ft=%{x}<br>customerType=%{y}<extra></extra>",
         "legendgroup": "",
         "marker": {
          "color": "#636efa",
          "symbol": "circle"
         },
         "mode": "markers",
         "name": "",
         "orientation": "h",
         "showlegend": false,
         "type": "scatter",
         "x": [
          551143,
          21869,
          198057,
          null,
          127000,
          120000,
          56090,
          32240,
          198057,
          198057,
          198057,
          35000,
          130000,
          232808,
          null,
          80000,
          119710,
          3000000,
          100000,
          null,
          null,
          56000,
          50000,
          null,
          33220,
          1898155,
          null,
          null,
          205000,
          275000,
          null,
          600000,
          null,
          1500000,
          null,
          171129,
          null,
          2800000,
          665000,
          null,
          1040873,
          789079,
          null,
          153750,
          1028336,
          47092,
          null,
          869066,
          2338000,
          null,
          null,
          null,
          12000,
          205000,
          145000,
          236000,
          274096,
          null,
          127577,
          150000,
          229154,
          782298,
          563391,
          7960,
          110000,
          2400000,
          76800,
          352360,
          null,
          180000,
          null,
          null,
          16903,
          null,
          25000,
          null,
          20000,
          null,
          null,
          13512,
          357001,
          49428,
          135000,
          210000,
          268000,
          null,
          63550,
          240900,
          98122,
          1040873,
          179000,
          236067,
          600000,
          56000,
          699000,
          789079,
          198057,
          20025,
          1200000,
          789079,
          1073894,
          205000,
          8500,
          52096,
          null,
          470000,
          198057,
          700000,
          200000,
          667000,
          15750,
          221704,
          252105,
          1325000,
          43299,
          198057,
          31152,
          23400,
          281755,
          373700,
          20000,
          144000,
          900000,
          198057,
          198057,
          789079,
          144000,
          144000,
          250000,
          198057,
          552860,
          56000,
          56000,
          75165,
          9000,
          274096,
          1700000,
          144000,
          115020,
          274096,
          2486000,
          198057,
          144000,
          228690,
          12285,
          789079,
          44627,
          259000,
          259000,
          8500,
          198057,
          789079,
          274096,
          198057,
          274096,
          198057,
          144000,
          144000,
          121758,
          50000,
          360000,
          120721,
          198057,
          789079,
          1993000,
          47040,
          228690,
          364000,
          88800,
          144000,
          789079,
          144000,
          522000,
          198057,
          31220,
          56000,
          null,
          900000,
          100000,
          144000,
          367995,
          42000,
          250000,
          625844,
          56000,
          390000,
          115860,
          145079,
          11500,
          198057,
          200000,
          120000,
          274096,
          90000,
          198057,
          373700,
          144000,
          198057,
          176584,
          259000,
          56000,
          156250,
          22747,
          150000,
          198057,
          259000,
          338424,
          8500,
          350000,
          399613,
          725000,
          1100000,
          1040873,
          330000,
          357297,
          144000,
          56000,
          9000,
          198057,
          52782,
          12000,
          450000,
          144000,
          144000,
          198057,
          421316,
          75000,
          860000,
          140400
         ],
         "xaxis": "x",
         "y": [
          "Multifamily",
          "Commercial Office",
          "Commercial Retail",
          "",
          "Multifamily",
          "Commercial Retail",
          "Multifamily",
          "College/University",
          "Commercial Retail",
          "Commercial Retail",
          "Commercial Retail",
          "Multifamily",
          "College/University",
          "Multifamily",
          "Commercial Office",
          "Hospitality",
          "Multifamily",
          "Commercial Office",
          "Commercial Office",
          "Multifamily",
          "Chemicals",
          "Food/Beverage",
          "Commercial Office",
          "Commercial Office",
          "Multifamily",
          "Commercial Office",
          "Healthcare",
          "College/University",
          "Multifamily",
          "Commercial Retail",
          "Healthcare",
          "College/University",
          "Multifamily",
          "Commercial Office",
          "K-12 School",
          "Hospitality",
          "Commercial Office",
          null,
          "Commercial Office",
          "K-12 School",
          "Multifamily",
          "Multifamily",
          "Multifamily",
          "Multifamily",
          "Commercial Office",
          "Commercial Retail",
          "Commercial Office",
          "Multifamily",
          "Commercial Office",
          "K-12 School",
          "Healthcare",
          "Multifamily",
          "Commercial Office",
          "Commercial Retail",
          "K-12 School",
          "Healthcare",
          "Multifamily",
          "College/University",
          "Multifamily",
          "Commercial Retail",
          "Commercial Office",
          "Multifamily",
          "Commercial Office",
          "Multifamily",
          "Healthcare",
          "Commercial Office",
          "Multifamily",
          "Multifamily",
          "Commercial Office",
          "Healthcare",
          "Healthcare",
          "",
          "Multifamily",
          "Commercial Office",
          null,
          "Healthcare",
          "Hospitality",
          "Multifamily",
          "Hospitality",
          "Multifamily",
          "Multifamily",
          "Multifamily",
          "Multifamily",
          "Commercial Office",
          "Commercial Office",
          "Healthcare",
          "Multifamily",
          "College/University",
          "Not For Profit",
          "Multifamily",
          "Healthcare",
          "Commercial Office",
          "Commercial Office",
          "Food/Beverage",
          "Commercial Office",
          null,
          "Commercial Retail",
          "Multifamily",
          "Commercial Office",
          "Multifamily",
          "Commercial Office",
          "Commercial Retail",
          "Commercial Retail",
          "Multifamily",
          "Commercial Office",
          "Commercial Office",
          "Commercial Retail",
          "Commercial Retail",
          "Commercial Retail",
          "Commercial Office",
          "Multifamily",
          "Commercial Office",
          "Multifamily",
          "Commercial Office",
          "Multifamily",
          "Commercial Retail",
          "Multifamily",
          "Multifamily",
          "Commercial Office",
          "K-12 School",
          "Multifamily",
          "Commercial Retail",
          "Healthcare",
          "Commercial Retail",
          "Commercial Retail",
          "Multifamily",
          "Commercial Retail",
          "Commercial Retail",
          "Commercial Office",
          "Commercial Retail",
          "Multifamily",
          "Food/Beverage",
          "Food/Beverage",
          "Multifamily",
          "Food/Beverage",
          "Multifamily",
          "Commercial Office",
          "Commercial Retail",
          "Multifamily",
          "Multifamily",
          "Commercial Office",
          "Commercial Retail",
          "Commercial Retail",
          "K-12 School",
          "Multifamily",
          "Multifamily",
          "Commercial Retail",
          "Not For Profit",
          "Not For Profit",
          "Food/Beverage",
          "Commercial Retail",
          "Multifamily",
          "Multifamily",
          "Commercial Retail",
          "Multifamily",
          "Commercial Retail",
          "Commercial Retail",
          "Commercial Retail",
          "Commercial Office",
          "Multifamily",
          "Commercial Office",
          "Multifamily",
          "Commercial Retail",
          "Multifamily",
          "Manufacturing",
          "Healthcare",
          "K-12 School",
          "Commercial Office",
          "Multifamily",
          "Commercial Retail",
          "Multifamily",
          "Commercial Retail",
          "Commercial Office",
          "Commercial Retail",
          "Multifamily",
          "Food/Beverage",
          "",
          "Commercial Office",
          "Commercial Retail",
          "Commercial Retail",
          "Healthcare",
          "Multifamily",
          "Multifamily",
          "Hospitality",
          "Food/Beverage",
          "Healthcare",
          "Multifamily",
          "Food/Beverage",
          "Multifamily",
          "Commercial Retail",
          "College/University",
          "Commercial Retail",
          "Multifamily",
          "Multifamily",
          "Commercial Retail",
          "K-12 School",
          "Commercial Retail",
          "Commercial Retail",
          "Multifamily",
          "Not For Profit",
          "Food/Beverage",
          "Multifamily",
          "Hospitality",
          "Multifamily",
          "Commercial Retail",
          "Not For Profit",
          "Healthcare",
          "Food/Beverage",
          "Healthcare",
          "Commercial Office",
          "Commercial Office",
          "Commercial Office",
          "Multifamily",
          "Commercial Retail",
          "Multifamily",
          "Commercial Retail",
          "Food/Beverage",
          "Food/Beverage",
          "Commercial Retail",
          "Multifamily",
          "Multifamily",
          "K-12 School",
          "Commercial Retail",
          "Commercial Retail",
          "Commercial Retail",
          "Hospitality",
          "Commercial Office",
          "Commercial Office",
          "Commercial Office"
         ],
         "yaxis": "y"
        }
       ],
       "layout": {
        "legend": {
         "tracegroupgap": 0
        },
        "template": {
         "data": {
          "bar": [
           {
            "error_x": {
             "color": "#2a3f5f"
            },
            "error_y": {
             "color": "#2a3f5f"
            },
            "marker": {
             "line": {
              "color": "#E5ECF6",
              "width": 0.5
             },
             "pattern": {
              "fillmode": "overlay",
              "size": 10,
              "solidity": 0.2
             }
            },
            "type": "bar"
           }
          ],
          "barpolar": [
           {
            "marker": {
             "line": {
              "color": "#E5ECF6",
              "width": 0.5
             },
             "pattern": {
              "fillmode": "overlay",
              "size": 10,
              "solidity": 0.2
             }
            },
            "type": "barpolar"
           }
          ],
          "carpet": [
           {
            "aaxis": {
             "endlinecolor": "#2a3f5f",
             "gridcolor": "white",
             "linecolor": "white",
             "minorgridcolor": "white",
             "startlinecolor": "#2a3f5f"
            },
            "baxis": {
             "endlinecolor": "#2a3f5f",
             "gridcolor": "white",
             "linecolor": "white",
             "minorgridcolor": "white",
             "startlinecolor": "#2a3f5f"
            },
            "type": "carpet"
           }
          ],
          "choropleth": [
           {
            "colorbar": {
             "outlinewidth": 0,
             "ticks": ""
            },
            "type": "choropleth"
           }
          ],
          "contour": [
           {
            "colorbar": {
             "outlinewidth": 0,
             "ticks": ""
            },
            "colorscale": [
             [
              0,
              "#0d0887"
             ],
             [
              0.1111111111111111,
              "#46039f"
             ],
             [
              0.2222222222222222,
              "#7201a8"
             ],
             [
              0.3333333333333333,
              "#9c179e"
             ],
             [
              0.4444444444444444,
              "#bd3786"
             ],
             [
              0.5555555555555556,
              "#d8576b"
             ],
             [
              0.6666666666666666,
              "#ed7953"
             ],
             [
              0.7777777777777778,
              "#fb9f3a"
             ],
             [
              0.8888888888888888,
              "#fdca26"
             ],
             [
              1,
              "#f0f921"
             ]
            ],
            "type": "contour"
           }
          ],
          "contourcarpet": [
           {
            "colorbar": {
             "outlinewidth": 0,
             "ticks": ""
            },
            "type": "contourcarpet"
           }
          ],
          "heatmap": [
           {
            "colorbar": {
             "outlinewidth": 0,
             "ticks": ""
            },
            "colorscale": [
             [
              0,
              "#0d0887"
             ],
             [
              0.1111111111111111,
              "#46039f"
             ],
             [
              0.2222222222222222,
              "#7201a8"
             ],
             [
              0.3333333333333333,
              "#9c179e"
             ],
             [
              0.4444444444444444,
              "#bd3786"
             ],
             [
              0.5555555555555556,
              "#d8576b"
             ],
             [
              0.6666666666666666,
              "#ed7953"
             ],
             [
              0.7777777777777778,
              "#fb9f3a"
             ],
             [
              0.8888888888888888,
              "#fdca26"
             ],
             [
              1,
              "#f0f921"
             ]
            ],
            "type": "heatmap"
           }
          ],
          "heatmapgl": [
           {
            "colorbar": {
             "outlinewidth": 0,
             "ticks": ""
            },
            "colorscale": [
             [
              0,
              "#0d0887"
             ],
             [
              0.1111111111111111,
              "#46039f"
             ],
             [
              0.2222222222222222,
              "#7201a8"
             ],
             [
              0.3333333333333333,
              "#9c179e"
             ],
             [
              0.4444444444444444,
              "#bd3786"
             ],
             [
              0.5555555555555556,
              "#d8576b"
             ],
             [
              0.6666666666666666,
              "#ed7953"
             ],
             [
              0.7777777777777778,
              "#fb9f3a"
             ],
             [
              0.8888888888888888,
              "#fdca26"
             ],
             [
              1,
              "#f0f921"
             ]
            ],
            "type": "heatmapgl"
           }
          ],
          "histogram": [
           {
            "marker": {
             "pattern": {
              "fillmode": "overlay",
              "size": 10,
              "solidity": 0.2
             }
            },
            "type": "histogram"
           }
          ],
          "histogram2d": [
           {
            "colorbar": {
             "outlinewidth": 0,
             "ticks": ""
            },
            "colorscale": [
             [
              0,
              "#0d0887"
             ],
             [
              0.1111111111111111,
              "#46039f"
             ],
             [
              0.2222222222222222,
              "#7201a8"
             ],
             [
              0.3333333333333333,
              "#9c179e"
             ],
             [
              0.4444444444444444,
              "#bd3786"
             ],
             [
              0.5555555555555556,
              "#d8576b"
             ],
             [
              0.6666666666666666,
              "#ed7953"
             ],
             [
              0.7777777777777778,
              "#fb9f3a"
             ],
             [
              0.8888888888888888,
              "#fdca26"
             ],
             [
              1,
              "#f0f921"
             ]
            ],
            "type": "histogram2d"
           }
          ],
          "histogram2dcontour": [
           {
            "colorbar": {
             "outlinewidth": 0,
             "ticks": ""
            },
            "colorscale": [
             [
              0,
              "#0d0887"
             ],
             [
              0.1111111111111111,
              "#46039f"
             ],
             [
              0.2222222222222222,
              "#7201a8"
             ],
             [
              0.3333333333333333,
              "#9c179e"
             ],
             [
              0.4444444444444444,
              "#bd3786"
             ],
             [
              0.5555555555555556,
              "#d8576b"
             ],
             [
              0.6666666666666666,
              "#ed7953"
             ],
             [
              0.7777777777777778,
              "#fb9f3a"
             ],
             [
              0.8888888888888888,
              "#fdca26"
             ],
             [
              1,
              "#f0f921"
             ]
            ],
            "type": "histogram2dcontour"
           }
          ],
          "mesh3d": [
           {
            "colorbar": {
             "outlinewidth": 0,
             "ticks": ""
            },
            "type": "mesh3d"
           }
          ],
          "parcoords": [
           {
            "line": {
             "colorbar": {
              "outlinewidth": 0,
              "ticks": ""
             }
            },
            "type": "parcoords"
           }
          ],
          "pie": [
           {
            "automargin": true,
            "type": "pie"
           }
          ],
          "scatter": [
           {
            "marker": {
             "colorbar": {
              "outlinewidth": 0,
              "ticks": ""
             }
            },
            "type": "scatter"
           }
          ],
          "scatter3d": [
           {
            "line": {
             "colorbar": {
              "outlinewidth": 0,
              "ticks": ""
             }
            },
            "marker": {
             "colorbar": {
              "outlinewidth": 0,
              "ticks": ""
             }
            },
            "type": "scatter3d"
           }
          ],
          "scattercarpet": [
           {
            "marker": {
             "colorbar": {
              "outlinewidth": 0,
              "ticks": ""
             }
            },
            "type": "scattercarpet"
           }
          ],
          "scattergeo": [
           {
            "marker": {
             "colorbar": {
              "outlinewidth": 0,
              "ticks": ""
             }
            },
            "type": "scattergeo"
           }
          ],
          "scattergl": [
           {
            "marker": {
             "colorbar": {
              "outlinewidth": 0,
              "ticks": ""
             }
            },
            "type": "scattergl"
           }
          ],
          "scattermapbox": [
           {
            "marker": {
             "colorbar": {
              "outlinewidth": 0,
              "ticks": ""
             }
            },
            "type": "scattermapbox"
           }
          ],
          "scatterpolar": [
           {
            "marker": {
             "colorbar": {
              "outlinewidth": 0,
              "ticks": ""
             }
            },
            "type": "scatterpolar"
           }
          ],
          "scatterpolargl": [
           {
            "marker": {
             "colorbar": {
              "outlinewidth": 0,
              "ticks": ""
             }
            },
            "type": "scatterpolargl"
           }
          ],
          "scatterternary": [
           {
            "marker": {
             "colorbar": {
              "outlinewidth": 0,
              "ticks": ""
             }
            },
            "type": "scatterternary"
           }
          ],
          "surface": [
           {
            "colorbar": {
             "outlinewidth": 0,
             "ticks": ""
            },
            "colorscale": [
             [
              0,
              "#0d0887"
             ],
             [
              0.1111111111111111,
              "#46039f"
             ],
             [
              0.2222222222222222,
              "#7201a8"
             ],
             [
              0.3333333333333333,
              "#9c179e"
             ],
             [
              0.4444444444444444,
              "#bd3786"
             ],
             [
              0.5555555555555556,
              "#d8576b"
             ],
             [
              0.6666666666666666,
              "#ed7953"
             ],
             [
              0.7777777777777778,
              "#fb9f3a"
             ],
             [
              0.8888888888888888,
              "#fdca26"
             ],
             [
              1,
              "#f0f921"
             ]
            ],
            "type": "surface"
           }
          ],
          "table": [
           {
            "cells": {
             "fill": {
              "color": "#EBF0F8"
             },
             "line": {
              "color": "white"
             }
            },
            "header": {
             "fill": {
              "color": "#C8D4E3"
             },
             "line": {
              "color": "white"
             }
            },
            "type": "table"
           }
          ]
         },
         "layout": {
          "annotationdefaults": {
           "arrowcolor": "#2a3f5f",
           "arrowhead": 0,
           "arrowwidth": 1
          },
          "autotypenumbers": "strict",
          "coloraxis": {
           "colorbar": {
            "outlinewidth": 0,
            "ticks": ""
           }
          },
          "colorscale": {
           "diverging": [
            [
             0,
             "#8e0152"
            ],
            [
             0.1,
             "#c51b7d"
            ],
            [
             0.2,
             "#de77ae"
            ],
            [
             0.3,
             "#f1b6da"
            ],
            [
             0.4,
             "#fde0ef"
            ],
            [
             0.5,
             "#f7f7f7"
            ],
            [
             0.6,
             "#e6f5d0"
            ],
            [
             0.7,
             "#b8e186"
            ],
            [
             0.8,
             "#7fbc41"
            ],
            [
             0.9,
             "#4d9221"
            ],
            [
             1,
             "#276419"
            ]
           ],
           "sequential": [
            [
             0,
             "#0d0887"
            ],
            [
             0.1111111111111111,
             "#46039f"
            ],
            [
             0.2222222222222222,
             "#7201a8"
            ],
            [
             0.3333333333333333,
             "#9c179e"
            ],
            [
             0.4444444444444444,
             "#bd3786"
            ],
            [
             0.5555555555555556,
             "#d8576b"
            ],
            [
             0.6666666666666666,
             "#ed7953"
            ],
            [
             0.7777777777777778,
             "#fb9f3a"
            ],
            [
             0.8888888888888888,
             "#fdca26"
            ],
            [
             1,
             "#f0f921"
            ]
           ],
           "sequentialminus": [
            [
             0,
             "#0d0887"
            ],
            [
             0.1111111111111111,
             "#46039f"
            ],
            [
             0.2222222222222222,
             "#7201a8"
            ],
            [
             0.3333333333333333,
             "#9c179e"
            ],
            [
             0.4444444444444444,
             "#bd3786"
            ],
            [
             0.5555555555555556,
             "#d8576b"
            ],
            [
             0.6666666666666666,
             "#ed7953"
            ],
            [
             0.7777777777777778,
             "#fb9f3a"
            ],
            [
             0.8888888888888888,
             "#fdca26"
            ],
            [
             1,
             "#f0f921"
            ]
           ]
          },
          "colorway": [
           "#636efa",
           "#EF553B",
           "#00cc96",
           "#ab63fa",
           "#FFA15A",
           "#19d3f3",
           "#FF6692",
           "#B6E880",
           "#FF97FF",
           "#FECB52"
          ],
          "font": {
           "color": "#2a3f5f"
          },
          "geo": {
           "bgcolor": "white",
           "lakecolor": "white",
           "landcolor": "#E5ECF6",
           "showlakes": true,
           "showland": true,
           "subunitcolor": "white"
          },
          "hoverlabel": {
           "align": "left"
          },
          "hovermode": "closest",
          "mapbox": {
           "style": "light"
          },
          "paper_bgcolor": "white",
          "plot_bgcolor": "#E5ECF6",
          "polar": {
           "angularaxis": {
            "gridcolor": "white",
            "linecolor": "white",
            "ticks": ""
           },
           "bgcolor": "#E5ECF6",
           "radialaxis": {
            "gridcolor": "white",
            "linecolor": "white",
            "ticks": ""
           }
          },
          "scene": {
           "xaxis": {
            "backgroundcolor": "#E5ECF6",
            "gridcolor": "white",
            "gridwidth": 2,
            "linecolor": "white",
            "showbackground": true,
            "ticks": "",
            "zerolinecolor": "white"
           },
           "yaxis": {
            "backgroundcolor": "#E5ECF6",
            "gridcolor": "white",
            "gridwidth": 2,
            "linecolor": "white",
            "showbackground": true,
            "ticks": "",
            "zerolinecolor": "white"
           },
           "zaxis": {
            "backgroundcolor": "#E5ECF6",
            "gridcolor": "white",
            "gridwidth": 2,
            "linecolor": "white",
            "showbackground": true,
            "ticks": "",
            "zerolinecolor": "white"
           }
          },
          "shapedefaults": {
           "line": {
            "color": "#2a3f5f"
           }
          },
          "ternary": {
           "aaxis": {
            "gridcolor": "white",
            "linecolor": "white",
            "ticks": ""
           },
           "baxis": {
            "gridcolor": "white",
            "linecolor": "white",
            "ticks": ""
           },
           "bgcolor": "#E5ECF6",
           "caxis": {
            "gridcolor": "white",
            "linecolor": "white",
            "ticks": ""
           }
          },
          "title": {
           "x": 0.05
          },
          "xaxis": {
           "automargin": true,
           "gridcolor": "white",
           "linecolor": "white",
           "ticks": "",
           "title": {
            "standoff": 15
           },
           "zerolinecolor": "white",
           "zerolinewidth": 2
          },
          "yaxis": {
           "automargin": true,
           "gridcolor": "white",
           "linecolor": "white",
           "ticks": "",
           "title": {
            "standoff": 15
           },
           "zerolinecolor": "white",
           "zerolinewidth": 2
          }
         }
        },
        "title": {
         "text": "Building Typology by area"
        },
        "xaxis": {
         "anchor": "y",
         "domain": [
          0,
          1
         ],
         "title": {
          "text": "sq_ft"
         }
        },
        "yaxis": {
         "anchor": "x",
         "domain": [
          0,
          1
         ],
         "title": {
          "text": "customerType"
         }
        }
       }
      }
     },
     "metadata": {},
     "output_type": "display_data"
    }
   ],
   "source": [
    "df_buildings_flt.plot(kind='scatter',\n",
    "x = 'sq_ft',\n",
    "y = 'customerType',\n",
    "title = \"Building Typology by area\",\n",
    "c='geoCity')"
   ]
  },
  {
   "cell_type": "code",
   "execution_count": 29,
   "metadata": {},
   "outputs": [
    {
     "data": {
      "application/vnd.plotly.v1+json": {
       "config": {
        "plotlyServerURL": "https://plot.ly"
       },
       "data": [
        {
         "alignmentgroup": "True",
         "hovertemplate": "variable=customerType<br>value=%{x}<br>count=%{y}<extra></extra>",
         "legendgroup": "customerType",
         "marker": {
          "color": "#636efa",
          "pattern": {
           "shape": ""
          }
         },
         "name": "customerType",
         "offsetgroup": "customerType",
         "orientation": "v",
         "showlegend": true,
         "textposition": "auto",
         "type": "bar",
         "x": [
          "Multifamily",
          "Commercial Office",
          "Commercial Retail",
          "",
          "Multifamily",
          "Commercial Retail",
          "Multifamily",
          "College/University",
          "Commercial Retail",
          "Commercial Retail",
          "Commercial Retail",
          "Multifamily",
          "College/University",
          "Multifamily",
          "Commercial Office",
          "Hospitality",
          "Multifamily",
          "Commercial Office",
          "Commercial Office",
          "Multifamily",
          "Chemicals",
          "Food/Beverage",
          "Commercial Office",
          "Commercial Office",
          "Multifamily",
          "Commercial Office",
          "Healthcare",
          "College/University",
          "Multifamily",
          "Commercial Retail",
          "Healthcare",
          "College/University",
          "Multifamily",
          "Commercial Office",
          "K-12 School",
          "Hospitality",
          "Commercial Office",
          null,
          "Commercial Office",
          "K-12 School",
          "Multifamily",
          "Multifamily",
          "Multifamily",
          "Multifamily",
          "Commercial Office",
          "Commercial Retail",
          "Commercial Office",
          "Multifamily",
          "Commercial Office",
          "K-12 School",
          "Healthcare",
          "Multifamily",
          "Commercial Office",
          "Commercial Retail",
          "K-12 School",
          "Healthcare",
          "Multifamily",
          "College/University",
          "Multifamily",
          "Commercial Retail",
          "Commercial Office",
          "Multifamily",
          "Commercial Office",
          "Multifamily",
          "Healthcare",
          "Commercial Office",
          "Multifamily",
          "Multifamily",
          "Commercial Office",
          "Healthcare",
          "Healthcare",
          "",
          "Multifamily",
          "Commercial Office",
          null,
          "Healthcare",
          "Hospitality",
          "Multifamily",
          "Hospitality",
          "Multifamily",
          "Multifamily",
          "Multifamily",
          "Multifamily",
          "Commercial Office",
          "Commercial Office",
          "Healthcare",
          "Multifamily",
          "College/University",
          "Not For Profit",
          "Multifamily",
          "Healthcare",
          "Commercial Office",
          "Commercial Office",
          "Food/Beverage",
          "Commercial Office",
          null,
          "Commercial Retail",
          "Multifamily",
          "Commercial Office",
          "Multifamily",
          "Commercial Office",
          "Commercial Retail",
          "Commercial Retail",
          "Multifamily",
          "Commercial Office",
          "Commercial Office",
          "Commercial Retail",
          "Commercial Retail",
          "Commercial Retail",
          "Commercial Office",
          "Multifamily",
          "Commercial Office",
          "Multifamily",
          "Commercial Office",
          "Multifamily",
          "Commercial Retail",
          "Multifamily",
          "Multifamily",
          "Commercial Office",
          "K-12 School",
          "Multifamily",
          "Commercial Retail",
          "Healthcare",
          "Commercial Retail",
          "Commercial Retail",
          "Multifamily",
          "Commercial Retail",
          "Commercial Retail",
          "Commercial Office",
          "Commercial Retail",
          "Multifamily",
          "Food/Beverage",
          "Food/Beverage",
          "Multifamily",
          "Food/Beverage",
          "Multifamily",
          "Commercial Office",
          "Commercial Retail",
          "Multifamily",
          "Multifamily",
          "Commercial Office",
          "Commercial Retail",
          "Commercial Retail",
          "K-12 School",
          "Multifamily",
          "Multifamily",
          "Commercial Retail",
          "Not For Profit",
          "Not For Profit",
          "Food/Beverage",
          "Commercial Retail",
          "Multifamily",
          "Multifamily",
          "Commercial Retail",
          "Multifamily",
          "Commercial Retail",
          "Commercial Retail",
          "Commercial Retail",
          "Commercial Office",
          "Multifamily",
          "Commercial Office",
          "Multifamily",
          "Commercial Retail",
          "Multifamily",
          "Manufacturing",
          "Healthcare",
          "K-12 School",
          "Commercial Office",
          "Multifamily",
          "Commercial Retail",
          "Multifamily",
          "Commercial Retail",
          "Commercial Office",
          "Commercial Retail",
          "Multifamily",
          "Food/Beverage",
          "",
          "Commercial Office",
          "Commercial Retail",
          "Commercial Retail",
          "Healthcare",
          "Multifamily",
          "Multifamily",
          "Hospitality",
          "Food/Beverage",
          "Healthcare",
          "Multifamily",
          "Food/Beverage",
          "Multifamily",
          "Commercial Retail",
          "College/University",
          "Commercial Retail",
          "Multifamily",
          "Multifamily",
          "Commercial Retail",
          "K-12 School",
          "Commercial Retail",
          "Commercial Retail",
          "Multifamily",
          "Not For Profit",
          "Food/Beverage",
          "Multifamily",
          "Hospitality",
          "Multifamily",
          "Commercial Retail",
          "Not For Profit",
          "Healthcare",
          "Food/Beverage",
          "Healthcare",
          "Commercial Office",
          "Commercial Office",
          "Commercial Office",
          "Multifamily",
          "Commercial Retail",
          "Multifamily",
          "Commercial Retail",
          "Food/Beverage",
          "Food/Beverage",
          "Commercial Retail",
          "Multifamily",
          "Multifamily",
          "K-12 School",
          "Commercial Retail",
          "Commercial Retail",
          "Commercial Retail",
          "Hospitality",
          "Commercial Office",
          "Commercial Office",
          "Commercial Office"
         ],
         "xaxis": "x",
         "y": [
          1,
          1,
          1,
          1,
          1,
          1,
          1,
          1,
          1,
          1,
          1,
          1,
          1,
          1,
          1,
          1,
          1,
          1,
          1,
          1,
          1,
          1,
          1,
          1,
          1,
          1,
          1,
          1,
          1,
          1,
          1,
          1,
          1,
          1,
          1,
          1,
          1,
          1,
          1,
          1,
          1,
          1,
          1,
          1,
          1,
          1,
          1,
          1,
          1,
          1,
          1,
          1,
          1,
          1,
          1,
          1,
          1,
          1,
          1,
          1,
          1,
          1,
          1,
          1,
          1,
          1,
          1,
          1,
          1,
          1,
          1,
          1,
          1,
          1,
          1,
          1,
          1,
          1,
          1,
          1,
          1,
          1,
          1,
          1,
          1,
          1,
          1,
          1,
          1,
          1,
          1,
          1,
          1,
          1,
          1,
          1,
          1,
          1,
          1,
          1,
          1,
          1,
          1,
          1,
          1,
          1,
          1,
          1,
          1,
          1,
          1,
          1,
          1,
          1,
          1,
          1,
          1,
          1,
          1,
          1,
          1,
          1,
          1,
          1,
          1,
          1,
          1,
          1,
          1,
          1,
          1,
          1,
          1,
          1,
          1,
          1,
          1,
          1,
          1,
          1,
          1,
          1,
          1,
          1,
          1,
          1,
          1,
          1,
          1,
          1,
          1,
          1,
          1,
          1,
          1,
          1,
          1,
          1,
          1,
          1,
          1,
          1,
          1,
          1,
          1,
          1,
          1,
          1,
          1,
          1,
          1,
          1,
          1,
          1,
          1,
          1,
          1,
          1,
          1,
          1,
          1,
          1,
          1,
          1,
          1,
          1,
          1,
          1,
          1,
          1,
          1,
          1,
          1,
          1,
          1,
          1,
          1,
          1,
          1,
          1,
          1,
          1,
          1,
          1,
          1,
          1,
          1,
          1,
          1,
          1,
          1,
          1,
          1,
          1,
          1,
          1,
          1,
          1,
          1,
          1,
          1,
          1,
          1,
          1,
          1,
          1,
          1,
          1,
          1
         ],
         "yaxis": "y"
        }
       ],
       "layout": {
        "barmode": "relative",
        "legend": {
         "title": {
          "text": "variable"
         },
         "tracegroupgap": 0
        },
        "template": {
         "data": {
          "bar": [
           {
            "error_x": {
             "color": "#2a3f5f"
            },
            "error_y": {
             "color": "#2a3f5f"
            },
            "marker": {
             "line": {
              "color": "#E5ECF6",
              "width": 0.5
             },
             "pattern": {
              "fillmode": "overlay",
              "size": 10,
              "solidity": 0.2
             }
            },
            "type": "bar"
           }
          ],
          "barpolar": [
           {
            "marker": {
             "line": {
              "color": "#E5ECF6",
              "width": 0.5
             },
             "pattern": {
              "fillmode": "overlay",
              "size": 10,
              "solidity": 0.2
             }
            },
            "type": "barpolar"
           }
          ],
          "carpet": [
           {
            "aaxis": {
             "endlinecolor": "#2a3f5f",
             "gridcolor": "white",
             "linecolor": "white",
             "minorgridcolor": "white",
             "startlinecolor": "#2a3f5f"
            },
            "baxis": {
             "endlinecolor": "#2a3f5f",
             "gridcolor": "white",
             "linecolor": "white",
             "minorgridcolor": "white",
             "startlinecolor": "#2a3f5f"
            },
            "type": "carpet"
           }
          ],
          "choropleth": [
           {
            "colorbar": {
             "outlinewidth": 0,
             "ticks": ""
            },
            "type": "choropleth"
           }
          ],
          "contour": [
           {
            "colorbar": {
             "outlinewidth": 0,
             "ticks": ""
            },
            "colorscale": [
             [
              0,
              "#0d0887"
             ],
             [
              0.1111111111111111,
              "#46039f"
             ],
             [
              0.2222222222222222,
              "#7201a8"
             ],
             [
              0.3333333333333333,
              "#9c179e"
             ],
             [
              0.4444444444444444,
              "#bd3786"
             ],
             [
              0.5555555555555556,
              "#d8576b"
             ],
             [
              0.6666666666666666,
              "#ed7953"
             ],
             [
              0.7777777777777778,
              "#fb9f3a"
             ],
             [
              0.8888888888888888,
              "#fdca26"
             ],
             [
              1,
              "#f0f921"
             ]
            ],
            "type": "contour"
           }
          ],
          "contourcarpet": [
           {
            "colorbar": {
             "outlinewidth": 0,
             "ticks": ""
            },
            "type": "contourcarpet"
           }
          ],
          "heatmap": [
           {
            "colorbar": {
             "outlinewidth": 0,
             "ticks": ""
            },
            "colorscale": [
             [
              0,
              "#0d0887"
             ],
             [
              0.1111111111111111,
              "#46039f"
             ],
             [
              0.2222222222222222,
              "#7201a8"
             ],
             [
              0.3333333333333333,
              "#9c179e"
             ],
             [
              0.4444444444444444,
              "#bd3786"
             ],
             [
              0.5555555555555556,
              "#d8576b"
             ],
             [
              0.6666666666666666,
              "#ed7953"
             ],
             [
              0.7777777777777778,
              "#fb9f3a"
             ],
             [
              0.8888888888888888,
              "#fdca26"
             ],
             [
              1,
              "#f0f921"
             ]
            ],
            "type": "heatmap"
           }
          ],
          "heatmapgl": [
           {
            "colorbar": {
             "outlinewidth": 0,
             "ticks": ""
            },
            "colorscale": [
             [
              0,
              "#0d0887"
             ],
             [
              0.1111111111111111,
              "#46039f"
             ],
             [
              0.2222222222222222,
              "#7201a8"
             ],
             [
              0.3333333333333333,
              "#9c179e"
             ],
             [
              0.4444444444444444,
              "#bd3786"
             ],
             [
              0.5555555555555556,
              "#d8576b"
             ],
             [
              0.6666666666666666,
              "#ed7953"
             ],
             [
              0.7777777777777778,
              "#fb9f3a"
             ],
             [
              0.8888888888888888,
              "#fdca26"
             ],
             [
              1,
              "#f0f921"
             ]
            ],
            "type": "heatmapgl"
           }
          ],
          "histogram": [
           {
            "marker": {
             "pattern": {
              "fillmode": "overlay",
              "size": 10,
              "solidity": 0.2
             }
            },
            "type": "histogram"
           }
          ],
          "histogram2d": [
           {
            "colorbar": {
             "outlinewidth": 0,
             "ticks": ""
            },
            "colorscale": [
             [
              0,
              "#0d0887"
             ],
             [
              0.1111111111111111,
              "#46039f"
             ],
             [
              0.2222222222222222,
              "#7201a8"
             ],
             [
              0.3333333333333333,
              "#9c179e"
             ],
             [
              0.4444444444444444,
              "#bd3786"
             ],
             [
              0.5555555555555556,
              "#d8576b"
             ],
             [
              0.6666666666666666,
              "#ed7953"
             ],
             [
              0.7777777777777778,
              "#fb9f3a"
             ],
             [
              0.8888888888888888,
              "#fdca26"
             ],
             [
              1,
              "#f0f921"
             ]
            ],
            "type": "histogram2d"
           }
          ],
          "histogram2dcontour": [
           {
            "colorbar": {
             "outlinewidth": 0,
             "ticks": ""
            },
            "colorscale": [
             [
              0,
              "#0d0887"
             ],
             [
              0.1111111111111111,
              "#46039f"
             ],
             [
              0.2222222222222222,
              "#7201a8"
             ],
             [
              0.3333333333333333,
              "#9c179e"
             ],
             [
              0.4444444444444444,
              "#bd3786"
             ],
             [
              0.5555555555555556,
              "#d8576b"
             ],
             [
              0.6666666666666666,
              "#ed7953"
             ],
             [
              0.7777777777777778,
              "#fb9f3a"
             ],
             [
              0.8888888888888888,
              "#fdca26"
             ],
             [
              1,
              "#f0f921"
             ]
            ],
            "type": "histogram2dcontour"
           }
          ],
          "mesh3d": [
           {
            "colorbar": {
             "outlinewidth": 0,
             "ticks": ""
            },
            "type": "mesh3d"
           }
          ],
          "parcoords": [
           {
            "line": {
             "colorbar": {
              "outlinewidth": 0,
              "ticks": ""
             }
            },
            "type": "parcoords"
           }
          ],
          "pie": [
           {
            "automargin": true,
            "type": "pie"
           }
          ],
          "scatter": [
           {
            "marker": {
             "colorbar": {
              "outlinewidth": 0,
              "ticks": ""
             }
            },
            "type": "scatter"
           }
          ],
          "scatter3d": [
           {
            "line": {
             "colorbar": {
              "outlinewidth": 0,
              "ticks": ""
             }
            },
            "marker": {
             "colorbar": {
              "outlinewidth": 0,
              "ticks": ""
             }
            },
            "type": "scatter3d"
           }
          ],
          "scattercarpet": [
           {
            "marker": {
             "colorbar": {
              "outlinewidth": 0,
              "ticks": ""
             }
            },
            "type": "scattercarpet"
           }
          ],
          "scattergeo": [
           {
            "marker": {
             "colorbar": {
              "outlinewidth": 0,
              "ticks": ""
             }
            },
            "type": "scattergeo"
           }
          ],
          "scattergl": [
           {
            "marker": {
             "colorbar": {
              "outlinewidth": 0,
              "ticks": ""
             }
            },
            "type": "scattergl"
           }
          ],
          "scattermapbox": [
           {
            "marker": {
             "colorbar": {
              "outlinewidth": 0,
              "ticks": ""
             }
            },
            "type": "scattermapbox"
           }
          ],
          "scatterpolar": [
           {
            "marker": {
             "colorbar": {
              "outlinewidth": 0,
              "ticks": ""
             }
            },
            "type": "scatterpolar"
           }
          ],
          "scatterpolargl": [
           {
            "marker": {
             "colorbar": {
              "outlinewidth": 0,
              "ticks": ""
             }
            },
            "type": "scatterpolargl"
           }
          ],
          "scatterternary": [
           {
            "marker": {
             "colorbar": {
              "outlinewidth": 0,
              "ticks": ""
             }
            },
            "type": "scatterternary"
           }
          ],
          "surface": [
           {
            "colorbar": {
             "outlinewidth": 0,
             "ticks": ""
            },
            "colorscale": [
             [
              0,
              "#0d0887"
             ],
             [
              0.1111111111111111,
              "#46039f"
             ],
             [
              0.2222222222222222,
              "#7201a8"
             ],
             [
              0.3333333333333333,
              "#9c179e"
             ],
             [
              0.4444444444444444,
              "#bd3786"
             ],
             [
              0.5555555555555556,
              "#d8576b"
             ],
             [
              0.6666666666666666,
              "#ed7953"
             ],
             [
              0.7777777777777778,
              "#fb9f3a"
             ],
             [
              0.8888888888888888,
              "#fdca26"
             ],
             [
              1,
              "#f0f921"
             ]
            ],
            "type": "surface"
           }
          ],
          "table": [
           {
            "cells": {
             "fill": {
              "color": "#EBF0F8"
             },
             "line": {
              "color": "white"
             }
            },
            "header": {
             "fill": {
              "color": "#C8D4E3"
             },
             "line": {
              "color": "white"
             }
            },
            "type": "table"
           }
          ]
         },
         "layout": {
          "annotationdefaults": {
           "arrowcolor": "#2a3f5f",
           "arrowhead": 0,
           "arrowwidth": 1
          },
          "autotypenumbers": "strict",
          "coloraxis": {
           "colorbar": {
            "outlinewidth": 0,
            "ticks": ""
           }
          },
          "colorscale": {
           "diverging": [
            [
             0,
             "#8e0152"
            ],
            [
             0.1,
             "#c51b7d"
            ],
            [
             0.2,
             "#de77ae"
            ],
            [
             0.3,
             "#f1b6da"
            ],
            [
             0.4,
             "#fde0ef"
            ],
            [
             0.5,
             "#f7f7f7"
            ],
            [
             0.6,
             "#e6f5d0"
            ],
            [
             0.7,
             "#b8e186"
            ],
            [
             0.8,
             "#7fbc41"
            ],
            [
             0.9,
             "#4d9221"
            ],
            [
             1,
             "#276419"
            ]
           ],
           "sequential": [
            [
             0,
             "#0d0887"
            ],
            [
             0.1111111111111111,
             "#46039f"
            ],
            [
             0.2222222222222222,
             "#7201a8"
            ],
            [
             0.3333333333333333,
             "#9c179e"
            ],
            [
             0.4444444444444444,
             "#bd3786"
            ],
            [
             0.5555555555555556,
             "#d8576b"
            ],
            [
             0.6666666666666666,
             "#ed7953"
            ],
            [
             0.7777777777777778,
             "#fb9f3a"
            ],
            [
             0.8888888888888888,
             "#fdca26"
            ],
            [
             1,
             "#f0f921"
            ]
           ],
           "sequentialminus": [
            [
             0,
             "#0d0887"
            ],
            [
             0.1111111111111111,
             "#46039f"
            ],
            [
             0.2222222222222222,
             "#7201a8"
            ],
            [
             0.3333333333333333,
             "#9c179e"
            ],
            [
             0.4444444444444444,
             "#bd3786"
            ],
            [
             0.5555555555555556,
             "#d8576b"
            ],
            [
             0.6666666666666666,
             "#ed7953"
            ],
            [
             0.7777777777777778,
             "#fb9f3a"
            ],
            [
             0.8888888888888888,
             "#fdca26"
            ],
            [
             1,
             "#f0f921"
            ]
           ]
          },
          "colorway": [
           "#636efa",
           "#EF553B",
           "#00cc96",
           "#ab63fa",
           "#FFA15A",
           "#19d3f3",
           "#FF6692",
           "#B6E880",
           "#FF97FF",
           "#FECB52"
          ],
          "font": {
           "color": "#2a3f5f"
          },
          "geo": {
           "bgcolor": "white",
           "lakecolor": "white",
           "landcolor": "#E5ECF6",
           "showlakes": true,
           "showland": true,
           "subunitcolor": "white"
          },
          "hoverlabel": {
           "align": "left"
          },
          "hovermode": "closest",
          "mapbox": {
           "style": "light"
          },
          "paper_bgcolor": "white",
          "plot_bgcolor": "#E5ECF6",
          "polar": {
           "angularaxis": {
            "gridcolor": "white",
            "linecolor": "white",
            "ticks": ""
           },
           "bgcolor": "#E5ECF6",
           "radialaxis": {
            "gridcolor": "white",
            "linecolor": "white",
            "ticks": ""
           }
          },
          "scene": {
           "xaxis": {
            "backgroundcolor": "#E5ECF6",
            "gridcolor": "white",
            "gridwidth": 2,
            "linecolor": "white",
            "showbackground": true,
            "ticks": "",
            "zerolinecolor": "white"
           },
           "yaxis": {
            "backgroundcolor": "#E5ECF6",
            "gridcolor": "white",
            "gridwidth": 2,
            "linecolor": "white",
            "showbackground": true,
            "ticks": "",
            "zerolinecolor": "white"
           },
           "zaxis": {
            "backgroundcolor": "#E5ECF6",
            "gridcolor": "white",
            "gridwidth": 2,
            "linecolor": "white",
            "showbackground": true,
            "ticks": "",
            "zerolinecolor": "white"
           }
          },
          "shapedefaults": {
           "line": {
            "color": "#2a3f5f"
           }
          },
          "ternary": {
           "aaxis": {
            "gridcolor": "white",
            "linecolor": "white",
            "ticks": ""
           },
           "baxis": {
            "gridcolor": "white",
            "linecolor": "white",
            "ticks": ""
           },
           "bgcolor": "#E5ECF6",
           "caxis": {
            "gridcolor": "white",
            "linecolor": "white",
            "ticks": ""
           }
          },
          "title": {
           "x": 0.05
          },
          "xaxis": {
           "automargin": true,
           "gridcolor": "white",
           "linecolor": "white",
           "ticks": "",
           "title": {
            "standoff": 15
           },
           "zerolinecolor": "white",
           "zerolinewidth": 2
          },
          "yaxis": {
           "automargin": true,
           "gridcolor": "white",
           "linecolor": "white",
           "ticks": "",
           "title": {
            "standoff": 15
           },
           "zerolinecolor": "white",
           "zerolinewidth": 2
          }
         }
        },
        "title": {
         "text": "Counts of buildings by curtomer type"
        },
        "xaxis": {
         "anchor": "y",
         "domain": [
          0,
          1
         ],
         "title": {
          "text": "value"
         }
        },
        "yaxis": {
         "anchor": "x",
         "domain": [
          0,
          1
         ],
         "title": {
          "text": "count"
         }
        }
       }
      }
     },
     "metadata": {},
     "output_type": "display_data"
    }
   ],
   "source": [
    "df_buildings_flt[[\"customerType\"]].plot(kind='bar', title = \"Counts of buildings by curtomer type\")"
   ]
  },
  {
   "cell_type": "markdown",
   "metadata": {},
   "source": [
    "## Now some function to help select buildings"
   ]
  },
  {
   "cell_type": "code",
   "execution_count": 20,
   "metadata": {},
   "outputs": [],
   "source": [
    "def sb_buildings_by_function(df,function_string):\n",
    "    \"\"\"Function to get all buildings from the all buildings dataframe and filter them by function\n",
    "    params:\n",
    "    df: A pandas dataframe\n",
    "    function_string : A list of string functions\n",
    "    return: Filtered pandas dataframe\"\"\"\n",
    "    filtered_df = df[df[\"customerType\"]==function_string]\n",
    "    return filtered_df\n",
    "    "
   ]
  },
  {
   "cell_type": "code",
   "execution_count": 21,
   "metadata": {},
   "outputs": [
    {
     "data": {
      "text/html": [
       "<div>\n",
       "<style scoped>\n",
       "    .dataframe tbody tr th:only-of-type {\n",
       "        vertical-align: middle;\n",
       "    }\n",
       "\n",
       "    .dataframe tbody tr th {\n",
       "        vertical-align: top;\n",
       "    }\n",
       "\n",
       "    .dataframe thead th {\n",
       "        text-align: right;\n",
       "    }\n",
       "</style>\n",
       "<table border=\"1\" class=\"dataframe\">\n",
       "  <thead>\n",
       "    <tr style=\"text-align: right;\">\n",
       "      <th></th>\n",
       "      <th>id</th>\n",
       "      <th>org_id</th>\n",
       "      <th>name</th>\n",
       "      <th>address</th>\n",
       "      <th>sq_ft</th>\n",
       "      <th>image_src</th>\n",
       "      <th>bms_manufacturer</th>\n",
       "      <th>bms_product_name</th>\n",
       "      <th>bms_version</th>\n",
       "      <th>timezone</th>\n",
       "      <th>...</th>\n",
       "      <th>sunend</th>\n",
       "      <th>geoCity</th>\n",
       "      <th>geoState</th>\n",
       "      <th>m2fstart</th>\n",
       "      <th>satstart</th>\n",
       "      <th>sunstart</th>\n",
       "      <th>yearBuilt</th>\n",
       "      <th>geoCountry</th>\n",
       "      <th>weatherRef</th>\n",
       "      <th>customerType</th>\n",
       "    </tr>\n",
       "  </thead>\n",
       "  <tbody>\n",
       "    <tr>\n",
       "      <th>0</th>\n",
       "      <td>441</td>\n",
       "      <td>5</td>\n",
       "      <td>88737</td>\n",
       "      <td>None</td>\n",
       "      <td>551143.0</td>\n",
       "      <td>None</td>\n",
       "      <td>None</td>\n",
       "      <td>None</td>\n",
       "      <td>None</td>\n",
       "      <td>America/New_York</td>\n",
       "      <td>...</td>\n",
       "      <td></td>\n",
       "      <td>Bronx</td>\n",
       "      <td>NY</td>\n",
       "      <td></td>\n",
       "      <td></td>\n",
       "      <td></td>\n",
       "      <td></td>\n",
       "      <td>US</td>\n",
       "      <td></td>\n",
       "      <td>Multifamily</td>\n",
       "    </tr>\n",
       "    <tr>\n",
       "      <th>4</th>\n",
       "      <td>248</td>\n",
       "      <td>5</td>\n",
       "      <td>116742</td>\n",
       "      <td>None</td>\n",
       "      <td>127000.0</td>\n",
       "      <td>None</td>\n",
       "      <td>None</td>\n",
       "      <td>None</td>\n",
       "      <td>None</td>\n",
       "      <td>America/New_York</td>\n",
       "      <td>...</td>\n",
       "      <td></td>\n",
       "      <td>New York</td>\n",
       "      <td>NY</td>\n",
       "      <td></td>\n",
       "      <td></td>\n",
       "      <td></td>\n",
       "      <td></td>\n",
       "      <td>US</td>\n",
       "      <td></td>\n",
       "      <td>Multifamily</td>\n",
       "    </tr>\n",
       "    <tr>\n",
       "      <th>6</th>\n",
       "      <td>434</td>\n",
       "      <td>5</td>\n",
       "      <td>129666</td>\n",
       "      <td>None</td>\n",
       "      <td>56090.0</td>\n",
       "      <td>None</td>\n",
       "      <td>None</td>\n",
       "      <td>None</td>\n",
       "      <td>None</td>\n",
       "      <td>America/New_York</td>\n",
       "      <td>...</td>\n",
       "      <td></td>\n",
       "      <td>Brooklyn</td>\n",
       "      <td>NY</td>\n",
       "      <td></td>\n",
       "      <td></td>\n",
       "      <td></td>\n",
       "      <td></td>\n",
       "      <td>US</td>\n",
       "      <td></td>\n",
       "      <td>Multifamily</td>\n",
       "    </tr>\n",
       "    <tr>\n",
       "      <th>11</th>\n",
       "      <td>317</td>\n",
       "      <td>5</td>\n",
       "      <td>128286</td>\n",
       "      <td>None</td>\n",
       "      <td>35000.0</td>\n",
       "      <td>None</td>\n",
       "      <td>None</td>\n",
       "      <td>None</td>\n",
       "      <td>None</td>\n",
       "      <td>America/New_York</td>\n",
       "      <td>...</td>\n",
       "      <td></td>\n",
       "      <td>New York</td>\n",
       "      <td>NY</td>\n",
       "      <td></td>\n",
       "      <td></td>\n",
       "      <td></td>\n",
       "      <td></td>\n",
       "      <td>US</td>\n",
       "      <td></td>\n",
       "      <td>Multifamily</td>\n",
       "    </tr>\n",
       "    <tr>\n",
       "      <th>13</th>\n",
       "      <td>375</td>\n",
       "      <td>5</td>\n",
       "      <td>97789</td>\n",
       "      <td>None</td>\n",
       "      <td>232808.0</td>\n",
       "      <td>None</td>\n",
       "      <td>None</td>\n",
       "      <td>None</td>\n",
       "      <td>None</td>\n",
       "      <td>America/New_York</td>\n",
       "      <td>...</td>\n",
       "      <td></td>\n",
       "      <td>BRONX</td>\n",
       "      <td>NY</td>\n",
       "      <td></td>\n",
       "      <td></td>\n",
       "      <td></td>\n",
       "      <td></td>\n",
       "      <td>US</td>\n",
       "      <td></td>\n",
       "      <td>Multifamily</td>\n",
       "    </tr>\n",
       "  </tbody>\n",
       "</table>\n",
       "<p>5 rows × 27 columns</p>\n",
       "</div>"
      ],
      "text/plain": [
       "     id  org_id    name address     sq_ft image_src bms_manufacturer  \\\n",
       "0   441       5   88737    None  551143.0      None             None   \n",
       "4   248       5  116742    None  127000.0      None             None   \n",
       "6   434       5  129666    None   56090.0      None             None   \n",
       "11  317       5  128286    None   35000.0      None             None   \n",
       "13  375       5   97789    None  232808.0      None             None   \n",
       "\n",
       "   bms_product_name bms_version          timezone  ... sunend   geoCity  \\\n",
       "0              None        None  America/New_York  ...            Bronx   \n",
       "4              None        None  America/New_York  ...         New York   \n",
       "6              None        None  America/New_York  ...         Brooklyn   \n",
       "11             None        None  America/New_York  ...         New York   \n",
       "13             None        None  America/New_York  ...            BRONX   \n",
       "\n",
       "    geoState m2fstart satstart sunstart yearBuilt geoCountry weatherRef  \\\n",
       "0         NY                                              US              \n",
       "4         NY                                              US              \n",
       "6         NY                                              US              \n",
       "11        NY                                              US              \n",
       "13        NY                                              US              \n",
       "\n",
       "   customerType  \n",
       "0   Multifamily  \n",
       "4   Multifamily  \n",
       "6   Multifamily  \n",
       "11  Multifamily  \n",
       "13  Multifamily  \n",
       "\n",
       "[5 rows x 27 columns]"
      ]
     },
     "execution_count": 21,
     "metadata": {},
     "output_type": "execute_result"
    }
   ],
   "source": [
    "df_multifamily = sb_buildings_by_function(df_buildings_flt,\"Multifamily\")\n",
    "df_multifamily.head()"
   ]
  },
  {
   "cell_type": "markdown",
   "metadata": {},
   "source": [
    "## Going into the building sensors now"
   ]
  },
  {
   "cell_type": "code",
   "execution_count": 52,
   "metadata": {},
   "outputs": [],
   "source": [
    "#Lets start with this building\n",
    "all_buildings = df_multifamily[\"id\"].to_list()"
   ]
  },
  {
   "cell_type": "code",
   "execution_count": 54,
   "metadata": {},
   "outputs": [],
   "source": [
    "query = PointSelector()\n",
    "query.point_types     = ['Hot Water Return Temperature']        # can list multiple point\n",
    "query.equipment_types = ['boiler']     # types, equipment types,\n",
    "query.buildings       = all_buildings        # buildings, etc.\n",
    "selection = client.select_points(query)\n",
    "points = selection[\"points\"]\n",
    "\n",
    "sensor_metadata = pd.DataFrame(client.get_points_by_ids(points))\n",
    "\n",
    "#start_date = sensor_metadata.last_updated.apply(lambda x: datetime.fromtimestamp(x/1000, timezone.utc)).min()\n",
    "#end_date = sensor_metadata.first_updated.apply(lambda x: datetime.fromtimestamp(x/1000, timezone.utc)).max()\n",
    "\n",
    "tz = pytz.timezone('UTC')\n",
    "start_date = datetime(2018,1,1,0,0,0).replace(tzinfo=tz)\n",
    "end_date = datetime(2018,12,31,0,0,0).replace(tzinfo=tz)\n",
    "\n",
    "timeseries_query = TimeseriesQuery(point_ids = selection['points'], start = start_date, end = end_date)\n",
    "sensor_data = points_df_from_streaming_timeseries(client.stream_point_timeseries(timeseries_query))"
   ]
  },
  {
   "cell_type": "code",
   "execution_count": 143,
   "metadata": {},
   "outputs": [
    {
     "name": "stderr",
     "output_type": "stream",
     "text": [
      "C:\\Users\\ssanjay\\AppData\\Local\\Temp\\ipykernel_5044\\3646713211.py:3: SettingWithCopyWarning:\n",
      "\n",
      "\n",
      "A value is trying to be set on a copy of a slice from a DataFrame.\n",
      "Try using .loc[row_indexer,col_indexer] = value instead\n",
      "\n",
      "See the caveats in the documentation: https://pandas.pydata.org/pandas-docs/stable/user_guide/indexing.html#returning-a-view-versus-a-copy\n",
      "\n"
     ]
    },
    {
     "data": {
      "text/html": [
       "<div>\n",
       "<style scoped>\n",
       "    .dataframe tbody tr th:only-of-type {\n",
       "        vertical-align: middle;\n",
       "    }\n",
       "\n",
       "    .dataframe tbody tr th {\n",
       "        vertical-align: top;\n",
       "    }\n",
       "\n",
       "    .dataframe thead th {\n",
       "        text-align: right;\n",
       "    }\n",
       "</style>\n",
       "<table border=\"1\" class=\"dataframe\">\n",
       "  <thead>\n",
       "    <tr style=\"text-align: right;\">\n",
       "      <th></th>\n",
       "      <th>building_id</th>\n",
       "      <th>id</th>\n",
       "      <th>description</th>\n",
       "      <th>value</th>\n",
       "      <th>short_name</th>\n",
       "    </tr>\n",
       "  </thead>\n",
       "  <tbody>\n",
       "    <tr>\n",
       "      <th>0</th>\n",
       "      <td>111</td>\n",
       "      <td>194189</td>\n",
       "      <td>237 W 100th St Boiler Condensate Return Temper...</td>\n",
       "      <td>185.86</td>\n",
       "      <td>237 W 100th St</td>\n",
       "    </tr>\n",
       "    <tr>\n",
       "      <th>1</th>\n",
       "      <td>145</td>\n",
       "      <td>198654</td>\n",
       "      <td>1908 Belmont Avenue Boiler Boiler Hot Water Re...</td>\n",
       "      <td>146.72</td>\n",
       "      <td>1908 Belmont Av</td>\n",
       "    </tr>\n",
       "    <tr>\n",
       "      <th>2</th>\n",
       "      <td>153</td>\n",
       "      <td>199149</td>\n",
       "      <td>1898 Belmont Avenue Boiler Boiler Hot Water Re...</td>\n",
       "      <td>168.04</td>\n",
       "      <td>1898 Belmont Av</td>\n",
       "    </tr>\n",
       "    <tr>\n",
       "      <th>3</th>\n",
       "      <td>153</td>\n",
       "      <td>199152</td>\n",
       "      <td>1898 Belmont Avenue Boiler Building Hot Water ...</td>\n",
       "      <td>156.60</td>\n",
       "      <td>1898 Belmont Av</td>\n",
       "    </tr>\n",
       "    <tr>\n",
       "      <th>4</th>\n",
       "      <td>169</td>\n",
       "      <td>200969</td>\n",
       "      <td>Boiler 1 HWR_Temperature</td>\n",
       "      <td>149.17</td>\n",
       "      <td>Boiler 1 HWR_Te</td>\n",
       "    </tr>\n",
       "  </tbody>\n",
       "</table>\n",
       "</div>"
      ],
      "text/plain": [
       "   building_id      id                                        description  \\\n",
       "0          111  194189  237 W 100th St Boiler Condensate Return Temper...   \n",
       "1          145  198654  1908 Belmont Avenue Boiler Boiler Hot Water Re...   \n",
       "2          153  199149  1898 Belmont Avenue Boiler Boiler Hot Water Re...   \n",
       "3          153  199152  1898 Belmont Avenue Boiler Building Hot Water ...   \n",
       "4          169  200969                           Boiler 1 HWR_Temperature   \n",
       "\n",
       "    value       short_name  \n",
       "0  185.86  237 W 100th St   \n",
       "1  146.72  1908 Belmont Av  \n",
       "2  168.04  1898 Belmont Av  \n",
       "3  156.60  1898 Belmont Av  \n",
       "4  149.17  Boiler 1 HWR_Te  "
      ]
     },
     "execution_count": 143,
     "metadata": {},
     "output_type": "execute_result"
    }
   ],
   "source": [
    "df_sensor = sensor_metadata[[\"building_id\",\"id\",\"name\",\"description\",\"value\"]]\n",
    "#df_sensor = df_sensor.description.fillna(value=np.nan, inplace=True)\n",
    "df_sensor['description'] = df_sensor['description'].fillna(df_sensor['name'])\n",
    "df_sensor = df_sensor.drop(columns=\"name\")\n",
    "df_sensor[\"value\"] = pd.to_numeric(df_sensor[\"value\"])\n",
    "df_sensor[\"short_name\"] = df_sensor['description'].str[:15]\n",
    "df_sensor.head()\n"
   ]
  },
  {
   "cell_type": "code",
   "execution_count": 161,
   "metadata": {},
   "outputs": [
    {
     "data": {
      "application/vnd.plotly.v1+json": {
       "config": {
        "plotlyServerURL": "https://plot.ly"
       },
       "data": [
        {
         "alignmentgroup": "True",
         "hovertemplate": "value=%{marker.color}<br>description=%{y}<extra></extra>",
         "legendgroup": "",
         "marker": {
          "color": [
           185.86,
           146.72,
           168.04,
           156.6,
           149.17,
           149.17,
           149.36,
           128.18,
           120.32,
           126.28,
           218.74,
           80.24,
           142.11,
           145.23,
           165.76,
           148,
           143,
           148,
           177.84,
           91.75,
           110.81,
           102.21,
           84.03,
           127.37,
           140.46,
           92.83,
           76.59,
           75.86,
           72.04,
           82.19
          ],
          "coloraxis": "coloraxis",
          "pattern": {
           "shape": ""
          }
         },
         "name": "",
         "offsetgroup": "",
         "orientation": "h",
         "showlegend": false,
         "textposition": "auto",
         "type": "bar",
         "x": [
          185.86,
          146.72,
          168.04,
          156.6,
          149.17,
          149.17,
          149.36,
          128.18,
          120.32,
          126.28,
          218.74,
          80.24,
          142.11,
          145.23,
          165.76,
          148,
          143,
          148,
          177.84,
          91.75,
          110.81,
          102.21,
          84.03,
          127.37,
          140.46,
          92.83,
          76.59,
          75.86,
          72.04,
          82.19
         ],
         "xaxis": "x",
         "y": [
          "237 W 100th St Boiler Condensate Return Temperature",
          "1908 Belmont Avenue Boiler Boiler Hot Water Return Temperature",
          "1898 Belmont Avenue Boiler Boiler Hot Water Return Temperature",
          "1898 Belmont Avenue Boiler Building Hot Water Return Temperature",
          "Boiler 1 HWR_Temperature",
          "Boiler 2 HWR_Temperature",
          "Boiler 3 HWR_Temperature",
          "304 St Johns Boiler Hot Water Return Temperature",
          "220 East 54th St. Manhattan Boiler Plant Condensate Return Temp 1",
          "220 East 54th St. Manhattan Boiler Plant Condensate Return Temp 2",
          "220 East 54th St. Manhattan Boiler Plant Domestic Hot Water Pre Mix Temp",
          "100 Lawn Terrace Boiler Hot Water Return Temperature",
          "1871 7th Avenue Boiler Boiler Hot Water Return Temperature",
          "1871 7th Avenue Boiler Building Hot Water Return Temperature",
          "1900 Belmont Avenue Boiler Boiler Hot Water Return Temperature",
          "Roosevelt Landings eBX Tecogen 1 Inlet Temp",
          "Roosevelt Landings eBX Tecogen 2 Inlet Temp",
          "Roosevelt Landings eBX Tecogen 3 Inlet Temp",
          "905 Palmer Avenue Boiler Boiler Hot Water Return Temperature",
          "905 Palmer Avenue Boiler Hot Water Return Temperature Zone 1",
          "905 Palmer Avenue Boiler Hot Water Return Temperature Zone 2",
          "905 Palmer Avenue Boiler Hot Water Return Temperature Zone 3",
          "3400 Fort Independence Street Boiler 1 Condensate Return Temperature",
          "333 Lenox Road Penthouse Boiler Room Loop Hot Water Hot Water Loop Return Temperature",
          "70 Prospect Park SW Boiler Condensate Return Temperature",
          "45-26 44th Street Boiler Condensate Return Temperature",
          "1710 Avenue H Boiler Condensate Return Temperature",
          "51 Cross Street Boiler Condensate Return Temperature",
          "9-11 Greenridge Avenue Boiler Condensate Return Temperature",
          "304 St Johns Place Boiler Hot Water Return Temperature"
         ],
         "yaxis": "y"
        }
       ],
       "layout": {
        "barmode": "relative",
        "coloraxis": {
         "colorbar": {
          "title": {
           "text": "value"
          }
         },
         "colorscale": [
          [
           0,
           "#0d0887"
          ],
          [
           0.1111111111111111,
           "#46039f"
          ],
          [
           0.2222222222222222,
           "#7201a8"
          ],
          [
           0.3333333333333333,
           "#9c179e"
          ],
          [
           0.4444444444444444,
           "#bd3786"
          ],
          [
           0.5555555555555556,
           "#d8576b"
          ],
          [
           0.6666666666666666,
           "#ed7953"
          ],
          [
           0.7777777777777778,
           "#fb9f3a"
          ],
          [
           0.8888888888888888,
           "#fdca26"
          ],
          [
           1,
           "#f0f921"
          ]
         ]
        },
        "height": 800,
        "legend": {
         "tracegroupgap": 0
        },
        "template": {
         "data": {
          "bar": [
           {
            "error_x": {
             "color": "#2a3f5f"
            },
            "error_y": {
             "color": "#2a3f5f"
            },
            "marker": {
             "line": {
              "color": "#E5ECF6",
              "width": 0.5
             },
             "pattern": {
              "fillmode": "overlay",
              "size": 10,
              "solidity": 0.2
             }
            },
            "type": "bar"
           }
          ],
          "barpolar": [
           {
            "marker": {
             "line": {
              "color": "#E5ECF6",
              "width": 0.5
             },
             "pattern": {
              "fillmode": "overlay",
              "size": 10,
              "solidity": 0.2
             }
            },
            "type": "barpolar"
           }
          ],
          "carpet": [
           {
            "aaxis": {
             "endlinecolor": "#2a3f5f",
             "gridcolor": "white",
             "linecolor": "white",
             "minorgridcolor": "white",
             "startlinecolor": "#2a3f5f"
            },
            "baxis": {
             "endlinecolor": "#2a3f5f",
             "gridcolor": "white",
             "linecolor": "white",
             "minorgridcolor": "white",
             "startlinecolor": "#2a3f5f"
            },
            "type": "carpet"
           }
          ],
          "choropleth": [
           {
            "colorbar": {
             "outlinewidth": 0,
             "ticks": ""
            },
            "type": "choropleth"
           }
          ],
          "contour": [
           {
            "colorbar": {
             "outlinewidth": 0,
             "ticks": ""
            },
            "colorscale": [
             [
              0,
              "#0d0887"
             ],
             [
              0.1111111111111111,
              "#46039f"
             ],
             [
              0.2222222222222222,
              "#7201a8"
             ],
             [
              0.3333333333333333,
              "#9c179e"
             ],
             [
              0.4444444444444444,
              "#bd3786"
             ],
             [
              0.5555555555555556,
              "#d8576b"
             ],
             [
              0.6666666666666666,
              "#ed7953"
             ],
             [
              0.7777777777777778,
              "#fb9f3a"
             ],
             [
              0.8888888888888888,
              "#fdca26"
             ],
             [
              1,
              "#f0f921"
             ]
            ],
            "type": "contour"
           }
          ],
          "contourcarpet": [
           {
            "colorbar": {
             "outlinewidth": 0,
             "ticks": ""
            },
            "type": "contourcarpet"
           }
          ],
          "heatmap": [
           {
            "colorbar": {
             "outlinewidth": 0,
             "ticks": ""
            },
            "colorscale": [
             [
              0,
              "#0d0887"
             ],
             [
              0.1111111111111111,
              "#46039f"
             ],
             [
              0.2222222222222222,
              "#7201a8"
             ],
             [
              0.3333333333333333,
              "#9c179e"
             ],
             [
              0.4444444444444444,
              "#bd3786"
             ],
             [
              0.5555555555555556,
              "#d8576b"
             ],
             [
              0.6666666666666666,
              "#ed7953"
             ],
             [
              0.7777777777777778,
              "#fb9f3a"
             ],
             [
              0.8888888888888888,
              "#fdca26"
             ],
             [
              1,
              "#f0f921"
             ]
            ],
            "type": "heatmap"
           }
          ],
          "heatmapgl": [
           {
            "colorbar": {
             "outlinewidth": 0,
             "ticks": ""
            },
            "colorscale": [
             [
              0,
              "#0d0887"
             ],
             [
              0.1111111111111111,
              "#46039f"
             ],
             [
              0.2222222222222222,
              "#7201a8"
             ],
             [
              0.3333333333333333,
              "#9c179e"
             ],
             [
              0.4444444444444444,
              "#bd3786"
             ],
             [
              0.5555555555555556,
              "#d8576b"
             ],
             [
              0.6666666666666666,
              "#ed7953"
             ],
             [
              0.7777777777777778,
              "#fb9f3a"
             ],
             [
              0.8888888888888888,
              "#fdca26"
             ],
             [
              1,
              "#f0f921"
             ]
            ],
            "type": "heatmapgl"
           }
          ],
          "histogram": [
           {
            "marker": {
             "pattern": {
              "fillmode": "overlay",
              "size": 10,
              "solidity": 0.2
             }
            },
            "type": "histogram"
           }
          ],
          "histogram2d": [
           {
            "colorbar": {
             "outlinewidth": 0,
             "ticks": ""
            },
            "colorscale": [
             [
              0,
              "#0d0887"
             ],
             [
              0.1111111111111111,
              "#46039f"
             ],
             [
              0.2222222222222222,
              "#7201a8"
             ],
             [
              0.3333333333333333,
              "#9c179e"
             ],
             [
              0.4444444444444444,
              "#bd3786"
             ],
             [
              0.5555555555555556,
              "#d8576b"
             ],
             [
              0.6666666666666666,
              "#ed7953"
             ],
             [
              0.7777777777777778,
              "#fb9f3a"
             ],
             [
              0.8888888888888888,
              "#fdca26"
             ],
             [
              1,
              "#f0f921"
             ]
            ],
            "type": "histogram2d"
           }
          ],
          "histogram2dcontour": [
           {
            "colorbar": {
             "outlinewidth": 0,
             "ticks": ""
            },
            "colorscale": [
             [
              0,
              "#0d0887"
             ],
             [
              0.1111111111111111,
              "#46039f"
             ],
             [
              0.2222222222222222,
              "#7201a8"
             ],
             [
              0.3333333333333333,
              "#9c179e"
             ],
             [
              0.4444444444444444,
              "#bd3786"
             ],
             [
              0.5555555555555556,
              "#d8576b"
             ],
             [
              0.6666666666666666,
              "#ed7953"
             ],
             [
              0.7777777777777778,
              "#fb9f3a"
             ],
             [
              0.8888888888888888,
              "#fdca26"
             ],
             [
              1,
              "#f0f921"
             ]
            ],
            "type": "histogram2dcontour"
           }
          ],
          "mesh3d": [
           {
            "colorbar": {
             "outlinewidth": 0,
             "ticks": ""
            },
            "type": "mesh3d"
           }
          ],
          "parcoords": [
           {
            "line": {
             "colorbar": {
              "outlinewidth": 0,
              "ticks": ""
             }
            },
            "type": "parcoords"
           }
          ],
          "pie": [
           {
            "automargin": true,
            "type": "pie"
           }
          ],
          "scatter": [
           {
            "marker": {
             "colorbar": {
              "outlinewidth": 0,
              "ticks": ""
             }
            },
            "type": "scatter"
           }
          ],
          "scatter3d": [
           {
            "line": {
             "colorbar": {
              "outlinewidth": 0,
              "ticks": ""
             }
            },
            "marker": {
             "colorbar": {
              "outlinewidth": 0,
              "ticks": ""
             }
            },
            "type": "scatter3d"
           }
          ],
          "scattercarpet": [
           {
            "marker": {
             "colorbar": {
              "outlinewidth": 0,
              "ticks": ""
             }
            },
            "type": "scattercarpet"
           }
          ],
          "scattergeo": [
           {
            "marker": {
             "colorbar": {
              "outlinewidth": 0,
              "ticks": ""
             }
            },
            "type": "scattergeo"
           }
          ],
          "scattergl": [
           {
            "marker": {
             "colorbar": {
              "outlinewidth": 0,
              "ticks": ""
             }
            },
            "type": "scattergl"
           }
          ],
          "scattermapbox": [
           {
            "marker": {
             "colorbar": {
              "outlinewidth": 0,
              "ticks": ""
             }
            },
            "type": "scattermapbox"
           }
          ],
          "scatterpolar": [
           {
            "marker": {
             "colorbar": {
              "outlinewidth": 0,
              "ticks": ""
             }
            },
            "type": "scatterpolar"
           }
          ],
          "scatterpolargl": [
           {
            "marker": {
             "colorbar": {
              "outlinewidth": 0,
              "ticks": ""
             }
            },
            "type": "scatterpolargl"
           }
          ],
          "scatterternary": [
           {
            "marker": {
             "colorbar": {
              "outlinewidth": 0,
              "ticks": ""
             }
            },
            "type": "scatterternary"
           }
          ],
          "surface": [
           {
            "colorbar": {
             "outlinewidth": 0,
             "ticks": ""
            },
            "colorscale": [
             [
              0,
              "#0d0887"
             ],
             [
              0.1111111111111111,
              "#46039f"
             ],
             [
              0.2222222222222222,
              "#7201a8"
             ],
             [
              0.3333333333333333,
              "#9c179e"
             ],
             [
              0.4444444444444444,
              "#bd3786"
             ],
             [
              0.5555555555555556,
              "#d8576b"
             ],
             [
              0.6666666666666666,
              "#ed7953"
             ],
             [
              0.7777777777777778,
              "#fb9f3a"
             ],
             [
              0.8888888888888888,
              "#fdca26"
             ],
             [
              1,
              "#f0f921"
             ]
            ],
            "type": "surface"
           }
          ],
          "table": [
           {
            "cells": {
             "fill": {
              "color": "#EBF0F8"
             },
             "line": {
              "color": "white"
             }
            },
            "header": {
             "fill": {
              "color": "#C8D4E3"
             },
             "line": {
              "color": "white"
             }
            },
            "type": "table"
           }
          ]
         },
         "layout": {
          "annotationdefaults": {
           "arrowcolor": "#2a3f5f",
           "arrowhead": 0,
           "arrowwidth": 1
          },
          "autotypenumbers": "strict",
          "coloraxis": {
           "colorbar": {
            "outlinewidth": 0,
            "ticks": ""
           }
          },
          "colorscale": {
           "diverging": [
            [
             0,
             "#8e0152"
            ],
            [
             0.1,
             "#c51b7d"
            ],
            [
             0.2,
             "#de77ae"
            ],
            [
             0.3,
             "#f1b6da"
            ],
            [
             0.4,
             "#fde0ef"
            ],
            [
             0.5,
             "#f7f7f7"
            ],
            [
             0.6,
             "#e6f5d0"
            ],
            [
             0.7,
             "#b8e186"
            ],
            [
             0.8,
             "#7fbc41"
            ],
            [
             0.9,
             "#4d9221"
            ],
            [
             1,
             "#276419"
            ]
           ],
           "sequential": [
            [
             0,
             "#0d0887"
            ],
            [
             0.1111111111111111,
             "#46039f"
            ],
            [
             0.2222222222222222,
             "#7201a8"
            ],
            [
             0.3333333333333333,
             "#9c179e"
            ],
            [
             0.4444444444444444,
             "#bd3786"
            ],
            [
             0.5555555555555556,
             "#d8576b"
            ],
            [
             0.6666666666666666,
             "#ed7953"
            ],
            [
             0.7777777777777778,
             "#fb9f3a"
            ],
            [
             0.8888888888888888,
             "#fdca26"
            ],
            [
             1,
             "#f0f921"
            ]
           ],
           "sequentialminus": [
            [
             0,
             "#0d0887"
            ],
            [
             0.1111111111111111,
             "#46039f"
            ],
            [
             0.2222222222222222,
             "#7201a8"
            ],
            [
             0.3333333333333333,
             "#9c179e"
            ],
            [
             0.4444444444444444,
             "#bd3786"
            ],
            [
             0.5555555555555556,
             "#d8576b"
            ],
            [
             0.6666666666666666,
             "#ed7953"
            ],
            [
             0.7777777777777778,
             "#fb9f3a"
            ],
            [
             0.8888888888888888,
             "#fdca26"
            ],
            [
             1,
             "#f0f921"
            ]
           ]
          },
          "colorway": [
           "#636efa",
           "#EF553B",
           "#00cc96",
           "#ab63fa",
           "#FFA15A",
           "#19d3f3",
           "#FF6692",
           "#B6E880",
           "#FF97FF",
           "#FECB52"
          ],
          "font": {
           "color": "#2a3f5f"
          },
          "geo": {
           "bgcolor": "white",
           "lakecolor": "white",
           "landcolor": "#E5ECF6",
           "showlakes": true,
           "showland": true,
           "subunitcolor": "white"
          },
          "hoverlabel": {
           "align": "left"
          },
          "hovermode": "closest",
          "mapbox": {
           "style": "light"
          },
          "paper_bgcolor": "white",
          "plot_bgcolor": "#E5ECF6",
          "polar": {
           "angularaxis": {
            "gridcolor": "white",
            "linecolor": "white",
            "ticks": ""
           },
           "bgcolor": "#E5ECF6",
           "radialaxis": {
            "gridcolor": "white",
            "linecolor": "white",
            "ticks": ""
           }
          },
          "scene": {
           "xaxis": {
            "backgroundcolor": "#E5ECF6",
            "gridcolor": "white",
            "gridwidth": 2,
            "linecolor": "white",
            "showbackground": true,
            "ticks": "",
            "zerolinecolor": "white"
           },
           "yaxis": {
            "backgroundcolor": "#E5ECF6",
            "gridcolor": "white",
            "gridwidth": 2,
            "linecolor": "white",
            "showbackground": true,
            "ticks": "",
            "zerolinecolor": "white"
           },
           "zaxis": {
            "backgroundcolor": "#E5ECF6",
            "gridcolor": "white",
            "gridwidth": 2,
            "linecolor": "white",
            "showbackground": true,
            "ticks": "",
            "zerolinecolor": "white"
           }
          },
          "shapedefaults": {
           "line": {
            "color": "#2a3f5f"
           }
          },
          "ternary": {
           "aaxis": {
            "gridcolor": "white",
            "linecolor": "white",
            "ticks": ""
           },
           "baxis": {
            "gridcolor": "white",
            "linecolor": "white",
            "ticks": ""
           },
           "bgcolor": "#E5ECF6",
           "caxis": {
            "gridcolor": "white",
            "linecolor": "white",
            "ticks": ""
           }
          },
          "title": {
           "x": 0.05
          },
          "xaxis": {
           "automargin": true,
           "gridcolor": "white",
           "linecolor": "white",
           "ticks": "",
           "title": {
            "standoff": 15
           },
           "zerolinecolor": "white",
           "zerolinewidth": 2
          },
          "yaxis": {
           "automargin": true,
           "gridcolor": "white",
           "linecolor": "white",
           "ticks": "",
           "title": {
            "standoff": 15
           },
           "zerolinecolor": "white",
           "zerolinewidth": 2
          }
         }
        },
        "title": {
         "text": "Hot Water Return Temperature"
        },
        "xaxis": {
         "anchor": "y",
         "domain": [
          0,
          1
         ],
         "title": {
          "text": "value"
         }
        },
        "yaxis": {
         "anchor": "x",
         "domain": [
          0,
          1
         ],
         "title": {
          "text": "description"
         }
        }
       }
      }
     },
     "metadata": {},
     "output_type": "display_data"
    }
   ],
   "source": [
    "df_sensor.plot.bar(y = \"description\",\n",
    " x=\"value\",\n",
    " barmode = \"relative\",\n",
    " color='value',\n",
    " hover_data=[\"value\",\"description\"],\n",
    " height = 800,\n",
    " title = \"Hot Water Return Temperature\")"
   ]
  }
 ],
 "metadata": {
  "interpreter": {
   "hash": "643de1346df0f7e13897674cab99e87bece096e731f3c8565bb362bd5b0bcc15"
  },
  "kernelspec": {
   "display_name": "Python 3.8.12 ('asalpy')",
   "language": "python",
   "name": "python3"
  },
  "language_info": {
   "codemirror_mode": {
    "name": "ipython",
    "version": 3
   },
   "file_extension": ".py",
   "mimetype": "text/x-python",
   "name": "python",
   "nbconvert_exporter": "python",
   "pygments_lexer": "ipython3",
   "version": "3.8.12"
  }
 },
 "nbformat": 4,
 "nbformat_minor": 2
}
