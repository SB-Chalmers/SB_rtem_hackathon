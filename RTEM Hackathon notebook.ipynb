{
 "cells": [
  {
   "cell_type": "markdown",
   "metadata": {},
   "source": [
    "# RTEM Hackathon notebook"
   ]
  },
  {
   "cell_type": "markdown",
   "metadata": {},
   "source": [
    "## Import standard libraries"
   ]
  },
  {
   "cell_type": "code",
   "execution_count": 1,
   "metadata": {},
   "outputs": [],
   "source": [
    "import pandas as pd\n",
    "import json\n",
    "import numpy as np"
   ]
  },
  {
   "cell_type": "markdown",
   "metadata": {},
   "source": [
    "## Import RTEM libraries"
   ]
  },
  {
   "cell_type": "code",
   "execution_count": 5,
   "metadata": {},
   "outputs": [
    {
     "data": {
      "text/plain": [
       "'\\n!pip install onboard.client\\n'"
      ]
     },
     "execution_count": 5,
     "metadata": {},
     "output_type": "execute_result"
    }
   ],
   "source": [
    "# Install onboard client to python, uncomment and run once\n",
    "'''\n",
    "!pip install onboard.client\n",
    "'''"
   ]
  },
  {
   "cell_type": "code",
   "execution_count": 4,
   "metadata": {},
   "outputs": [],
   "source": [
    "from onboard.client import RtemClient\n",
    "from onboard.client.dataframes import points_df_from_streaming_timeseries\n",
    "from onboard.client.models import PointSelector, TimeseriesQuery, PointData\n",
    "from datetime import datetime, timezone, timedelta\n",
    "from typing import List\n",
    "import pytz"
   ]
  },
  {
   "cell_type": "markdown",
   "metadata": {},
   "source": [
    "## Load secret"
   ]
  },
  {
   "cell_type": "code",
   "execution_count": 5,
   "metadata": {},
   "outputs": [],
   "source": [
    "# Read secret from /secrets/ folder\n",
    "with open('secrets/secrets.txt') as f:\n",
    "    secret = f.readlines()[0]\n",
    "\n",
    "# Setup client\n",
    "client = RtemClient(api_key=secret)"
   ]
  },
  {
   "cell_type": "code",
   "execution_count": null,
   "metadata": {},
   "outputs": [],
   "source": [
    "all_buildings = list(pd.DataFrame(client.get_all_buildings())['id'])\n",
    "print(list(pd.DataFrame(client.get_all_buildings())['id'])) # returns list of buildings that you have access to (you may not have 'Laboratory' in your set)\n",
    "print(len(all_buildings))"
   ]
  },
  {
   "cell_type": "code",
   "execution_count": 48,
   "metadata": {},
   "outputs": [],
   "source": [
    "pd.json_normalize(client.get_all_buildings()).to_json(\"data/buildings.json\")"
   ]
  },
  {
   "cell_type": "code",
   "execution_count": 39,
   "metadata": {},
   "outputs": [
    {
     "name": "stdout",
     "output_type": "stream",
     "text": [
      "[206336, 198657, 198658, 344578, 206339, 344581, 344585, 344588, 273934, 344592, 273939, 344595, 344599, 227351, 227353, 344602, 222746, 273948, 273949, 344606, 344609, 227362, 344613, 344616, 344620, 198655, 358999, 217178, 359004, 217180, 359009, 221316, 221320, 221833, 194188, 194193, 215185, 215187, 215188, 215697, 215701, 215705, 356024, 197306, 197308, 356029, 212163, 212167, 212168, 212170, 201418, 201421, 205019, 356061, 356066, 205027, 197864, 197865, 224514, 204548, 224517, 356102, 224516, 204552, 310025, 224524, 224525, 224526, 205068, 197392, 205073, 310044, 356126, 197407, 356131, 205612, 310061, 205619, 201534, 203584, 203586, 210757, 209222, 210759, 343366, 201033, 201035, 343371, 310096, 209234, 209246, 201567, 344414, 201569, 199523, 344419, 228709, 209258, 220527, 220529, 310134, 284534, 326009, 199546, 326013, 201603, 344452, 201605, 228743, 200584, 344457, 200586, 228755, 414611, 414615, 203687, 203689, 199085, 199087, 198594, 306129, 198099, 198104, 199150, 199154, 199155, 199156, 206334, 344575]\n",
      "2018-01-20 00:00:00+00:00 2018-02-20 00:00:00+00:00\n"
     ]
    },
    {
     "data": {
      "text/html": [
       "<div>\n",
       "<style scoped>\n",
       "    .dataframe tbody tr th:only-of-type {\n",
       "        vertical-align: middle;\n",
       "    }\n",
       "\n",
       "    .dataframe tbody tr th {\n",
       "        vertical-align: top;\n",
       "    }\n",
       "\n",
       "    .dataframe thead th {\n",
       "        text-align: right;\n",
       "    }\n",
       "</style>\n",
       "<table border=\"1\" class=\"dataframe\">\n",
       "  <thead>\n",
       "    <tr style=\"text-align: right;\">\n",
       "      <th></th>\n",
       "      <th>timestamp</th>\n",
       "      <th>209258</th>\n",
       "    </tr>\n",
       "  </thead>\n",
       "  <tbody>\n",
       "    <tr>\n",
       "      <th>0</th>\n",
       "      <td>2018-02-13T00:15:00Z</td>\n",
       "      <td>161.4</td>\n",
       "    </tr>\n",
       "    <tr>\n",
       "      <th>1</th>\n",
       "      <td>2018-02-13T00:30:00Z</td>\n",
       "      <td>161.5</td>\n",
       "    </tr>\n",
       "    <tr>\n",
       "      <th>2</th>\n",
       "      <td>2018-02-13T00:45:00Z</td>\n",
       "      <td>161.5</td>\n",
       "    </tr>\n",
       "    <tr>\n",
       "      <th>3</th>\n",
       "      <td>2018-02-13T01:00:00Z</td>\n",
       "      <td>161.4</td>\n",
       "    </tr>\n",
       "    <tr>\n",
       "      <th>4</th>\n",
       "      <td>2018-02-13T01:15:00Z</td>\n",
       "      <td>161.9</td>\n",
       "    </tr>\n",
       "  </tbody>\n",
       "</table>\n",
       "</div>"
      ],
      "text/plain": [
       "              timestamp  209258\n",
       "0  2018-02-13T00:15:00Z   161.4\n",
       "1  2018-02-13T00:30:00Z   161.5\n",
       "2  2018-02-13T00:45:00Z   161.5\n",
       "3  2018-02-13T01:00:00Z   161.4\n",
       "4  2018-02-13T01:15:00Z   161.9"
      ]
     },
     "execution_count": 39,
     "metadata": {},
     "output_type": "execute_result"
    }
   ],
   "source": [
    "query = PointSelector()\n",
    "query.point_types     = ['Hot Water Supply Temperature']        # can list multiple point\n",
    "query.equipment_types = ['boiler']     # types, equipment types,\n",
    "query.buildings       = [98]           # buildings, etc.\n",
    "selection = client.select_points(query)\n",
    "points = selection[\"points\"]\n",
    "\n",
    "print(points)\n",
    "\n",
    "sensor_metadata = pd.DataFrame(client.get_points_by_ids(points))\n",
    "\n",
    "#start_date = sensor_metadata.last_updated.apply(lambda x: datetime.fromtimestamp(x/1000, timezone.utc)).min()\n",
    "#end_date = sensor_metadata.first_updated.apply(lambda x: datetime.fromtimestamp(x/1000, timezone.utc)).max()\n",
    "\n",
    "tz = pytz.timezone('UTC')\n",
    "start_date = datetime(2018,1,20,0,0,0).replace(tzinfo=tz)\n",
    "end_date = datetime(2018,2,20,0,0,0).replace(tzinfo=tz)\n",
    "\n",
    "print(start_date, end_date)\n",
    "\n",
    "timeseries_query = TimeseriesQuery(point_ids = selection['points'], start = end_date - timedelta(days=7), end = end_date)\n",
    "sensor_data = points_df_from_streaming_timeseries(client.stream_point_timeseries(timeseries_query))\n",
    "sensor_data.head()"
   ]
  },
  {
   "cell_type": "code",
   "execution_count": 43,
   "metadata": {},
   "outputs": [
    {
     "data": {
      "text/plain": [
       "<AxesSubplot:title={'center':'Hot Water Supply Temperature'}, ylabel='Temperature [F]'>"
      ]
     },
     "execution_count": 43,
     "metadata": {},
     "output_type": "execute_result"
    },
    {
     "data": {
      "image/png": "[encoded data removed]",
      "text/plain": [
       "<Figure size 432x288 with 1 Axes>"
      ]
     },
     "metadata": {
      "needs_background": "light"
     },
     "output_type": "display_data"
    }
   ],
   "source": [
    "sensor_data[209258].plot(title=\"Hot Water Supply Temperature\", ylabel=\"Temperature [F]\")"
   ]
  },
  {
   "cell_type": "code",
   "execution_count": 14,
   "metadata": {},
   "outputs": [
    {
     "data": {
      "text/html": [
       "<div>\n",
       "<style scoped>\n",
       "    .dataframe tbody tr th:only-of-type {\n",
       "        vertical-align: middle;\n",
       "    }\n",
       "\n",
       "    .dataframe tbody tr th {\n",
       "        vertical-align: top;\n",
       "    }\n",
       "\n",
       "    .dataframe thead th {\n",
       "        text-align: right;\n",
       "    }\n",
       "</style>\n",
       "<table border=\"1\" class=\"dataframe\">\n",
       "  <thead>\n",
       "    <tr style=\"text-align: right;\">\n",
       "      <th></th>\n",
       "      <th>id</th>\n",
       "      <th>building_id</th>\n",
       "      <th>last_updated</th>\n",
       "      <th>first_updated</th>\n",
       "      <th>device</th>\n",
       "      <th>network_device</th>\n",
       "      <th>objectId</th>\n",
       "      <th>name</th>\n",
       "      <th>description</th>\n",
       "      <th>units</th>\n",
       "      <th>tagged_units</th>\n",
       "      <th>raw_unit_id</th>\n",
       "      <th>value</th>\n",
       "      <th>type</th>\n",
       "      <th>point_type_id</th>\n",
       "      <th>measurement_id</th>\n",
       "      <th>datasource_hash</th>\n",
       "      <th>topic</th>\n",
       "      <th>state_text</th>\n",
       "      <th>equip_id</th>\n",
       "    </tr>\n",
       "  </thead>\n",
       "  <tbody>\n",
       "    <tr>\n",
       "      <th>0</th>\n",
       "      <td>199416</td>\n",
       "      <td>162</td>\n",
       "      <td>1.535774e+12</td>\n",
       "      <td>1.517461e+12</td>\n",
       "      <td></td>\n",
       "      <td>None</td>\n",
       "      <td></td>\n",
       "      <td></td>\n",
       "      <td>HV-1 Auditorium_Space Temp</td>\n",
       "      <td>F</td>\n",
       "      <td>None</td>\n",
       "      <td>2</td>\n",
       "      <td>76.9</td>\n",
       "      <td>Zone Temperature</td>\n",
       "      <td>77</td>\n",
       "      <td>1</td>\n",
       "      <td>f2c4e443248ea4b005a09bc1eb5519bb</td>\n",
       "      <td>nyserda+0000082141+ahu1-hv+HV-1 Auditorium_Spa...</td>\n",
       "      <td>None</td>\n",
       "      <td>18310</td>\n",
       "    </tr>\n",
       "    <tr>\n",
       "      <th>1</th>\n",
       "      <td>199641</td>\n",
       "      <td>162</td>\n",
       "      <td>1.535127e+12</td>\n",
       "      <td>1.520019e+12</td>\n",
       "      <td></td>\n",
       "      <td>None</td>\n",
       "      <td></td>\n",
       "      <td></td>\n",
       "      <td>Room 186 CUH-22_Space Temp</td>\n",
       "      <td>F</td>\n",
       "      <td>None</td>\n",
       "      <td>2</td>\n",
       "      <td>82.4</td>\n",
       "      <td>Zone Temperature</td>\n",
       "      <td>77</td>\n",
       "      <td>1</td>\n",
       "      <td>e3e5d7e0d12f35007bf67c7ecc209e36</td>\n",
       "      <td>nyserda+0000082141+cuh22-room186+Room 186 CUH-...</td>\n",
       "      <td>None</td>\n",
       "      <td>18329</td>\n",
       "    </tr>\n",
       "    <tr>\n",
       "      <th>2</th>\n",
       "      <td>199646</td>\n",
       "      <td>162</td>\n",
       "      <td>1.535127e+12</td>\n",
       "      <td>1.520019e+12</td>\n",
       "      <td></td>\n",
       "      <td>None</td>\n",
       "      <td></td>\n",
       "      <td></td>\n",
       "      <td>Room 184 CUH-23_Space Temp</td>\n",
       "      <td>F</td>\n",
       "      <td>None</td>\n",
       "      <td>2</td>\n",
       "      <td>32</td>\n",
       "      <td>Zone Temperature</td>\n",
       "      <td>77</td>\n",
       "      <td>1</td>\n",
       "      <td>0982edc59ea6a93c2a5bbdc374d682fc</td>\n",
       "      <td>nyserda+0000082141+cuh23-room184+Room 184 CUH-...</td>\n",
       "      <td>None</td>\n",
       "      <td>18330</td>\n",
       "    </tr>\n",
       "    <tr>\n",
       "      <th>3</th>\n",
       "      <td>199707</td>\n",
       "      <td>162</td>\n",
       "      <td>1.535774e+12</td>\n",
       "      <td>1.520019e+12</td>\n",
       "      <td></td>\n",
       "      <td>None</td>\n",
       "      <td></td>\n",
       "      <td></td>\n",
       "      <td>Bathroom 116_Space Temp</td>\n",
       "      <td>F</td>\n",
       "      <td>None</td>\n",
       "      <td>2</td>\n",
       "      <td>76.9</td>\n",
       "      <td>Zone Temperature</td>\n",
       "      <td>77</td>\n",
       "      <td>1</td>\n",
       "      <td>ee0c9a22509a975291cbe88431724a52</td>\n",
       "      <td>nyserda+0000082141+fcu-bathroom116+Bathroom 11...</td>\n",
       "      <td>None</td>\n",
       "      <td>18351</td>\n",
       "    </tr>\n",
       "    <tr>\n",
       "      <th>4</th>\n",
       "      <td>199712</td>\n",
       "      <td>162</td>\n",
       "      <td>1.535774e+12</td>\n",
       "      <td>1.520019e+12</td>\n",
       "      <td></td>\n",
       "      <td>None</td>\n",
       "      <td></td>\n",
       "      <td></td>\n",
       "      <td>Bathroom 117_Space Temp</td>\n",
       "      <td>F</td>\n",
       "      <td>None</td>\n",
       "      <td>2</td>\n",
       "      <td>76.7</td>\n",
       "      <td>Zone Temperature</td>\n",
       "      <td>77</td>\n",
       "      <td>1</td>\n",
       "      <td>4ec13cb622d4ca8546bb481edadb765a</td>\n",
       "      <td>nyserda+0000082141+fcu-bathroom117+Bathroom 11...</td>\n",
       "      <td>None</td>\n",
       "      <td>18352</td>\n",
       "    </tr>\n",
       "  </tbody>\n",
       "</table>\n",
       "</div>"
      ],
      "text/plain": [
       "       id  building_id  last_updated  first_updated device network_device  \\\n",
       "0  199416          162  1.535774e+12   1.517461e+12                  None   \n",
       "1  199641          162  1.535127e+12   1.520019e+12                  None   \n",
       "2  199646          162  1.535127e+12   1.520019e+12                  None   \n",
       "3  199707          162  1.535774e+12   1.520019e+12                  None   \n",
       "4  199712          162  1.535774e+12   1.520019e+12                  None   \n",
       "\n",
       "  objectId name                 description units tagged_units  raw_unit_id  \\\n",
       "0                HV-1 Auditorium_Space Temp     F         None            2   \n",
       "1                Room 186 CUH-22_Space Temp     F         None            2   \n",
       "2                Room 184 CUH-23_Space Temp     F         None            2   \n",
       "3                   Bathroom 116_Space Temp     F         None            2   \n",
       "4                   Bathroom 117_Space Temp     F         None            2   \n",
       "\n",
       "  value              type  point_type_id  measurement_id  \\\n",
       "0  76.9  Zone Temperature             77               1   \n",
       "1  82.4  Zone Temperature             77               1   \n",
       "2    32  Zone Temperature             77               1   \n",
       "3  76.9  Zone Temperature             77               1   \n",
       "4  76.7  Zone Temperature             77               1   \n",
       "\n",
       "                    datasource_hash  \\\n",
       "0  f2c4e443248ea4b005a09bc1eb5519bb   \n",
       "1  e3e5d7e0d12f35007bf67c7ecc209e36   \n",
       "2  0982edc59ea6a93c2a5bbdc374d682fc   \n",
       "3  ee0c9a22509a975291cbe88431724a52   \n",
       "4  4ec13cb622d4ca8546bb481edadb765a   \n",
       "\n",
       "                                               topic state_text  equip_id  \n",
       "0  nyserda+0000082141+ahu1-hv+HV-1 Auditorium_Spa...       None     18310  \n",
       "1  nyserda+0000082141+cuh22-room186+Room 186 CUH-...       None     18329  \n",
       "2  nyserda+0000082141+cuh23-room184+Room 184 CUH-...       None     18330  \n",
       "3  nyserda+0000082141+fcu-bathroom116+Bathroom 11...       None     18351  \n",
       "4  nyserda+0000082141+fcu-bathroom117+Bathroom 11...       None     18352  "
      ]
     },
     "execution_count": 14,
     "metadata": {},
     "output_type": "execute_result"
    }
   ],
   "source": [
    "sensor_metadata.head()"
   ]
  },
  {
   "cell_type": "code",
   "execution_count": null,
   "metadata": {},
   "outputs": [],
   "source": []
  },
  {
   "cell_type": "code",
   "execution_count": 24,
   "metadata": {},
   "outputs": [],
   "source": [
    "pd.json_normalize(client.get_equipment_types()).to_csv(\"data/equip_types.csv\")\n",
    "pd.json_normalize(client.get_all_point_types()).to_csv(\"data/point_types.csv\")"
   ]
  },
  {
   "cell_type": "code",
   "execution_count": null,
   "metadata": {},
   "outputs": [],
   "source": [
    "# cooling demand/area for each building"
   ]
  }
 ],
 "metadata": {
  "kernelspec": {
   "display_name": "Python 3",
   "language": "python",
   "name": "python3"
  },
  "language_info": {
   "codemirror_mode": {
    "name": "ipython",
    "version": 3
   },
   "file_extension": ".py",
   "mimetype": "text/x-python",
   "name": "python",
   "nbconvert_exporter": "python",
   "pygments_lexer": "ipython3",
   "version": "3.9.12"
  }
 },
 "nbformat": 4,
 "nbformat_minor": 2
}
