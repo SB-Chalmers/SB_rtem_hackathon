{
 "cells": [
  {
   "cell_type": "markdown",
   "metadata": {},
   "source": [
    "# RTEM Dashboard\n",
    "Author: SS  \n",
    "Date: 10/05/2022  \n",
    "Description: Notebook to explore the structure of the RTEM API and plot useful charts  "
   ]
  },
  {
   "cell_type": "markdown",
   "metadata": {},
   "source": [
    "## Import libraries"
   ]
  },
  {
   "cell_type": "code",
   "execution_count": 28,
   "metadata": {},
   "outputs": [],
   "source": [
    "# Standard python libraries\n",
    "import pandas as pd\n",
    "import json\n",
    "import numpy as np"
   ]
  },
  {
   "cell_type": "code",
   "execution_count": 29,
   "metadata": {},
   "outputs": [],
   "source": [
    "# RTEM libraries\n",
    "from onboard.client import RtemClient\n",
    "from onboard.client.dataframes import points_df_from_streaming_timeseries\n",
    "from onboard.client.models import PointSelector, TimeseriesQuery, PointData\n",
    "from datetime import datetime, timezone, timedelta\n",
    "import pytz"
   ]
  },
  {
   "cell_type": "markdown",
   "metadata": {},
   "source": [
    "## Load secret\n",
    "This is done so we dont share API keys.   \n",
    "To get this working on your notebook, create a folder called 'secrets' in your root directory and create a 'secrets.txt' inside it with your API key."
   ]
  },
  {
   "cell_type": "code",
   "execution_count": 30,
   "metadata": {},
   "outputs": [],
   "source": [
    "# Read secret from /secrets/ folder\n",
    "with open('secrets/secrets.txt') as f:\n",
    "    secret = f.readlines()[0]\n",
    "\n",
    "# Setup client\n",
    "client = RtemClient(api_key=secret)"
   ]
  },
  {
   "cell_type": "code",
   "execution_count": 31,
   "metadata": {},
   "outputs": [],
   "source": [
    "# Run this once to minimise making too many calls\n",
    "df_buildings = pd.DataFrame(client.get_all_buildings())"
   ]
  },
  {
   "cell_type": "code",
   "execution_count": 32,
   "metadata": {},
   "outputs": [
    {
     "data": {
      "text/html": [
       "<div>\n",
       "<style scoped>\n",
       "    .dataframe tbody tr th:only-of-type {\n",
       "        vertical-align: middle;\n",
       "    }\n",
       "\n",
       "    .dataframe tbody tr th {\n",
       "        vertical-align: top;\n",
       "    }\n",
       "\n",
       "    .dataframe thead th {\n",
       "        text-align: right;\n",
       "    }\n",
       "</style>\n",
       "<table border=\"1\" class=\"dataframe\">\n",
       "  <thead>\n",
       "    <tr style=\"text-align: right;\">\n",
       "      <th></th>\n",
       "      <th>id</th>\n",
       "      <th>org_id</th>\n",
       "      <th>name</th>\n",
       "      <th>address</th>\n",
       "      <th>sq_ft</th>\n",
       "      <th>image_src</th>\n",
       "      <th>bms_manufacturer</th>\n",
       "      <th>bms_product_name</th>\n",
       "      <th>bms_version</th>\n",
       "      <th>timezone</th>\n",
       "      <th>info</th>\n",
       "      <th>status</th>\n",
       "      <th>equip_count</th>\n",
       "      <th>point_count</th>\n",
       "    </tr>\n",
       "  </thead>\n",
       "  <tbody>\n",
       "    <tr>\n",
       "      <th>0</th>\n",
       "      <td>441</td>\n",
       "      <td>5</td>\n",
       "      <td>88737</td>\n",
       "      <td>None</td>\n",
       "      <td>551143.0</td>\n",
       "      <td>None</td>\n",
       "      <td>None</td>\n",
       "      <td>None</td>\n",
       "      <td>None</td>\n",
       "      <td>America/New_York</td>\n",
       "      <td>{'floors': '', 'm2fend': '', 'satend': '', 'su...</td>\n",
       "      <td>LIVE</td>\n",
       "      <td>20</td>\n",
       "      <td>1293</td>\n",
       "    </tr>\n",
       "    <tr>\n",
       "      <th>1</th>\n",
       "      <td>140</td>\n",
       "      <td>5</td>\n",
       "      <td>83483</td>\n",
       "      <td>None</td>\n",
       "      <td>21869.0</td>\n",
       "      <td>None</td>\n",
       "      <td>None</td>\n",
       "      <td>None</td>\n",
       "      <td>None</td>\n",
       "      <td>America/New_York</td>\n",
       "      <td>{'floors': '', 'm2fend': '', 'satend': '', 'su...</td>\n",
       "      <td>LIVE</td>\n",
       "      <td>13</td>\n",
       "      <td>354</td>\n",
       "    </tr>\n",
       "    <tr>\n",
       "      <th>2</th>\n",
       "      <td>191</td>\n",
       "      <td>5</td>\n",
       "      <td>94414</td>\n",
       "      <td>None</td>\n",
       "      <td>198057.0</td>\n",
       "      <td>None</td>\n",
       "      <td>None</td>\n",
       "      <td>None</td>\n",
       "      <td>None</td>\n",
       "      <td>America/New_York</td>\n",
       "      <td>{'floors': '', 'm2fend': '23:00', 'satend': '2...</td>\n",
       "      <td>LIVE</td>\n",
       "      <td>7</td>\n",
       "      <td>19</td>\n",
       "    </tr>\n",
       "    <tr>\n",
       "      <th>3</th>\n",
       "      <td>231</td>\n",
       "      <td>5</td>\n",
       "      <td>89496</td>\n",
       "      <td>None</td>\n",
       "      <td>NaN</td>\n",
       "      <td>None</td>\n",
       "      <td>None</td>\n",
       "      <td>None</td>\n",
       "      <td>None</td>\n",
       "      <td>America/New_York</td>\n",
       "      <td>{'floors': '', 'm2fend': '', 'satend': '', 'su...</td>\n",
       "      <td>LIVE</td>\n",
       "      <td>4</td>\n",
       "      <td>51</td>\n",
       "    </tr>\n",
       "    <tr>\n",
       "      <th>4</th>\n",
       "      <td>248</td>\n",
       "      <td>5</td>\n",
       "      <td>116742</td>\n",
       "      <td>None</td>\n",
       "      <td>127000.0</td>\n",
       "      <td>None</td>\n",
       "      <td>None</td>\n",
       "      <td>None</td>\n",
       "      <td>None</td>\n",
       "      <td>America/New_York</td>\n",
       "      <td>{'floors': '', 'm2fend': '', 'satend': '', 'su...</td>\n",
       "      <td>LIVE</td>\n",
       "      <td>7</td>\n",
       "      <td>34</td>\n",
       "    </tr>\n",
       "  </tbody>\n",
       "</table>\n",
       "</div>"
      ],
      "text/plain": [
       "    id  org_id    name address     sq_ft image_src bms_manufacturer  \\\n",
       "0  441       5   88737    None  551143.0      None             None   \n",
       "1  140       5   83483    None   21869.0      None             None   \n",
       "2  191       5   94414    None  198057.0      None             None   \n",
       "3  231       5   89496    None       NaN      None             None   \n",
       "4  248       5  116742    None  127000.0      None             None   \n",
       "\n",
       "  bms_product_name bms_version          timezone  \\\n",
       "0             None        None  America/New_York   \n",
       "1             None        None  America/New_York   \n",
       "2             None        None  America/New_York   \n",
       "3             None        None  America/New_York   \n",
       "4             None        None  America/New_York   \n",
       "\n",
       "                                                info status  equip_count  \\\n",
       "0  {'floors': '', 'm2fend': '', 'satend': '', 'su...   LIVE           20   \n",
       "1  {'floors': '', 'm2fend': '', 'satend': '', 'su...   LIVE           13   \n",
       "2  {'floors': '', 'm2fend': '23:00', 'satend': '2...   LIVE            7   \n",
       "3  {'floors': '', 'm2fend': '', 'satend': '', 'su...   LIVE            4   \n",
       "4  {'floors': '', 'm2fend': '', 'satend': '', 'su...   LIVE            7   \n",
       "\n",
       "   point_count  \n",
       "0         1293  \n",
       "1          354  \n",
       "2           19  \n",
       "3           51  \n",
       "4           34  "
      ]
     },
     "execution_count": 32,
     "metadata": {},
     "output_type": "execute_result"
    }
   ],
   "source": [
    "df_buildings.head()"
   ]
  },
  {
   "cell_type": "code",
   "execution_count": 49,
   "metadata": {},
   "outputs": [
    {
     "name": "stdout",
     "output_type": "stream",
     "text": [
      "shape of dataframe (229, 14)\n"
     ]
    },
    {
     "data": {
      "text/html": [
       "<div>\n",
       "<style scoped>\n",
       "    .dataframe tbody tr th:only-of-type {\n",
       "        vertical-align: middle;\n",
       "    }\n",
       "\n",
       "    .dataframe tbody tr th {\n",
       "        vertical-align: top;\n",
       "    }\n",
       "\n",
       "    .dataframe thead th {\n",
       "        text-align: right;\n",
       "    }\n",
       "</style>\n",
       "<table border=\"1\" class=\"dataframe\">\n",
       "  <thead>\n",
       "    <tr style=\"text-align: right;\">\n",
       "      <th></th>\n",
       "      <th>id</th>\n",
       "      <th>org_id</th>\n",
       "      <th>sq_ft</th>\n",
       "      <th>equip_count</th>\n",
       "      <th>point_count</th>\n",
       "    </tr>\n",
       "  </thead>\n",
       "  <tbody>\n",
       "    <tr>\n",
       "      <th>count</th>\n",
       "      <td>229.000000</td>\n",
       "      <td>229.0</td>\n",
       "      <td>2.010000e+02</td>\n",
       "      <td>229.000000</td>\n",
       "      <td>229.000000</td>\n",
       "    </tr>\n",
       "    <tr>\n",
       "      <th>mean</th>\n",
       "      <td>279.296943</td>\n",
       "      <td>5.0</td>\n",
       "      <td>3.598326e+05</td>\n",
       "      <td>26.572052</td>\n",
       "      <td>193.842795</td>\n",
       "    </tr>\n",
       "    <tr>\n",
       "      <th>std</th>\n",
       "      <td>126.752691</td>\n",
       "      <td>0.0</td>\n",
       "      <td>5.004452e+05</td>\n",
       "      <td>50.564882</td>\n",
       "      <td>510.273853</td>\n",
       "    </tr>\n",
       "    <tr>\n",
       "      <th>min</th>\n",
       "      <td>98.000000</td>\n",
       "      <td>5.0</td>\n",
       "      <td>7.960000e+03</td>\n",
       "      <td>1.000000</td>\n",
       "      <td>1.000000</td>\n",
       "    </tr>\n",
       "    <tr>\n",
       "      <th>25%</th>\n",
       "      <td>165.000000</td>\n",
       "      <td>5.0</td>\n",
       "      <td>9.000000e+04</td>\n",
       "      <td>4.000000</td>\n",
       "      <td>22.000000</td>\n",
       "    </tr>\n",
       "    <tr>\n",
       "      <th>50%</th>\n",
       "      <td>259.000000</td>\n",
       "      <td>5.0</td>\n",
       "      <td>1.980570e+05</td>\n",
       "      <td>8.000000</td>\n",
       "      <td>38.000000</td>\n",
       "    </tr>\n",
       "    <tr>\n",
       "      <th>75%</th>\n",
       "      <td>392.000000</td>\n",
       "      <td>5.0</td>\n",
       "      <td>3.640000e+05</td>\n",
       "      <td>25.000000</td>\n",
       "      <td>182.000000</td>\n",
       "    </tr>\n",
       "    <tr>\n",
       "      <th>max</th>\n",
       "      <td>503.000000</td>\n",
       "      <td>5.0</td>\n",
       "      <td>3.000000e+06</td>\n",
       "      <td>393.000000</td>\n",
       "      <td>6068.000000</td>\n",
       "    </tr>\n",
       "  </tbody>\n",
       "</table>\n",
       "</div>"
      ],
      "text/plain": [
       "               id  org_id         sq_ft  equip_count  point_count\n",
       "count  229.000000   229.0  2.010000e+02   229.000000   229.000000\n",
       "mean   279.296943     5.0  3.598326e+05    26.572052   193.842795\n",
       "std    126.752691     0.0  5.004452e+05    50.564882   510.273853\n",
       "min     98.000000     5.0  7.960000e+03     1.000000     1.000000\n",
       "25%    165.000000     5.0  9.000000e+04     4.000000    22.000000\n",
       "50%    259.000000     5.0  1.980570e+05     8.000000    38.000000\n",
       "75%    392.000000     5.0  3.640000e+05    25.000000   182.000000\n",
       "max    503.000000     5.0  3.000000e+06   393.000000  6068.000000"
      ]
     },
     "execution_count": 49,
     "metadata": {},
     "output_type": "execute_result"
    }
   ],
   "source": [
    "print(f'shape of dataframe {df_buildings.shape}')\n",
    "df_buildings.describe()"
   ]
  },
  {
   "cell_type": "markdown",
   "metadata": {},
   "source": [
    "### Something interesting going on in the info column"
   ]
  },
  {
   "cell_type": "code",
   "execution_count": 50,
   "metadata": {},
   "outputs": [
    {
     "data": {
      "text/plain": [
       "{'floors': '',\n",
       " 'm2fend': '',\n",
       " 'satend': '',\n",
       " 'sunend': '',\n",
       " 'geoCity': 'Bronx',\n",
       " 'geoState': 'NY',\n",
       " 'm2fstart': '',\n",
       " 'satstart': '',\n",
       " 'sunstart': '',\n",
       " 'yearBuilt': '',\n",
       " 'geoCountry': 'US',\n",
       " 'weatherRef': '',\n",
       " 'customerType': 'Multifamily'}"
      ]
     },
     "execution_count": 50,
     "metadata": {},
     "output_type": "execute_result"
    }
   ],
   "source": [
    "df_buildings['info'][0]"
   ]
  },
  {
   "cell_type": "code",
   "execution_count": 51,
   "metadata": {},
   "outputs": [],
   "source": [
    "# splitting these values into columns in the df\n",
    "objs = [df_buildings, pd.DataFrame(df_buildings['info'].tolist()).iloc[:, :14]]\n",
    "df_buildings_flt = pd.concat(objs, axis=1).drop('info', axis=1)"
   ]
  },
  {
   "cell_type": "markdown",
   "metadata": {},
   "source": [
    "# Plotting"
   ]
  },
  {
   "cell_type": "code",
   "execution_count": 52,
   "metadata": {},
   "outputs": [
    {
     "data": {
      "text/plain": [
       "Index(['id', 'org_id', 'name', 'address', 'sq_ft', 'image_src',\n",
       "       'bms_manufacturer', 'bms_product_name', 'bms_version', 'timezone',\n",
       "       'status', 'equip_count', 'point_count', 'floors', 'm2fend', 'satend',\n",
       "       'sunend', 'geoCity', 'geoState', 'm2fstart', 'satstart', 'sunstart',\n",
       "       'yearBuilt', 'geoCountry', 'weatherRef', 'customerType'],\n",
       "      dtype='object')"
      ]
     },
     "execution_count": 52,
     "metadata": {},
     "output_type": "execute_result"
    }
   ],
   "source": [
    "df_buildings_flt.columns"
   ]
  },
  {
   "cell_type": "code",
   "execution_count": 53,
   "metadata": {},
   "outputs": [],
   "source": [
    "# Import plottting libraries\n",
    "import plotly\n",
    "import seaborn as sns\n",
    "pd.options.plotting.backend = \"plotly\" "
   ]
  },
  {
   "cell_type": "code",
   "execution_count": 54,
   "metadata": {},
   "outputs": [
    {
     "data": {
      "application/vnd.plotly.v1+json": {
       "config": {
        "plotlyServerURL": "https://plot.ly"
       },
       "data": [
        {
         "alignmentgroup": "True",
         "bingroup": "x",
         "hovertemplate": "variable=sq_ft<br>value=%{x}<br>count=%{y}<extra></extra>",
         "legendgroup": "sq_ft",
         "marker": {
          "color": "#636efa",
          "pattern": {
           "shape": ""
          }
         },
         "name": "sq_ft",
         "offsetgroup": "sq_ft",
         "orientation": "v",
         "showlegend": true,
         "type": "histogram",
         "x": [
          551143,
          21869,
          198057,
          null,
          127000,
          120000,
          56090,
          32240,
          198057,
          198057,
          198057,
          35000,
          130000,
          232808,
          null,
          80000,
          119710,
          3000000,
          100000,
          null,
          null,
          56000,
          50000,
          null,
          33220,
          1898155,
          null,
          null,
          205000,
          275000,
          null,
          600000,
          null,
          1500000,
          null,
          171129,
          null,
          2800000,
          665000,
          null,
          1040873,
          789079,
          null,
          153750,
          1028336,
          47092,
          null,
          869066,
          2338000,
          null,
          null,
          null,
          12000,
          205000,
          145000,
          236000,
          274096,
          null,
          127577,
          150000,
          229154,
          782298,
          563391,
          7960,
          110000,
          2400000,
          76800,
          352360,
          null,
          180000,
          null,
          null,
          16903,
          null,
          25000,
          null,
          20000,
          null,
          null,
          13512,
          357001,
          49428,
          135000,
          210000,
          268000,
          null,
          63550,
          240900,
          98122,
          1040873,
          179000,
          236067,
          600000,
          56000,
          699000,
          789079,
          198057,
          20025,
          1200000,
          789079,
          1073894,
          205000,
          8500,
          52096,
          null,
          470000,
          198057,
          700000,
          200000,
          667000,
          15750,
          221704,
          252105,
          1325000,
          43299,
          198057,
          31152,
          23400,
          281755,
          373700,
          20000,
          144000,
          900000,
          198057,
          198057,
          789079,
          144000,
          144000,
          250000,
          198057,
          552860,
          56000,
          56000,
          75165,
          9000,
          274096,
          1700000,
          144000,
          115020,
          274096,
          2486000,
          198057,
          144000,
          228690,
          12285,
          789079,
          44627,
          259000,
          259000,
          8500,
          198057,
          789079,
          274096,
          198057,
          274096,
          198057,
          144000,
          144000,
          121758,
          50000,
          360000,
          120721,
          198057,
          789079,
          1993000,
          47040,
          228690,
          364000,
          88800,
          144000,
          789079,
          144000,
          522000,
          198057,
          31220,
          56000,
          null,
          900000,
          100000,
          144000,
          367995,
          42000,
          250000,
          625844,
          56000,
          390000,
          115860,
          145079,
          11500,
          198057,
          200000,
          120000,
          274096,
          90000,
          198057,
          373700,
          144000,
          198057,
          176584,
          259000,
          56000,
          156250,
          22747,
          150000,
          198057,
          259000,
          338424,
          8500,
          350000,
          399613,
          725000,
          1100000,
          1040873,
          330000,
          357297,
          144000,
          56000,
          9000,
          198057,
          52782,
          12000,
          450000,
          144000,
          144000,
          198057,
          421316,
          75000,
          860000,
          140400
         ],
         "xaxis": "x",
         "yaxis": "y"
        }
       ],
       "layout": {
        "barmode": "relative",
        "legend": {
         "title": {
          "text": "variable"
         },
         "tracegroupgap": 0
        },
        "template": {
         "data": {
          "bar": [
           {
            "error_x": {
             "color": "#2a3f5f"
            },
            "error_y": {
             "color": "#2a3f5f"
            },
            "marker": {
             "line": {
              "color": "#E5ECF6",
              "width": 0.5
             },
             "pattern": {
              "fillmode": "overlay",
              "size": 10,
              "solidity": 0.2
             }
            },
            "type": "bar"
           }
          ],
          "barpolar": [
           {
            "marker": {
             "line": {
              "color": "#E5ECF6",
              "width": 0.5
             },
             "pattern": {
              "fillmode": "overlay",
              "size": 10,
              "solidity": 0.2
             }
            },
            "type": "barpolar"
           }
          ],
          "carpet": [
           {
            "aaxis": {
             "endlinecolor": "#2a3f5f",
             "gridcolor": "white",
             "linecolor": "white",
             "minorgridcolor": "white",
             "startlinecolor": "#2a3f5f"
            },
            "baxis": {
             "endlinecolor": "#2a3f5f",
             "gridcolor": "white",
             "linecolor": "white",
             "minorgridcolor": "white",
             "startlinecolor": "#2a3f5f"
            },
            "type": "carpet"
           }
          ],
          "choropleth": [
           {
            "colorbar": {
             "outlinewidth": 0,
             "ticks": ""
            },
            "type": "choropleth"
           }
          ],
          "contour": [
           {
            "colorbar": {
             "outlinewidth": 0,
             "ticks": ""
            },
            "colorscale": [
             [
              0,
              "#0d0887"
             ],
             [
              0.1111111111111111,
              "#46039f"
             ],
             [
              0.2222222222222222,
              "#7201a8"
             ],
             [
              0.3333333333333333,
              "#9c179e"
             ],
             [
              0.4444444444444444,
              "#bd3786"
             ],
             [
              0.5555555555555556,
              "#d8576b"
             ],
             [
              0.6666666666666666,
              "#ed7953"
             ],
             [
              0.7777777777777778,
              "#fb9f3a"
             ],
             [
              0.8888888888888888,
              "#fdca26"
             ],
             [
              1,
              "#f0f921"
             ]
            ],
            "type": "contour"
           }
          ],
          "contourcarpet": [
           {
            "colorbar": {
             "outlinewidth": 0,
             "ticks": ""
            },
            "type": "contourcarpet"
           }
          ],
          "heatmap": [
           {
            "colorbar": {
             "outlinewidth": 0,
             "ticks": ""
            },
            "colorscale": [
             [
              0,
              "#0d0887"
             ],
             [
              0.1111111111111111,
              "#46039f"
             ],
             [
              0.2222222222222222,
              "#7201a8"
             ],
             [
              0.3333333333333333,
              "#9c179e"
             ],
             [
              0.4444444444444444,
              "#bd3786"
             ],
             [
              0.5555555555555556,
              "#d8576b"
             ],
             [
              0.6666666666666666,
              "#ed7953"
             ],
             [
              0.7777777777777778,
              "#fb9f3a"
             ],
             [
              0.8888888888888888,
              "#fdca26"
             ],
             [
              1,
              "#f0f921"
             ]
            ],
            "type": "heatmap"
           }
          ],
          "heatmapgl": [
           {
            "colorbar": {
             "outlinewidth": 0,
             "ticks": ""
            },
            "colorscale": [
             [
              0,
              "#0d0887"
             ],
             [
              0.1111111111111111,
              "#46039f"
             ],
             [
              0.2222222222222222,
              "#7201a8"
             ],
             [
              0.3333333333333333,
              "#9c179e"
             ],
             [
              0.4444444444444444,
              "#bd3786"
             ],
             [
              0.5555555555555556,
              "#d8576b"
             ],
             [
              0.6666666666666666,
              "#ed7953"
             ],
             [
              0.7777777777777778,
              "#fb9f3a"
             ],
             [
              0.8888888888888888,
              "#fdca26"
             ],
             [
              1,
              "#f0f921"
             ]
            ],
            "type": "heatmapgl"
           }
          ],
          "histogram": [
           {
            "marker": {
             "pattern": {
              "fillmode": "overlay",
              "size": 10,
              "solidity": 0.2
             }
            },
            "type": "histogram"
           }
          ],
          "histogram2d": [
           {
            "colorbar": {
             "outlinewidth": 0,
             "ticks": ""
            },
            "colorscale": [
             [
              0,
              "#0d0887"
             ],
             [
              0.1111111111111111,
              "#46039f"
             ],
             [
              0.2222222222222222,
              "#7201a8"
             ],
             [
              0.3333333333333333,
              "#9c179e"
             ],
             [
              0.4444444444444444,
              "#bd3786"
             ],
             [
              0.5555555555555556,
              "#d8576b"
             ],
             [
              0.6666666666666666,
              "#ed7953"
             ],
             [
              0.7777777777777778,
              "#fb9f3a"
             ],
             [
              0.8888888888888888,
              "#fdca26"
             ],
             [
              1,
              "#f0f921"
             ]
            ],
            "type": "histogram2d"
           }
          ],
          "histogram2dcontour": [
           {
            "colorbar": {
             "outlinewidth": 0,
             "ticks": ""
            },
            "colorscale": [
             [
              0,
              "#0d0887"
             ],
             [
              0.1111111111111111,
              "#46039f"
             ],
             [
              0.2222222222222222,
              "#7201a8"
             ],
             [
              0.3333333333333333,
              "#9c179e"
             ],
             [
              0.4444444444444444,
              "#bd3786"
             ],
             [
              0.5555555555555556,
              "#d8576b"
             ],
             [
              0.6666666666666666,
              "#ed7953"
             ],
             [
              0.7777777777777778,
              "#fb9f3a"
             ],
             [
              0.8888888888888888,
              "#fdca26"
             ],
             [
              1,
              "#f0f921"
             ]
            ],
            "type": "histogram2dcontour"
           }
          ],
          "mesh3d": [
           {
            "colorbar": {
             "outlinewidth": 0,
             "ticks": ""
            },
            "type": "mesh3d"
           }
          ],
          "parcoords": [
           {
            "line": {
             "colorbar": {
              "outlinewidth": 0,
              "ticks": ""
             }
            },
            "type": "parcoords"
           }
          ],
          "pie": [
           {
            "automargin": true,
            "type": "pie"
           }
          ],
          "scatter": [
           {
            "marker": {
             "colorbar": {
              "outlinewidth": 0,
              "ticks": ""
             }
            },
            "type": "scatter"
           }
          ],
          "scatter3d": [
           {
            "line": {
             "colorbar": {
              "outlinewidth": 0,
              "ticks": ""
             }
            },
            "marker": {
             "colorbar": {
              "outlinewidth": 0,
              "ticks": ""
             }
            },
            "type": "scatter3d"
           }
          ],
          "scattercarpet": [
           {
            "marker": {
             "colorbar": {
              "outlinewidth": 0,
              "ticks": ""
             }
            },
            "type": "scattercarpet"
           }
          ],
          "scattergeo": [
           {
            "marker": {
             "colorbar": {
              "outlinewidth": 0,
              "ticks": ""
             }
            },
            "type": "scattergeo"
           }
          ],
          "scattergl": [
           {
            "marker": {
             "colorbar": {
              "outlinewidth": 0,
              "ticks": ""
             }
            },
            "type": "scattergl"
           }
          ],
          "scattermapbox": [
           {
            "marker": {
             "colorbar": {
              "outlinewidth": 0,
              "ticks": ""
             }
            },
            "type": "scattermapbox"
           }
          ],
          "scatterpolar": [
           {
            "marker": {
             "colorbar": {
              "outlinewidth": 0,
              "ticks": ""
             }
            },
            "type": "scatterpolar"
           }
          ],
          "scatterpolargl": [
           {
            "marker": {
             "colorbar": {
              "outlinewidth": 0,
              "ticks": ""
             }
            },
            "type": "scatterpolargl"
           }
          ],
          "scatterternary": [
           {
            "marker": {
             "colorbar": {
              "outlinewidth": 0,
              "ticks": ""
             }
            },
            "type": "scatterternary"
           }
          ],
          "surface": [
           {
            "colorbar": {
             "outlinewidth": 0,
             "ticks": ""
            },
            "colorscale": [
             [
              0,
              "#0d0887"
             ],
             [
              0.1111111111111111,
              "#46039f"
             ],
             [
              0.2222222222222222,
              "#7201a8"
             ],
             [
              0.3333333333333333,
              "#9c179e"
             ],
             [
              0.4444444444444444,
              "#bd3786"
             ],
             [
              0.5555555555555556,
              "#d8576b"
             ],
             [
              0.6666666666666666,
              "#ed7953"
             ],
             [
              0.7777777777777778,
              "#fb9f3a"
             ],
             [
              0.8888888888888888,
              "#fdca26"
             ],
             [
              1,
              "#f0f921"
             ]
            ],
            "type": "surface"
           }
          ],
          "table": [
           {
            "cells": {
             "fill": {
              "color": "#EBF0F8"
             },
             "line": {
              "color": "white"
             }
            },
            "header": {
             "fill": {
              "color": "#C8D4E3"
             },
             "line": {
              "color": "white"
             }
            },
            "type": "table"
           }
          ]
         },
         "layout": {
          "annotationdefaults": {
           "arrowcolor": "#2a3f5f",
           "arrowhead": 0,
           "arrowwidth": 1
          },
          "autotypenumbers": "strict",
          "coloraxis": {
           "colorbar": {
            "outlinewidth": 0,
            "ticks": ""
           }
          },
          "colorscale": {
           "diverging": [
            [
             0,
             "#8e0152"
            ],
            [
             0.1,
             "#c51b7d"
            ],
            [
             0.2,
             "#de77ae"
            ],
            [
             0.3,
             "#f1b6da"
            ],
            [
             0.4,
             "#fde0ef"
            ],
            [
             0.5,
             "#f7f7f7"
            ],
            [
             0.6,
             "#e6f5d0"
            ],
            [
             0.7,
             "#b8e186"
            ],
            [
             0.8,
             "#7fbc41"
            ],
            [
             0.9,
             "#4d9221"
            ],
            [
             1,
             "#276419"
            ]
           ],
           "sequential": [
            [
             0,
             "#0d0887"
            ],
            [
             0.1111111111111111,
             "#46039f"
            ],
            [
             0.2222222222222222,
             "#7201a8"
            ],
            [
             0.3333333333333333,
             "#9c179e"
            ],
            [
             0.4444444444444444,
             "#bd3786"
            ],
            [
             0.5555555555555556,
             "#d8576b"
            ],
            [
             0.6666666666666666,
             "#ed7953"
            ],
            [
             0.7777777777777778,
             "#fb9f3a"
            ],
            [
             0.8888888888888888,
             "#fdca26"
            ],
            [
             1,
             "#f0f921"
            ]
           ],
           "sequentialminus": [
            [
             0,
             "#0d0887"
            ],
            [
             0.1111111111111111,
             "#46039f"
            ],
            [
             0.2222222222222222,
             "#7201a8"
            ],
            [
             0.3333333333333333,
             "#9c179e"
            ],
            [
             0.4444444444444444,
             "#bd3786"
            ],
            [
             0.5555555555555556,
             "#d8576b"
            ],
            [
             0.6666666666666666,
             "#ed7953"
            ],
            [
             0.7777777777777778,
             "#fb9f3a"
            ],
            [
             0.8888888888888888,
             "#fdca26"
            ],
            [
             1,
             "#f0f921"
            ]
           ]
          },
          "colorway": [
           "#636efa",
           "#EF553B",
           "#00cc96",
           "#ab63fa",
           "#FFA15A",
           "#19d3f3",
           "#FF6692",
           "#B6E880",
           "#FF97FF",
           "#FECB52"
          ],
          "font": {
           "color": "#2a3f5f"
          },
          "geo": {
           "bgcolor": "white",
           "lakecolor": "white",
           "landcolor": "#E5ECF6",
           "showlakes": true,
           "showland": true,
           "subunitcolor": "white"
          },
          "hoverlabel": {
           "align": "left"
          },
          "hovermode": "closest",
          "mapbox": {
           "style": "light"
          },
          "paper_bgcolor": "white",
          "plot_bgcolor": "#E5ECF6",
          "polar": {
           "angularaxis": {
            "gridcolor": "white",
            "linecolor": "white",
            "ticks": ""
           },
           "bgcolor": "#E5ECF6",
           "radialaxis": {
            "gridcolor": "white",
            "linecolor": "white",
            "ticks": ""
           }
          },
          "scene": {
           "xaxis": {
            "backgroundcolor": "#E5ECF6",
            "gridcolor": "white",
            "gridwidth": 2,
            "linecolor": "white",
            "showbackground": true,
            "ticks": "",
            "zerolinecolor": "white"
           },
           "yaxis": {
            "backgroundcolor": "#E5ECF6",
            "gridcolor": "white",
            "gridwidth": 2,
            "linecolor": "white",
            "showbackground": true,
            "ticks": "",
            "zerolinecolor": "white"
           },
           "zaxis": {
            "backgroundcolor": "#E5ECF6",
            "gridcolor": "white",
            "gridwidth": 2,
            "linecolor": "white",
            "showbackground": true,
            "ticks": "",
            "zerolinecolor": "white"
           }
          },
          "shapedefaults": {
           "line": {
            "color": "#2a3f5f"
           }
          },
          "ternary": {
           "aaxis": {
            "gridcolor": "white",
            "linecolor": "white",
            "ticks": ""
           },
           "baxis": {
            "gridcolor": "white",
            "linecolor": "white",
            "ticks": ""
           },
           "bgcolor": "#E5ECF6",
           "caxis": {
            "gridcolor": "white",
            "linecolor": "white",
            "ticks": ""
           }
          },
          "title": {
           "x": 0.05
          },
          "xaxis": {
           "automargin": true,
           "gridcolor": "white",
           "linecolor": "white",
           "ticks": "",
           "title": {
            "standoff": 15
           },
           "zerolinecolor": "white",
           "zerolinewidth": 2
          },
          "yaxis": {
           "automargin": true,
           "gridcolor": "white",
           "linecolor": "white",
           "ticks": "",
           "title": {
            "standoff": 15
           },
           "zerolinecolor": "white",
           "zerolinewidth": 2
          }
         }
        },
        "title": {
         "text": "Histogram of building area"
        },
        "xaxis": {
         "anchor": "y",
         "domain": [
          0,
          1
         ],
         "title": {
          "text": "value"
         }
        },
        "yaxis": {
         "anchor": "x",
         "domain": [
          0,
          1
         ],
         "title": {
          "text": "count"
         }
        }
       }
      }
     },
     "metadata": {},
     "output_type": "display_data"
    }
   ],
   "source": [
    "df_buildings_flt[['sq_ft']].plot(kind='hist',title = \"Histogram of building area\")"
   ]
  },
  {
   "cell_type": "code",
   "execution_count": 55,
   "metadata": {},
   "outputs": [
    {
     "data": {
      "application/vnd.plotly.v1+json": {
       "config": {
        "plotlyServerURL": "https://plot.ly"
       },
       "data": [
        {
         "hovertemplate": "sq_ft=%{x}<br>customerType=%{y}<extra></extra>",
         "legendgroup": "",
         "marker": {
          "color": "#636efa",
          "symbol": "circle"
         },
         "mode": "markers",
         "name": "",
         "orientation": "h",
         "showlegend": false,
         "type": "scatter",
         "x": [
          551143,
          21869,
          198057,
          null,
          127000,
          120000,
          56090,
          32240,
          198057,
          198057,
          198057,
          35000,
          130000,
          232808,
          null,
          80000,
          119710,
          3000000,
          100000,
          null,
          null,
          56000,
          50000,
          null,
          33220,
          1898155,
          null,
          null,
          205000,
          275000,
          null,
          600000,
          null,
          1500000,
          null,
          171129,
          null,
          2800000,
          665000,
          null,
          1040873,
          789079,
          null,
          153750,
          1028336,
          47092,
          null,
          869066,
          2338000,
          null,
          null,
          null,
          12000,
          205000,
          145000,
          236000,
          274096,
          null,
          127577,
          150000,
          229154,
          782298,
          563391,
          7960,
          110000,
          2400000,
          76800,
          352360,
          null,
          180000,
          null,
          null,
          16903,
          null,
          25000,
          null,
          20000,
          null,
          null,
          13512,
          357001,
          49428,
          135000,
          210000,
          268000,
          null,
          63550,
          240900,
          98122,
          1040873,
          179000,
          236067,
          600000,
          56000,
          699000,
          789079,
          198057,
          20025,
          1200000,
          789079,
          1073894,
          205000,
          8500,
          52096,
          null,
          470000,
          198057,
          700000,
          200000,
          667000,
          15750,
          221704,
          252105,
          1325000,
          43299,
          198057,
          31152,
          23400,
          281755,
          373700,
          20000,
          144000,
          900000,
          198057,
          198057,
          789079,
          144000,
          144000,
          250000,
          198057,
          552860,
          56000,
          56000,
          75165,
          9000,
          274096,
          1700000,
          144000,
          115020,
          274096,
          2486000,
          198057,
          144000,
          228690,
          12285,
          789079,
          44627,
          259000,
          259000,
          8500,
          198057,
          789079,
          274096,
          198057,
          274096,
          198057,
          144000,
          144000,
          121758,
          50000,
          360000,
          120721,
          198057,
          789079,
          1993000,
          47040,
          228690,
          364000,
          88800,
          144000,
          789079,
          144000,
          522000,
          198057,
          31220,
          56000,
          null,
          900000,
          100000,
          144000,
          367995,
          42000,
          250000,
          625844,
          56000,
          390000,
          115860,
          145079,
          11500,
          198057,
          200000,
          120000,
          274096,
          90000,
          198057,
          373700,
          144000,
          198057,
          176584,
          259000,
          56000,
          156250,
          22747,
          150000,
          198057,
          259000,
          338424,
          8500,
          350000,
          399613,
          725000,
          1100000,
          1040873,
          330000,
          357297,
          144000,
          56000,
          9000,
          198057,
          52782,
          12000,
          450000,
          144000,
          144000,
          198057,
          421316,
          75000,
          860000,
          140400
         ],
         "xaxis": "x",
         "y": [
          "Multifamily",
          "Commercial Office",
          "Commercial Retail",
          "",
          "Multifamily",
          "Commercial Retail",
          "Multifamily",
          "College/University",
          "Commercial Retail",
          "Commercial Retail",
          "Commercial Retail",
          "Multifamily",
          "College/University",
          "Multifamily",
          "Commercial Office",
          "Hospitality",
          "Multifamily",
          "Commercial Office",
          "Commercial Office",
          "Multifamily",
          "Chemicals",
          "Food/Beverage",
          "Commercial Office",
          "Commercial Office",
          "Multifamily",
          "Commercial Office",
          "Healthcare",
          "College/University",
          "Multifamily",
          "Commercial Retail",
          "Healthcare",
          "College/University",
          "Multifamily",
          "Commercial Office",
          "K-12 School",
          "Hospitality",
          "Commercial Office",
          null,
          "Commercial Office",
          "K-12 School",
          "Multifamily",
          "Multifamily",
          "Multifamily",
          "Multifamily",
          "Commercial Office",
          "Commercial Retail",
          "Commercial Office",
          "Multifamily",
          "Commercial Office",
          "K-12 School",
          "Healthcare",
          "Multifamily",
          "Commercial Office",
          "Commercial Retail",
          "K-12 School",
          "Healthcare",
          "Multifamily",
          "College/University",
          "Multifamily",
          "Commercial Retail",
          "Commercial Office",
          "Multifamily",
          "Commercial Office",
          "Multifamily",
          "Healthcare",
          "Commercial Office",
          "Multifamily",
          "Multifamily",
          "Commercial Office",
          "Healthcare",
          "Healthcare",
          "",
          "Multifamily",
          "Commercial Office",
          null,
          "Healthcare",
          "Hospitality",
          "Multifamily",
          "Hospitality",
          "Multifamily",
          "Multifamily",
          "Multifamily",
          "Multifamily",
          "Commercial Office",
          "Commercial Office",
          "Healthcare",
          "Multifamily",
          "College/University",
          "Not For Profit",
          "Multifamily",
          "Healthcare",
          "Commercial Office",
          "Commercial Office",
          "Food/Beverage",
          "Commercial Office",
          null,
          "Commercial Retail",
          "Multifamily",
          "Commercial Office",
          "Multifamily",
          "Commercial Office",
          "Commercial Retail",
          "Commercial Retail",
          "Multifamily",
          "Commercial Office",
          "Commercial Office",
          "Commercial Retail",
          "Commercial Retail",
          "Commercial Retail",
          "Commercial Office",
          "Multifamily",
          "Commercial Office",
          "Multifamily",
          "Commercial Office",
          "Multifamily",
          "Commercial Retail",
          "Multifamily",
          "Multifamily",
          "Commercial Office",
          "K-12 School",
          "Multifamily",
          "Commercial Retail",
          "Healthcare",
          "Commercial Retail",
          "Commercial Retail",
          "Multifamily",
          "Commercial Retail",
          "Commercial Retail",
          "Commercial Office",
          "Commercial Retail",
          "Multifamily",
          "Food/Beverage",
          "Food/Beverage",
          "Multifamily",
          "Food/Beverage",
          "Multifamily",
          "Commercial Office",
          "Commercial Retail",
          "Multifamily",
          "Multifamily",
          "Commercial Office",
          "Commercial Retail",
          "Commercial Retail",
          "K-12 School",
          "Multifamily",
          "Multifamily",
          "Commercial Retail",
          "Not For Profit",
          "Not For Profit",
          "Food/Beverage",
          "Commercial Retail",
          "Multifamily",
          "Multifamily",
          "Commercial Retail",
          "Multifamily",
          "Commercial Retail",
          "Commercial Retail",
          "Commercial Retail",
          "Commercial Office",
          "Multifamily",
          "Commercial Office",
          "Multifamily",
          "Commercial Retail",
          "Multifamily",
          "Manufacturing",
          "Healthcare",
          "K-12 School",
          "Commercial Office",
          "Multifamily",
          "Commercial Retail",
          "Multifamily",
          "Commercial Retail",
          "Commercial Office",
          "Commercial Retail",
          "Multifamily",
          "Food/Beverage",
          "",
          "Commercial Office",
          "Commercial Retail",
          "Commercial Retail",
          "Healthcare",
          "Multifamily",
          "Multifamily",
          "Hospitality",
          "Food/Beverage",
          "Healthcare",
          "Multifamily",
          "Food/Beverage",
          "Multifamily",
          "Commercial Retail",
          "College/University",
          "Commercial Retail",
          "Multifamily",
          "Multifamily",
          "Commercial Retail",
          "K-12 School",
          "Commercial Retail",
          "Commercial Retail",
          "Multifamily",
          "Not For Profit",
          "Food/Beverage",
          "Multifamily",
          "Hospitality",
          "Multifamily",
          "Commercial Retail",
          "Not For Profit",
          "Healthcare",
          "Food/Beverage",
          "Healthcare",
          "Commercial Office",
          "Commercial Office",
          "Commercial Office",
          "Multifamily",
          "Commercial Retail",
          "Multifamily",
          "Commercial Retail",
          "Food/Beverage",
          "Food/Beverage",
          "Commercial Retail",
          "Multifamily",
          "Multifamily",
          "K-12 School",
          "Commercial Retail",
          "Commercial Retail",
          "Commercial Retail",
          "Hospitality",
          "Commercial Office",
          "Commercial Office",
          "Commercial Office"
         ],
         "yaxis": "y"
        }
       ],
       "layout": {
        "legend": {
         "tracegroupgap": 0
        },
        "template": {
         "data": {
          "bar": [
           {
            "error_x": {
             "color": "#2a3f5f"
            },
            "error_y": {
             "color": "#2a3f5f"
            },
            "marker": {
             "line": {
              "color": "#E5ECF6",
              "width": 0.5
             },
             "pattern": {
              "fillmode": "overlay",
              "size": 10,
              "solidity": 0.2
             }
            },
            "type": "bar"
           }
          ],
          "barpolar": [
           {
            "marker": {
             "line": {
              "color": "#E5ECF6",
              "width": 0.5
             },
             "pattern": {
              "fillmode": "overlay",
              "size": 10,
              "solidity": 0.2
             }
            },
            "type": "barpolar"
           }
          ],
          "carpet": [
           {
            "aaxis": {
             "endlinecolor": "#2a3f5f",
             "gridcolor": "white",
             "linecolor": "white",
             "minorgridcolor": "white",
             "startlinecolor": "#2a3f5f"
            },
            "baxis": {
             "endlinecolor": "#2a3f5f",
             "gridcolor": "white",
             "linecolor": "white",
             "minorgridcolor": "white",
             "startlinecolor": "#2a3f5f"
            },
            "type": "carpet"
           }
          ],
          "choropleth": [
           {
            "colorbar": {
             "outlinewidth": 0,
             "ticks": ""
            },
            "type": "choropleth"
           }
          ],
          "contour": [
           {
            "colorbar": {
             "outlinewidth": 0,
             "ticks": ""
            },
            "colorscale": [
             [
              0,
              "#0d0887"
             ],
             [
              0.1111111111111111,
              "#46039f"
             ],
             [
              0.2222222222222222,
              "#7201a8"
             ],
             [
              0.3333333333333333,
              "#9c179e"
             ],
             [
              0.4444444444444444,
              "#bd3786"
             ],
             [
              0.5555555555555556,
              "#d8576b"
             ],
             [
              0.6666666666666666,
              "#ed7953"
             ],
             [
              0.7777777777777778,
              "#fb9f3a"
             ],
             [
              0.8888888888888888,
              "#fdca26"
             ],
             [
              1,
              "#f0f921"
             ]
            ],
            "type": "contour"
           }
          ],
          "contourcarpet": [
           {
            "colorbar": {
             "outlinewidth": 0,
             "ticks": ""
            },
            "type": "contourcarpet"
           }
          ],
          "heatmap": [
           {
            "colorbar": {
             "outlinewidth": 0,
             "ticks": ""
            },
            "colorscale": [
             [
              0,
              "#0d0887"
             ],
             [
              0.1111111111111111,
              "#46039f"
             ],
             [
              0.2222222222222222,
              "#7201a8"
             ],
             [
              0.3333333333333333,
              "#9c179e"
             ],
             [
              0.4444444444444444,
              "#bd3786"
             ],
             [
              0.5555555555555556,
              "#d8576b"
             ],
             [
              0.6666666666666666,
              "#ed7953"
             ],
             [
              0.7777777777777778,
              "#fb9f3a"
             ],
             [
              0.8888888888888888,
              "#fdca26"
             ],
             [
              1,
              "#f0f921"
             ]
            ],
            "type": "heatmap"
           }
          ],
          "heatmapgl": [
           {
            "colorbar": {
             "outlinewidth": 0,
             "ticks": ""
            },
            "colorscale": [
             [
              0,
              "#0d0887"
             ],
             [
              0.1111111111111111,
              "#46039f"
             ],
             [
              0.2222222222222222,
              "#7201a8"
             ],
             [
              0.3333333333333333,
              "#9c179e"
             ],
             [
              0.4444444444444444,
              "#bd3786"
             ],
             [
              0.5555555555555556,
              "#d8576b"
             ],
             [
              0.6666666666666666,
              "#ed7953"
             ],
             [
              0.7777777777777778,
              "#fb9f3a"
             ],
             [
              0.8888888888888888,
              "#fdca26"
             ],
             [
              1,
              "#f0f921"
             ]
            ],
            "type": "heatmapgl"
           }
          ],
          "histogram": [
           {
            "marker": {
             "pattern": {
              "fillmode": "overlay",
              "size": 10,
              "solidity": 0.2
             }
            },
            "type": "histogram"
           }
          ],
          "histogram2d": [
           {
            "colorbar": {
             "outlinewidth": 0,
             "ticks": ""
            },
            "colorscale": [
             [
              0,
              "#0d0887"
             ],
             [
              0.1111111111111111,
              "#46039f"
             ],
             [
              0.2222222222222222,
              "#7201a8"
             ],
             [
              0.3333333333333333,
              "#9c179e"
             ],
             [
              0.4444444444444444,
              "#bd3786"
             ],
             [
              0.5555555555555556,
              "#d8576b"
             ],
             [
              0.6666666666666666,
              "#ed7953"
             ],
             [
              0.7777777777777778,
              "#fb9f3a"
             ],
             [
              0.8888888888888888,
              "#fdca26"
             ],
             [
              1,
              "#f0f921"
             ]
            ],
            "type": "histogram2d"
           }
          ],
          "histogram2dcontour": [
           {
            "colorbar": {
             "outlinewidth": 0,
             "ticks": ""
            },
            "colorscale": [
             [
              0,
              "#0d0887"
             ],
             [
              0.1111111111111111,
              "#46039f"
             ],
             [
              0.2222222222222222,
              "#7201a8"
             ],
             [
              0.3333333333333333,
              "#9c179e"
             ],
             [
              0.4444444444444444,
              "#bd3786"
             ],
             [
              0.5555555555555556,
              "#d8576b"
             ],
             [
              0.6666666666666666,
              "#ed7953"
             ],
             [
              0.7777777777777778,
              "#fb9f3a"
             ],
             [
              0.8888888888888888,
              "#fdca26"
             ],
             [
              1,
              "#f0f921"
             ]
            ],
            "type": "histogram2dcontour"
           }
          ],
          "mesh3d": [
           {
            "colorbar": {
             "outlinewidth": 0,
             "ticks": ""
            },
            "type": "mesh3d"
           }
          ],
          "parcoords": [
           {
            "line": {
             "colorbar": {
              "outlinewidth": 0,
              "ticks": ""
             }
            },
            "type": "parcoords"
           }
          ],
          "pie": [
           {
            "automargin": true,
            "type": "pie"
           }
          ],
          "scatter": [
           {
            "marker": {
             "colorbar": {
              "outlinewidth": 0,
              "ticks": ""
             }
            },
            "type": "scatter"
           }
          ],
          "scatter3d": [
           {
            "line": {
             "colorbar": {
              "outlinewidth": 0,
              "ticks": ""
             }
            },
            "marker": {
             "colorbar": {
              "outlinewidth": 0,
              "ticks": ""
             }
            },
            "type": "scatter3d"
           }
          ],
          "scattercarpet": [
           {
            "marker": {
             "colorbar": {
              "outlinewidth": 0,
              "ticks": ""
             }
            },
            "type": "scattercarpet"
           }
          ],
          "scattergeo": [
           {
            "marker": {
             "colorbar": {
              "outlinewidth": 0,
              "ticks": ""
             }
            },
            "type": "scattergeo"
           }
          ],
          "scattergl": [
           {
            "marker": {
             "colorbar": {
              "outlinewidth": 0,
              "ticks": ""
             }
            },
            "type": "scattergl"
           }
          ],
          "scattermapbox": [
           {
            "marker": {
             "colorbar": {
              "outlinewidth": 0,
              "ticks": ""
             }
            },
            "type": "scattermapbox"
           }
          ],
          "scatterpolar": [
           {
            "marker": {
             "colorbar": {
              "outlinewidth": 0,
              "ticks": ""
             }
            },
            "type": "scatterpolar"
           }
          ],
          "scatterpolargl": [
           {
            "marker": {
             "colorbar": {
              "outlinewidth": 0,
              "ticks": ""
             }
            },
            "type": "scatterpolargl"
           }
          ],
          "scatterternary": [
           {
            "marker": {
             "colorbar": {
              "outlinewidth": 0,
              "ticks": ""
             }
            },
            "type": "scatterternary"
           }
          ],
          "surface": [
           {
            "colorbar": {
             "outlinewidth": 0,
             "ticks": ""
            },
            "colorscale": [
             [
              0,
              "#0d0887"
             ],
             [
              0.1111111111111111,
              "#46039f"
             ],
             [
              0.2222222222222222,
              "#7201a8"
             ],
             [
              0.3333333333333333,
              "#9c179e"
             ],
             [
              0.4444444444444444,
              "#bd3786"
             ],
             [
              0.5555555555555556,
              "#d8576b"
             ],
             [
              0.6666666666666666,
              "#ed7953"
             ],
             [
              0.7777777777777778,
              "#fb9f3a"
             ],
             [
              0.8888888888888888,
              "#fdca26"
             ],
             [
              1,
              "#f0f921"
             ]
            ],
            "type": "surface"
           }
          ],
          "table": [
           {
            "cells": {
             "fill": {
              "color": "#EBF0F8"
             },
             "line": {
              "color": "white"
             }
            },
            "header": {
             "fill": {
              "color": "#C8D4E3"
             },
             "line": {
              "color": "white"
             }
            },
            "type": "table"
           }
          ]
         },
         "layout": {
          "annotationdefaults": {
           "arrowcolor": "#2a3f5f",
           "arrowhead": 0,
           "arrowwidth": 1
          },
          "autotypenumbers": "strict",
          "coloraxis": {
           "colorbar": {
            "outlinewidth": 0,
            "ticks": ""
           }
          },
          "colorscale": {
           "diverging": [
            [
             0,
             "#8e0152"
            ],
            [
             0.1,
             "#c51b7d"
            ],
            [
             0.2,
             "#de77ae"
            ],
            [
             0.3,
             "#f1b6da"
            ],
            [
             0.4,
             "#fde0ef"
            ],
            [
             0.5,
             "#f7f7f7"
            ],
            [
             0.6,
             "#e6f5d0"
            ],
            [
             0.7,
             "#b8e186"
            ],
            [
             0.8,
             "#7fbc41"
            ],
            [
             0.9,
             "#4d9221"
            ],
            [
             1,
             "#276419"
            ]
           ],
           "sequential": [
            [
             0,
             "#0d0887"
            ],
            [
             0.1111111111111111,
             "#46039f"
            ],
            [
             0.2222222222222222,
             "#7201a8"
            ],
            [
             0.3333333333333333,
             "#9c179e"
            ],
            [
             0.4444444444444444,
             "#bd3786"
            ],
            [
             0.5555555555555556,
             "#d8576b"
            ],
            [
             0.6666666666666666,
             "#ed7953"
            ],
            [
             0.7777777777777778,
             "#fb9f3a"
            ],
            [
             0.8888888888888888,
             "#fdca26"
            ],
            [
             1,
             "#f0f921"
            ]
           ],
           "sequentialminus": [
            [
             0,
             "#0d0887"
            ],
            [
             0.1111111111111111,
             "#46039f"
            ],
            [
             0.2222222222222222,
             "#7201a8"
            ],
            [
             0.3333333333333333,
             "#9c179e"
            ],
            [
             0.4444444444444444,
             "#bd3786"
            ],
            [
             0.5555555555555556,
             "#d8576b"
            ],
            [
             0.6666666666666666,
             "#ed7953"
            ],
            [
             0.7777777777777778,
             "#fb9f3a"
            ],
            [
             0.8888888888888888,
             "#fdca26"
            ],
            [
             1,
             "#f0f921"
            ]
           ]
          },
          "colorway": [
           "#636efa",
           "#EF553B",
           "#00cc96",
           "#ab63fa",
           "#FFA15A",
           "#19d3f3",
           "#FF6692",
           "#B6E880",
           "#FF97FF",
           "#FECB52"
          ],
          "font": {
           "color": "#2a3f5f"
          },
          "geo": {
           "bgcolor": "white",
           "lakecolor": "white",
           "landcolor": "#E5ECF6",
           "showlakes": true,
           "showland": true,
           "subunitcolor": "white"
          },
          "hoverlabel": {
           "align": "left"
          },
          "hovermode": "closest",
          "mapbox": {
           "style": "light"
          },
          "paper_bgcolor": "white",
          "plot_bgcolor": "#E5ECF6",
          "polar": {
           "angularaxis": {
            "gridcolor": "white",
            "linecolor": "white",
            "ticks": ""
           },
           "bgcolor": "#E5ECF6",
           "radialaxis": {
            "gridcolor": "white",
            "linecolor": "white",
            "ticks": ""
           }
          },
          "scene": {
           "xaxis": {
            "backgroundcolor": "#E5ECF6",
            "gridcolor": "white",
            "gridwidth": 2,
            "linecolor": "white",
            "showbackground": true,
            "ticks": "",
            "zerolinecolor": "white"
           },
           "yaxis": {
            "backgroundcolor": "#E5ECF6",
            "gridcolor": "white",
            "gridwidth": 2,
            "linecolor": "white",
            "showbackground": true,
            "ticks": "",
            "zerolinecolor": "white"
           },
           "zaxis": {
            "backgroundcolor": "#E5ECF6",
            "gridcolor": "white",
            "gridwidth": 2,
            "linecolor": "white",
            "showbackground": true,
            "ticks": "",
            "zerolinecolor": "white"
           }
          },
          "shapedefaults": {
           "line": {
            "color": "#2a3f5f"
           }
          },
          "ternary": {
           "aaxis": {
            "gridcolor": "white",
            "linecolor": "white",
            "ticks": ""
           },
           "baxis": {
            "gridcolor": "white",
            "linecolor": "white",
            "ticks": ""
           },
           "bgcolor": "#E5ECF6",
           "caxis": {
            "gridcolor": "white",
            "linecolor": "white",
            "ticks": ""
           }
          },
          "title": {
           "x": 0.05
          },
          "xaxis": {
           "automargin": true,
           "gridcolor": "white",
           "linecolor": "white",
           "ticks": "",
           "title": {
            "standoff": 15
           },
           "zerolinecolor": "white",
           "zerolinewidth": 2
          },
          "yaxis": {
           "automargin": true,
           "gridcolor": "white",
           "linecolor": "white",
           "ticks": "",
           "title": {
            "standoff": 15
           },
           "zerolinecolor": "white",
           "zerolinewidth": 2
          }
         }
        },
        "title": {
         "text": "Building Typology by area"
        },
        "xaxis": {
         "anchor": "y",
         "domain": [
          0,
          1
         ],
         "title": {
          "text": "sq_ft"
         }
        },
        "yaxis": {
         "anchor": "x",
         "domain": [
          0,
          1
         ],
         "title": {
          "text": "customerType"
         }
        }
       }
      }
     },
     "metadata": {},
     "output_type": "display_data"
    }
   ],
   "source": [
    "df_buildings_flt.plot(kind='scatter',\n",
    "x = 'sq_ft',\n",
    "y = 'customerType',\n",
    "title = \"Building Typology by area\",\n",
    "c='geoCity')"
   ]
  },
  {
   "cell_type": "code",
   "execution_count": 56,
   "metadata": {},
   "outputs": [
    {
     "data": {
      "application/vnd.plotly.v1+json": {
       "config": {
        "plotlyServerURL": "https://plot.ly"
       },
       "data": [
        {
         "alignmentgroup": "True",
         "hovertemplate": "variable=customerType<br>value=%{x}<br>count=%{y}<extra></extra>",
         "legendgroup": "customerType",
         "marker": {
          "color": "#636efa",
          "pattern": {
           "shape": ""
          }
         },
         "name": "customerType",
         "offsetgroup": "customerType",
         "orientation": "v",
         "showlegend": true,
         "textposition": "auto",
         "type": "bar",
         "x": [
          "Multifamily",
          "Commercial Office",
          "Commercial Retail",
          "",
          "Multifamily",
          "Commercial Retail",
          "Multifamily",
          "College/University",
          "Commercial Retail",
          "Commercial Retail",
          "Commercial Retail",
          "Multifamily",
          "College/University",
          "Multifamily",
          "Commercial Office",
          "Hospitality",
          "Multifamily",
          "Commercial Office",
          "Commercial Office",
          "Multifamily",
          "Chemicals",
          "Food/Beverage",
          "Commercial Office",
          "Commercial Office",
          "Multifamily",
          "Commercial Office",
          "Healthcare",
          "College/University",
          "Multifamily",
          "Commercial Retail",
          "Healthcare",
          "College/University",
          "Multifamily",
          "Commercial Office",
          "K-12 School",
          "Hospitality",
          "Commercial Office",
          null,
          "Commercial Office",
          "K-12 School",
          "Multifamily",
          "Multifamily",
          "Multifamily",
          "Multifamily",
          "Commercial Office",
          "Commercial Retail",
          "Commercial Office",
          "Multifamily",
          "Commercial Office",
          "K-12 School",
          "Healthcare",
          "Multifamily",
          "Commercial Office",
          "Commercial Retail",
          "K-12 School",
          "Healthcare",
          "Multifamily",
          "College/University",
          "Multifamily",
          "Commercial Retail",
          "Commercial Office",
          "Multifamily",
          "Commercial Office",
          "Multifamily",
          "Healthcare",
          "Commercial Office",
          "Multifamily",
          "Multifamily",
          "Commercial Office",
          "Healthcare",
          "Healthcare",
          "",
          "Multifamily",
          "Commercial Office",
          null,
          "Healthcare",
          "Hospitality",
          "Multifamily",
          "Hospitality",
          "Multifamily",
          "Multifamily",
          "Multifamily",
          "Multifamily",
          "Commercial Office",
          "Commercial Office",
          "Healthcare",
          "Multifamily",
          "College/University",
          "Not For Profit",
          "Multifamily",
          "Healthcare",
          "Commercial Office",
          "Commercial Office",
          "Food/Beverage",
          "Commercial Office",
          null,
          "Commercial Retail",
          "Multifamily",
          "Commercial Office",
          "Multifamily",
          "Commercial Office",
          "Commercial Retail",
          "Commercial Retail",
          "Multifamily",
          "Commercial Office",
          "Commercial Office",
          "Commercial Retail",
          "Commercial Retail",
          "Commercial Retail",
          "Commercial Office",
          "Multifamily",
          "Commercial Office",
          "Multifamily",
          "Commercial Office",
          "Multifamily",
          "Commercial Retail",
          "Multifamily",
          "Multifamily",
          "Commercial Office",
          "K-12 School",
          "Multifamily",
          "Commercial Retail",
          "Healthcare",
          "Commercial Retail",
          "Commercial Retail",
          "Multifamily",
          "Commercial Retail",
          "Commercial Retail",
          "Commercial Office",
          "Commercial Retail",
          "Multifamily",
          "Food/Beverage",
          "Food/Beverage",
          "Multifamily",
          "Food/Beverage",
          "Multifamily",
          "Commercial Office",
          "Commercial Retail",
          "Multifamily",
          "Multifamily",
          "Commercial Office",
          "Commercial Retail",
          "Commercial Retail",
          "K-12 School",
          "Multifamily",
          "Multifamily",
          "Commercial Retail",
          "Not For Profit",
          "Not For Profit",
          "Food/Beverage",
          "Commercial Retail",
          "Multifamily",
          "Multifamily",
          "Commercial Retail",
          "Multifamily",
          "Commercial Retail",
          "Commercial Retail",
          "Commercial Retail",
          "Commercial Office",
          "Multifamily",
          "Commercial Office",
          "Multifamily",
          "Commercial Retail",
          "Multifamily",
          "Manufacturing",
          "Healthcare",
          "K-12 School",
          "Commercial Office",
          "Multifamily",
          "Commercial Retail",
          "Multifamily",
          "Commercial Retail",
          "Commercial Office",
          "Commercial Retail",
          "Multifamily",
          "Food/Beverage",
          "",
          "Commercial Office",
          "Commercial Retail",
          "Commercial Retail",
          "Healthcare",
          "Multifamily",
          "Multifamily",
          "Hospitality",
          "Food/Beverage",
          "Healthcare",
          "Multifamily",
          "Food/Beverage",
          "Multifamily",
          "Commercial Retail",
          "College/University",
          "Commercial Retail",
          "Multifamily",
          "Multifamily",
          "Commercial Retail",
          "K-12 School",
          "Commercial Retail",
          "Commercial Retail",
          "Multifamily",
          "Not For Profit",
          "Food/Beverage",
          "Multifamily",
          "Hospitality",
          "Multifamily",
          "Commercial Retail",
          "Not For Profit",
          "Healthcare",
          "Food/Beverage",
          "Healthcare",
          "Commercial Office",
          "Commercial Office",
          "Commercial Office",
          "Multifamily",
          "Commercial Retail",
          "Multifamily",
          "Commercial Retail",
          "Food/Beverage",
          "Food/Beverage",
          "Commercial Retail",
          "Multifamily",
          "Multifamily",
          "K-12 School",
          "Commercial Retail",
          "Commercial Retail",
          "Commercial Retail",
          "Hospitality",
          "Commercial Office",
          "Commercial Office",
          "Commercial Office"
         ],
         "xaxis": "x",
         "y": [
          1,
          1,
          1,
          1,
          1,
          1,
          1,
          1,
          1,
          1,
          1,
          1,
          1,
          1,
          1,
          1,
          1,
          1,
          1,
          1,
          1,
          1,
          1,
          1,
          1,
          1,
          1,
          1,
          1,
          1,
          1,
          1,
          1,
          1,
          1,
          1,
          1,
          1,
          1,
          1,
          1,
          1,
          1,
          1,
          1,
          1,
          1,
          1,
          1,
          1,
          1,
          1,
          1,
          1,
          1,
          1,
          1,
          1,
          1,
          1,
          1,
          1,
          1,
          1,
          1,
          1,
          1,
          1,
          1,
          1,
          1,
          1,
          1,
          1,
          1,
          1,
          1,
          1,
          1,
          1,
          1,
          1,
          1,
          1,
          1,
          1,
          1,
          1,
          1,
          1,
          1,
          1,
          1,
          1,
          1,
          1,
          1,
          1,
          1,
          1,
          1,
          1,
          1,
          1,
          1,
          1,
          1,
          1,
          1,
          1,
          1,
          1,
          1,
          1,
          1,
          1,
          1,
          1,
          1,
          1,
          1,
          1,
          1,
          1,
          1,
          1,
          1,
          1,
          1,
          1,
          1,
          1,
          1,
          1,
          1,
          1,
          1,
          1,
          1,
          1,
          1,
          1,
          1,
          1,
          1,
          1,
          1,
          1,
          1,
          1,
          1,
          1,
          1,
          1,
          1,
          1,
          1,
          1,
          1,
          1,
          1,
          1,
          1,
          1,
          1,
          1,
          1,
          1,
          1,
          1,
          1,
          1,
          1,
          1,
          1,
          1,
          1,
          1,
          1,
          1,
          1,
          1,
          1,
          1,
          1,
          1,
          1,
          1,
          1,
          1,
          1,
          1,
          1,
          1,
          1,
          1,
          1,
          1,
          1,
          1,
          1,
          1,
          1,
          1,
          1,
          1,
          1,
          1,
          1,
          1,
          1,
          1,
          1,
          1,
          1,
          1,
          1,
          1,
          1,
          1,
          1,
          1,
          1,
          1,
          1,
          1,
          1,
          1,
          1
         ],
         "yaxis": "y"
        }
       ],
       "layout": {
        "barmode": "relative",
        "legend": {
         "title": {
          "text": "variable"
         },
         "tracegroupgap": 0
        },
        "template": {
         "data": {
          "bar": [
           {
            "error_x": {
             "color": "#2a3f5f"
            },
            "error_y": {
             "color": "#2a3f5f"
            },
            "marker": {
             "line": {
              "color": "#E5ECF6",
              "width": 0.5
             },
             "pattern": {
              "fillmode": "overlay",
              "size": 10,
              "solidity": 0.2
             }
            },
            "type": "bar"
           }
          ],
          "barpolar": [
           {
            "marker": {
             "line": {
              "color": "#E5ECF6",
              "width": 0.5
             },
             "pattern": {
              "fillmode": "overlay",
              "size": 10,
              "solidity": 0.2
             }
            },
            "type": "barpolar"
           }
          ],
          "carpet": [
           {
            "aaxis": {
             "endlinecolor": "#2a3f5f",
             "gridcolor": "white",
             "linecolor": "white",
             "minorgridcolor": "white",
             "startlinecolor": "#2a3f5f"
            },
            "baxis": {
             "endlinecolor": "#2a3f5f",
             "gridcolor": "white",
             "linecolor": "white",
             "minorgridcolor": "white",
             "startlinecolor": "#2a3f5f"
            },
            "type": "carpet"
           }
          ],
          "choropleth": [
           {
            "colorbar": {
             "outlinewidth": 0,
             "ticks": ""
            },
            "type": "choropleth"
           }
          ],
          "contour": [
           {
            "colorbar": {
             "outlinewidth": 0,
             "ticks": ""
            },
            "colorscale": [
             [
              0,
              "#0d0887"
             ],
             [
              0.1111111111111111,
              "#46039f"
             ],
             [
              0.2222222222222222,
              "#7201a8"
             ],
             [
              0.3333333333333333,
              "#9c179e"
             ],
             [
              0.4444444444444444,
              "#bd3786"
             ],
             [
              0.5555555555555556,
              "#d8576b"
             ],
             [
              0.6666666666666666,
              "#ed7953"
             ],
             [
              0.7777777777777778,
              "#fb9f3a"
             ],
             [
              0.8888888888888888,
              "#fdca26"
             ],
             [
              1,
              "#f0f921"
             ]
            ],
            "type": "contour"
           }
          ],
          "contourcarpet": [
           {
            "colorbar": {
             "outlinewidth": 0,
             "ticks": ""
            },
            "type": "contourcarpet"
           }
          ],
          "heatmap": [
           {
            "colorbar": {
             "outlinewidth": 0,
             "ticks": ""
            },
            "colorscale": [
             [
              0,
              "#0d0887"
             ],
             [
              0.1111111111111111,
              "#46039f"
             ],
             [
              0.2222222222222222,
              "#7201a8"
             ],
             [
              0.3333333333333333,
              "#9c179e"
             ],
             [
              0.4444444444444444,
              "#bd3786"
             ],
             [
              0.5555555555555556,
              "#d8576b"
             ],
             [
              0.6666666666666666,
              "#ed7953"
             ],
             [
              0.7777777777777778,
              "#fb9f3a"
             ],
             [
              0.8888888888888888,
              "#fdca26"
             ],
             [
              1,
              "#f0f921"
             ]
            ],
            "type": "heatmap"
           }
          ],
          "heatmapgl": [
           {
            "colorbar": {
             "outlinewidth": 0,
             "ticks": ""
            },
            "colorscale": [
             [
              0,
              "#0d0887"
             ],
             [
              0.1111111111111111,
              "#46039f"
             ],
             [
              0.2222222222222222,
              "#7201a8"
             ],
             [
              0.3333333333333333,
              "#9c179e"
             ],
             [
              0.4444444444444444,
              "#bd3786"
             ],
             [
              0.5555555555555556,
              "#d8576b"
             ],
             [
              0.6666666666666666,
              "#ed7953"
             ],
             [
              0.7777777777777778,
              "#fb9f3a"
             ],
             [
              0.8888888888888888,
              "#fdca26"
             ],
             [
              1,
              "#f0f921"
             ]
            ],
            "type": "heatmapgl"
           }
          ],
          "histogram": [
           {
            "marker": {
             "pattern": {
              "fillmode": "overlay",
              "size": 10,
              "solidity": 0.2
             }
            },
            "type": "histogram"
           }
          ],
          "histogram2d": [
           {
            "colorbar": {
             "outlinewidth": 0,
             "ticks": ""
            },
            "colorscale": [
             [
              0,
              "#0d0887"
             ],
             [
              0.1111111111111111,
              "#46039f"
             ],
             [
              0.2222222222222222,
              "#7201a8"
             ],
             [
              0.3333333333333333,
              "#9c179e"
             ],
             [
              0.4444444444444444,
              "#bd3786"
             ],
             [
              0.5555555555555556,
              "#d8576b"
             ],
             [
              0.6666666666666666,
              "#ed7953"
             ],
             [
              0.7777777777777778,
              "#fb9f3a"
             ],
             [
              0.8888888888888888,
              "#fdca26"
             ],
             [
              1,
              "#f0f921"
             ]
            ],
            "type": "histogram2d"
           }
          ],
          "histogram2dcontour": [
           {
            "colorbar": {
             "outlinewidth": 0,
             "ticks": ""
            },
            "colorscale": [
             [
              0,
              "#0d0887"
             ],
             [
              0.1111111111111111,
              "#46039f"
             ],
             [
              0.2222222222222222,
              "#7201a8"
             ],
             [
              0.3333333333333333,
              "#9c179e"
             ],
             [
              0.4444444444444444,
              "#bd3786"
             ],
             [
              0.5555555555555556,
              "#d8576b"
             ],
             [
              0.6666666666666666,
              "#ed7953"
             ],
             [
              0.7777777777777778,
              "#fb9f3a"
             ],
             [
              0.8888888888888888,
              "#fdca26"
             ],
             [
              1,
              "#f0f921"
             ]
            ],
            "type": "histogram2dcontour"
           }
          ],
          "mesh3d": [
           {
            "colorbar": {
             "outlinewidth": 0,
             "ticks": ""
            },
            "type": "mesh3d"
           }
          ],
          "parcoords": [
           {
            "line": {
             "colorbar": {
              "outlinewidth": 0,
              "ticks": ""
             }
            },
            "type": "parcoords"
           }
          ],
          "pie": [
           {
            "automargin": true,
            "type": "pie"
           }
          ],
          "scatter": [
           {
            "marker": {
             "colorbar": {
              "outlinewidth": 0,
              "ticks": ""
             }
            },
            "type": "scatter"
           }
          ],
          "scatter3d": [
           {
            "line": {
             "colorbar": {
              "outlinewidth": 0,
              "ticks": ""
             }
            },
            "marker": {
             "colorbar": {
              "outlinewidth": 0,
              "ticks": ""
             }
            },
            "type": "scatter3d"
           }
          ],
          "scattercarpet": [
           {
            "marker": {
             "colorbar": {
              "outlinewidth": 0,
              "ticks": ""
             }
            },
            "type": "scattercarpet"
           }
          ],
          "scattergeo": [
           {
            "marker": {
             "colorbar": {
              "outlinewidth": 0,
              "ticks": ""
             }
            },
            "type": "scattergeo"
           }
          ],
          "scattergl": [
           {
            "marker": {
             "colorbar": {
              "outlinewidth": 0,
              "ticks": ""
             }
            },
            "type": "scattergl"
           }
          ],
          "scattermapbox": [
           {
            "marker": {
             "colorbar": {
              "outlinewidth": 0,
              "ticks": ""
             }
            },
            "type": "scattermapbox"
           }
          ],
          "scatterpolar": [
           {
            "marker": {
             "colorbar": {
              "outlinewidth": 0,
              "ticks": ""
             }
            },
            "type": "scatterpolar"
           }
          ],
          "scatterpolargl": [
           {
            "marker": {
             "colorbar": {
              "outlinewidth": 0,
              "ticks": ""
             }
            },
            "type": "scatterpolargl"
           }
          ],
          "scatterternary": [
           {
            "marker": {
             "colorbar": {
              "outlinewidth": 0,
              "ticks": ""
             }
            },
            "type": "scatterternary"
           }
          ],
          "surface": [
           {
            "colorbar": {
             "outlinewidth": 0,
             "ticks": ""
            },
            "colorscale": [
             [
              0,
              "#0d0887"
             ],
             [
              0.1111111111111111,
              "#46039f"
             ],
             [
              0.2222222222222222,
              "#7201a8"
             ],
             [
              0.3333333333333333,
              "#9c179e"
             ],
             [
              0.4444444444444444,
              "#bd3786"
             ],
             [
              0.5555555555555556,
              "#d8576b"
             ],
             [
              0.6666666666666666,
              "#ed7953"
             ],
             [
              0.7777777777777778,
              "#fb9f3a"
             ],
             [
              0.8888888888888888,
              "#fdca26"
             ],
             [
              1,
              "#f0f921"
             ]
            ],
            "type": "surface"
           }
          ],
          "table": [
           {
            "cells": {
             "fill": {
              "color": "#EBF0F8"
             },
             "line": {
              "color": "white"
             }
            },
            "header": {
             "fill": {
              "color": "#C8D4E3"
             },
             "line": {
              "color": "white"
             }
            },
            "type": "table"
           }
          ]
         },
         "layout": {
          "annotationdefaults": {
           "arrowcolor": "#2a3f5f",
           "arrowhead": 0,
           "arrowwidth": 1
          },
          "autotypenumbers": "strict",
          "coloraxis": {
           "colorbar": {
            "outlinewidth": 0,
            "ticks": ""
           }
          },
          "colorscale": {
           "diverging": [
            [
             0,
             "#8e0152"
            ],
            [
             0.1,
             "#c51b7d"
            ],
            [
             0.2,
             "#de77ae"
            ],
            [
             0.3,
             "#f1b6da"
            ],
            [
             0.4,
             "#fde0ef"
            ],
            [
             0.5,
             "#f7f7f7"
            ],
            [
             0.6,
             "#e6f5d0"
            ],
            [
             0.7,
             "#b8e186"
            ],
            [
             0.8,
             "#7fbc41"
            ],
            [
             0.9,
             "#4d9221"
            ],
            [
             1,
             "#276419"
            ]
           ],
           "sequential": [
            [
             0,
             "#0d0887"
            ],
            [
             0.1111111111111111,
             "#46039f"
            ],
            [
             0.2222222222222222,
             "#7201a8"
            ],
            [
             0.3333333333333333,
             "#9c179e"
            ],
            [
             0.4444444444444444,
             "#bd3786"
            ],
            [
             0.5555555555555556,
             "#d8576b"
            ],
            [
             0.6666666666666666,
             "#ed7953"
            ],
            [
             0.7777777777777778,
             "#fb9f3a"
            ],
            [
             0.8888888888888888,
             "#fdca26"
            ],
            [
             1,
             "#f0f921"
            ]
           ],
           "sequentialminus": [
            [
             0,
             "#0d0887"
            ],
            [
             0.1111111111111111,
             "#46039f"
            ],
            [
             0.2222222222222222,
             "#7201a8"
            ],
            [
             0.3333333333333333,
             "#9c179e"
            ],
            [
             0.4444444444444444,
             "#bd3786"
            ],
            [
             0.5555555555555556,
             "#d8576b"
            ],
            [
             0.6666666666666666,
             "#ed7953"
            ],
            [
             0.7777777777777778,
             "#fb9f3a"
            ],
            [
             0.8888888888888888,
             "#fdca26"
            ],
            [
             1,
             "#f0f921"
            ]
           ]
          },
          "colorway": [
           "#636efa",
           "#EF553B",
           "#00cc96",
           "#ab63fa",
           "#FFA15A",
           "#19d3f3",
           "#FF6692",
           "#B6E880",
           "#FF97FF",
           "#FECB52"
          ],
          "font": {
           "color": "#2a3f5f"
          },
          "geo": {
           "bgcolor": "white",
           "lakecolor": "white",
           "landcolor": "#E5ECF6",
           "showlakes": true,
           "showland": true,
           "subunitcolor": "white"
          },
          "hoverlabel": {
           "align": "left"
          },
          "hovermode": "closest",
          "mapbox": {
           "style": "light"
          },
          "paper_bgcolor": "white",
          "plot_bgcolor": "#E5ECF6",
          "polar": {
           "angularaxis": {
            "gridcolor": "white",
            "linecolor": "white",
            "ticks": ""
           },
           "bgcolor": "#E5ECF6",
           "radialaxis": {
            "gridcolor": "white",
            "linecolor": "white",
            "ticks": ""
           }
          },
          "scene": {
           "xaxis": {
            "backgroundcolor": "#E5ECF6",
            "gridcolor": "white",
            "gridwidth": 2,
            "linecolor": "white",
            "showbackground": true,
            "ticks": "",
            "zerolinecolor": "white"
           },
           "yaxis": {
            "backgroundcolor": "#E5ECF6",
            "gridcolor": "white",
            "gridwidth": 2,
            "linecolor": "white",
            "showbackground": true,
            "ticks": "",
            "zerolinecolor": "white"
           },
           "zaxis": {
            "backgroundcolor": "#E5ECF6",
            "gridcolor": "white",
            "gridwidth": 2,
            "linecolor": "white",
            "showbackground": true,
            "ticks": "",
            "zerolinecolor": "white"
           }
          },
          "shapedefaults": {
           "line": {
            "color": "#2a3f5f"
           }
          },
          "ternary": {
           "aaxis": {
            "gridcolor": "white",
            "linecolor": "white",
            "ticks": ""
           },
           "baxis": {
            "gridcolor": "white",
            "linecolor": "white",
            "ticks": ""
           },
           "bgcolor": "#E5ECF6",
           "caxis": {
            "gridcolor": "white",
            "linecolor": "white",
            "ticks": ""
           }
          },
          "title": {
           "x": 0.05
          },
          "xaxis": {
           "automargin": true,
           "gridcolor": "white",
           "linecolor": "white",
           "ticks": "",
           "title": {
            "standoff": 15
           },
           "zerolinecolor": "white",
           "zerolinewidth": 2
          },
          "yaxis": {
           "automargin": true,
           "gridcolor": "white",
           "linecolor": "white",
           "ticks": "",
           "title": {
            "standoff": 15
           },
           "zerolinecolor": "white",
           "zerolinewidth": 2
          }
         }
        },
        "title": {
         "text": "Counts of buildings by curtomer type"
        },
        "xaxis": {
         "anchor": "y",
         "domain": [
          0,
          1
         ],
         "title": {
          "text": "value"
         }
        },
        "yaxis": {
         "anchor": "x",
         "domain": [
          0,
          1
         ],
         "title": {
          "text": "count"
         }
        }
       }
      }
     },
     "metadata": {},
     "output_type": "display_data"
    }
   ],
   "source": [
    "df_buildings_flt[[\"customerType\"]].plot(kind='bar', title = \"Counts of buildings by curtomer type\")"
   ]
  },
  {
   "cell_type": "markdown",
   "metadata": {},
   "source": [
    "## Now some function to help select buildings"
   ]
  },
  {
   "cell_type": "code",
   "execution_count": 41,
   "metadata": {},
   "outputs": [],
   "source": [
    "def sb_buildings_by_function(df,function_string):\n",
    "    \"\"\"Function to get all buildings from the all buildings dataframe and filter them by function\n",
    "    params:\n",
    "    df: A pandas dataframe\n",
    "    function_string : A list of string functions\n",
    "    return: Filtered pandas dataframe\"\"\"\n",
    "    filtered_df = df[df[\"customerType\"]==function_string]\n",
    "    return filtered_df\n",
    "    "
   ]
  },
  {
   "cell_type": "code",
   "execution_count": 57,
   "metadata": {},
   "outputs": [
    {
     "data": {
      "text/html": [
       "<div>\n",
       "<style scoped>\n",
       "    .dataframe tbody tr th:only-of-type {\n",
       "        vertical-align: middle;\n",
       "    }\n",
       "\n",
       "    .dataframe tbody tr th {\n",
       "        vertical-align: top;\n",
       "    }\n",
       "\n",
       "    .dataframe thead th {\n",
       "        text-align: right;\n",
       "    }\n",
       "</style>\n",
       "<table border=\"1\" class=\"dataframe\">\n",
       "  <thead>\n",
       "    <tr style=\"text-align: right;\">\n",
       "      <th></th>\n",
       "      <th>id</th>\n",
       "      <th>org_id</th>\n",
       "      <th>name</th>\n",
       "      <th>address</th>\n",
       "      <th>sq_ft</th>\n",
       "      <th>image_src</th>\n",
       "      <th>bms_manufacturer</th>\n",
       "      <th>bms_product_name</th>\n",
       "      <th>bms_version</th>\n",
       "      <th>timezone</th>\n",
       "      <th>...</th>\n",
       "      <th>sunend</th>\n",
       "      <th>geoCity</th>\n",
       "      <th>geoState</th>\n",
       "      <th>m2fstart</th>\n",
       "      <th>satstart</th>\n",
       "      <th>sunstart</th>\n",
       "      <th>yearBuilt</th>\n",
       "      <th>geoCountry</th>\n",
       "      <th>weatherRef</th>\n",
       "      <th>customerType</th>\n",
       "    </tr>\n",
       "  </thead>\n",
       "  <tbody>\n",
       "    <tr>\n",
       "      <th>0</th>\n",
       "      <td>441</td>\n",
       "      <td>5</td>\n",
       "      <td>88737</td>\n",
       "      <td>None</td>\n",
       "      <td>551143.0</td>\n",
       "      <td>None</td>\n",
       "      <td>None</td>\n",
       "      <td>None</td>\n",
       "      <td>None</td>\n",
       "      <td>America/New_York</td>\n",
       "      <td>...</td>\n",
       "      <td></td>\n",
       "      <td>Bronx</td>\n",
       "      <td>NY</td>\n",
       "      <td></td>\n",
       "      <td></td>\n",
       "      <td></td>\n",
       "      <td></td>\n",
       "      <td>US</td>\n",
       "      <td></td>\n",
       "      <td>Multifamily</td>\n",
       "    </tr>\n",
       "    <tr>\n",
       "      <th>4</th>\n",
       "      <td>248</td>\n",
       "      <td>5</td>\n",
       "      <td>116742</td>\n",
       "      <td>None</td>\n",
       "      <td>127000.0</td>\n",
       "      <td>None</td>\n",
       "      <td>None</td>\n",
       "      <td>None</td>\n",
       "      <td>None</td>\n",
       "      <td>America/New_York</td>\n",
       "      <td>...</td>\n",
       "      <td></td>\n",
       "      <td>New York</td>\n",
       "      <td>NY</td>\n",
       "      <td></td>\n",
       "      <td></td>\n",
       "      <td></td>\n",
       "      <td></td>\n",
       "      <td>US</td>\n",
       "      <td></td>\n",
       "      <td>Multifamily</td>\n",
       "    </tr>\n",
       "    <tr>\n",
       "      <th>6</th>\n",
       "      <td>434</td>\n",
       "      <td>5</td>\n",
       "      <td>129666</td>\n",
       "      <td>None</td>\n",
       "      <td>56090.0</td>\n",
       "      <td>None</td>\n",
       "      <td>None</td>\n",
       "      <td>None</td>\n",
       "      <td>None</td>\n",
       "      <td>America/New_York</td>\n",
       "      <td>...</td>\n",
       "      <td></td>\n",
       "      <td>Brooklyn</td>\n",
       "      <td>NY</td>\n",
       "      <td></td>\n",
       "      <td></td>\n",
       "      <td></td>\n",
       "      <td></td>\n",
       "      <td>US</td>\n",
       "      <td></td>\n",
       "      <td>Multifamily</td>\n",
       "    </tr>\n",
       "    <tr>\n",
       "      <th>11</th>\n",
       "      <td>317</td>\n",
       "      <td>5</td>\n",
       "      <td>128286</td>\n",
       "      <td>None</td>\n",
       "      <td>35000.0</td>\n",
       "      <td>None</td>\n",
       "      <td>None</td>\n",
       "      <td>None</td>\n",
       "      <td>None</td>\n",
       "      <td>America/New_York</td>\n",
       "      <td>...</td>\n",
       "      <td></td>\n",
       "      <td>New York</td>\n",
       "      <td>NY</td>\n",
       "      <td></td>\n",
       "      <td></td>\n",
       "      <td></td>\n",
       "      <td></td>\n",
       "      <td>US</td>\n",
       "      <td></td>\n",
       "      <td>Multifamily</td>\n",
       "    </tr>\n",
       "    <tr>\n",
       "      <th>13</th>\n",
       "      <td>375</td>\n",
       "      <td>5</td>\n",
       "      <td>97789</td>\n",
       "      <td>None</td>\n",
       "      <td>232808.0</td>\n",
       "      <td>None</td>\n",
       "      <td>None</td>\n",
       "      <td>None</td>\n",
       "      <td>None</td>\n",
       "      <td>America/New_York</td>\n",
       "      <td>...</td>\n",
       "      <td></td>\n",
       "      <td>BRONX</td>\n",
       "      <td>NY</td>\n",
       "      <td></td>\n",
       "      <td></td>\n",
       "      <td></td>\n",
       "      <td></td>\n",
       "      <td>US</td>\n",
       "      <td></td>\n",
       "      <td>Multifamily</td>\n",
       "    </tr>\n",
       "  </tbody>\n",
       "</table>\n",
       "<p>5 rows × 26 columns</p>\n",
       "</div>"
      ],
      "text/plain": [
       "     id  org_id    name address     sq_ft image_src bms_manufacturer  \\\n",
       "0   441       5   88737    None  551143.0      None             None   \n",
       "4   248       5  116742    None  127000.0      None             None   \n",
       "6   434       5  129666    None   56090.0      None             None   \n",
       "11  317       5  128286    None   35000.0      None             None   \n",
       "13  375       5   97789    None  232808.0      None             None   \n",
       "\n",
       "   bms_product_name bms_version          timezone  ... sunend   geoCity  \\\n",
       "0              None        None  America/New_York  ...            Bronx   \n",
       "4              None        None  America/New_York  ...         New York   \n",
       "6              None        None  America/New_York  ...         Brooklyn   \n",
       "11             None        None  America/New_York  ...         New York   \n",
       "13             None        None  America/New_York  ...            BRONX   \n",
       "\n",
       "    geoState m2fstart satstart sunstart yearBuilt geoCountry weatherRef  \\\n",
       "0         NY                                              US              \n",
       "4         NY                                              US              \n",
       "6         NY                                              US              \n",
       "11        NY                                              US              \n",
       "13        NY                                              US              \n",
       "\n",
       "   customerType  \n",
       "0   Multifamily  \n",
       "4   Multifamily  \n",
       "6   Multifamily  \n",
       "11  Multifamily  \n",
       "13  Multifamily  \n",
       "\n",
       "[5 rows x 26 columns]"
      ]
     },
     "execution_count": 57,
     "metadata": {},
     "output_type": "execute_result"
    }
   ],
   "source": [
    "df_multifamily = sb_buildings_by_function(df_buildings_flt,\"Multifamily\")\n",
    "df_multifamily.head()"
   ]
  },
  {
   "cell_type": "markdown",
   "metadata": {},
   "source": [
    "## Going into the building sensors now"
   ]
  },
  {
   "cell_type": "code",
   "execution_count": 58,
   "metadata": {},
   "outputs": [],
   "source": [
    "#Lets start with this building\n",
    "all_buildings = df_multifamily[\"id\"].to_list()"
   ]
  },
  {
   "cell_type": "code",
   "execution_count": null,
   "metadata": {},
   "outputs": [],
   "source": [
    "'Hot Water Supply Temperature',\n",
    "'Hot Water Return Temperature',\n",
    "'Status',\n",
    "'Hot Water Supply Temperature Setpoint',\n",
    "'Enable'\n"
   ]
  },
  {
   "cell_type": "code",
   "execution_count": 90,
   "metadata": {},
   "outputs": [],
   "source": [
    "query = PointSelector()\n",
    "query.point_types     = ['Hot Water Supply Temperature']        # can list multiple point\n",
    "query.equipment_types = ['boiler']     # types, equipment types,\n",
    "query.buildings       = all_buildings        # buildings, etc.\n",
    "selection = client.select_points(query)\n",
    "points = selection[\"points\"]\n",
    "\n",
    "sensor_metadata = pd.DataFrame(client.get_points_by_ids(points))\n",
    "\n",
    "#start_date = sensor_metadata.last_updated.apply(lambda x: datetime.fromtimestamp(x/1000, timezone.utc)).min()\n",
    "#end_date = sensor_metadata.first_updated.apply(lambda x: datetime.fromtimestamp(x/1000, timezone.utc)).max()\n",
    "\n",
    "tz = pytz.timezone('UTC')\n",
    "start_date = datetime(2018,1,1,0,0,0).replace(tzinfo=tz)\n",
    "end_date = datetime(2018,12,31,0,0,0).replace(tzinfo=tz)\n",
    "\n",
    "timeseries_query = TimeseriesQuery(point_ids = selection['points'], start = start_date, end = end_date)\n",
    "sensor_data = points_df_from_streaming_timeseries(client.stream_point_timeseries(timeseries_query))"
   ]
  },
  {
   "cell_type": "code",
   "execution_count": 92,
   "metadata": {},
   "outputs": [
    {
     "name": "stderr",
     "output_type": "stream",
     "text": [
      "C:\\Users\\ssanjay\\AppData\\Local\\Temp\\ipykernel_5048\\3646713211.py:3: SettingWithCopyWarning:\n",
      "\n",
      "\n",
      "A value is trying to be set on a copy of a slice from a DataFrame.\n",
      "Try using .loc[row_indexer,col_indexer] = value instead\n",
      "\n",
      "See the caveats in the documentation: https://pandas.pydata.org/pandas-docs/stable/user_guide/indexing.html#returning-a-view-versus-a-copy\n",
      "\n"
     ]
    },
    {
     "data": {
      "text/html": [
       "<div>\n",
       "<style scoped>\n",
       "    .dataframe tbody tr th:only-of-type {\n",
       "        vertical-align: middle;\n",
       "    }\n",
       "\n",
       "    .dataframe tbody tr th {\n",
       "        vertical-align: top;\n",
       "    }\n",
       "\n",
       "    .dataframe thead th {\n",
       "        text-align: right;\n",
       "    }\n",
       "</style>\n",
       "<table border=\"1\" class=\"dataframe\">\n",
       "  <thead>\n",
       "    <tr style=\"text-align: right;\">\n",
       "      <th></th>\n",
       "      <th>building_id</th>\n",
       "      <th>id</th>\n",
       "      <th>description</th>\n",
       "      <th>value</th>\n",
       "      <th>short_name</th>\n",
       "    </tr>\n",
       "  </thead>\n",
       "  <tbody>\n",
       "    <tr>\n",
       "      <th>0</th>\n",
       "      <td>111</td>\n",
       "      <td>194188</td>\n",
       "      <td>237 W 100th St Boiler Domestic Hot Water Tempe...</td>\n",
       "      <td>173.35</td>\n",
       "      <td>237 W 100th St</td>\n",
       "    </tr>\n",
       "    <tr>\n",
       "      <th>1</th>\n",
       "      <td>111</td>\n",
       "      <td>194193</td>\n",
       "      <td>237 W 100th St Boiler Hot Water Coil Temperature</td>\n",
       "      <td>177.47</td>\n",
       "      <td>237 W 100th St</td>\n",
       "    </tr>\n",
       "    <tr>\n",
       "      <th>2</th>\n",
       "      <td>127</td>\n",
       "      <td>197306</td>\n",
       "      <td>Boiler1 Temp</td>\n",
       "      <td>187.00</td>\n",
       "      <td>Boiler1 Temp</td>\n",
       "    </tr>\n",
       "    <tr>\n",
       "      <th>3</th>\n",
       "      <td>127</td>\n",
       "      <td>197308</td>\n",
       "      <td>Boiler2 Temp</td>\n",
       "      <td>184.25</td>\n",
       "      <td>Boiler2 Temp</td>\n",
       "    </tr>\n",
       "    <tr>\n",
       "      <th>4</th>\n",
       "      <td>128</td>\n",
       "      <td>197392</td>\n",
       "      <td>800 Grand Concourse Boiler Boiler 1 Domestic P...</td>\n",
       "      <td>190.94</td>\n",
       "      <td>800 Grand Conco</td>\n",
       "    </tr>\n",
       "  </tbody>\n",
       "</table>\n",
       "</div>"
      ],
      "text/plain": [
       "   building_id      id                                        description  \\\n",
       "0          111  194188  237 W 100th St Boiler Domestic Hot Water Tempe...   \n",
       "1          111  194193   237 W 100th St Boiler Hot Water Coil Temperature   \n",
       "2          127  197306                                       Boiler1 Temp   \n",
       "3          127  197308                                       Boiler2 Temp   \n",
       "4          128  197392  800 Grand Concourse Boiler Boiler 1 Domestic P...   \n",
       "\n",
       "    value       short_name  \n",
       "0  173.35  237 W 100th St   \n",
       "1  177.47  237 W 100th St   \n",
       "2  187.00     Boiler1 Temp  \n",
       "3  184.25     Boiler2 Temp  \n",
       "4  190.94  800 Grand Conco  "
      ]
     },
     "execution_count": 92,
     "metadata": {},
     "output_type": "execute_result"
    }
   ],
   "source": [
    "df_sensor = sensor_metadata[[\"building_id\",\"id\",\"name\",\"description\",\"value\"]]\n",
    "#df_sensor = df_sensor.description.fillna(value=np.nan, inplace=True)\n",
    "df_sensor['description'] = df_sensor['description'].fillna(df_sensor['name'])\n",
    "df_sensor = df_sensor.drop(columns=\"name\")\n",
    "df_sensor[\"value\"] = pd.to_numeric(df_sensor[\"value\"])\n",
    "df_sensor[\"short_name\"] = df_sensor['description'].str[:15]\n",
    "df_sensor.head()\n"
   ]
  },
  {
   "cell_type": "code",
   "execution_count": 93,
   "metadata": {},
   "outputs": [
    {
     "data": {
      "application/vnd.plotly.v1+json": {
       "config": {
        "plotlyServerURL": "https://plot.ly"
       },
       "data": [
        {
         "alignmentgroup": "True",
         "hovertemplate": "value=%{marker.color}<br>description=%{y}<extra></extra>",
         "legendgroup": "",
         "marker": {
          "color": [
           173.35,
           177.47,
           187,
           184.25,
           190.94,
           198.26,
           120.74,
           175.2,
           122.4,
           146.28,
           123.48,
           152.66,
           116.3,
           146.64,
           128,
           188.16,
           175.64,
           171.87,
           121.49,
           169.85,
           121.92,
           162.43,
           129.41,
           113.84,
           129.17,
           131.11,
           163.98,
           120.1,
           192.06,
           129.19,
           150.01,
           206.45,
           127.03,
           132.83,
           177.73,
           164.27,
           163.37,
           212.51,
           125.34,
           153.76,
           104.16,
           99.69,
           95.78,
           137.36,
           154.38,
           83.58,
           126.79,
           186.12,
           187.55,
           152.95,
           128.65,
           193.9,
           172.25,
           66.42,
           164.89,
           198,
           184,
           202,
           131.57,
           157.81,
           122.05,
           176.3,
           122.32,
           211.13,
           123.67,
           185.65,
           137.76,
           181.25,
           91.6,
           108.25,
           103.4,
           126.73,
           143.51,
           216.41,
           135.01,
           166.99,
           121.03,
           146.13,
           121.99,
           142.29,
           132,
           140,
           131,
           131,
           127,
           121.3,
           184.45,
           146.43,
           148.99,
           131.6,
           170.73,
           133.99,
           137.52,
           128.57,
           163.2,
           113.72,
           137.9,
           139.47,
           132.74,
           81.47
          ],
          "coloraxis": "coloraxis",
          "pattern": {
           "shape": ""
          }
         },
         "name": "",
         "offsetgroup": "",
         "orientation": "h",
         "showlegend": false,
         "textposition": "auto",
         "type": "bar",
         "x": [
          173.35,
          177.47,
          187,
          184.25,
          190.94,
          198.26,
          120.74,
          175.2,
          122.4,
          146.28,
          123.48,
          152.66,
          116.3,
          146.64,
          128,
          188.16,
          175.64,
          171.87,
          121.49,
          169.85,
          121.92,
          162.43,
          129.41,
          113.84,
          129.17,
          131.11,
          163.98,
          120.1,
          192.06,
          129.19,
          150.01,
          206.45,
          127.03,
          132.83,
          177.73,
          164.27,
          163.37,
          212.51,
          125.34,
          153.76,
          104.16,
          99.69,
          95.78,
          137.36,
          154.38,
          83.58,
          126.79,
          186.12,
          187.55,
          152.95,
          128.65,
          193.9,
          172.25,
          66.42,
          164.89,
          198,
          184,
          202,
          131.57,
          157.81,
          122.05,
          176.3,
          122.32,
          211.13,
          123.67,
          185.65,
          137.76,
          181.25,
          91.6,
          108.25,
          103.4,
          126.73,
          143.51,
          216.41,
          135.01,
          166.99,
          121.03,
          146.13,
          121.99,
          142.29,
          132,
          140,
          131,
          131,
          127,
          121.3,
          184.45,
          146.43,
          148.99,
          131.6,
          170.73,
          133.99,
          137.52,
          128.57,
          163.2,
          113.72,
          137.9,
          139.47,
          132.74,
          81.47
         ],
         "xaxis": "x",
         "y": [
          "237 W 100th St Boiler Domestic Hot Water Temperature",
          "237 W 100th St Boiler Hot Water Coil Temperature",
          "Boiler1 Temp",
          "Boiler2 Temp",
          "800 Grand Concourse Boiler Boiler 1 Domestic Pre-Mix Temp",
          "800 Grand Concourse Boiler Boiler 2 Domestic Pre-Mix Temp",
          "1915 Morris Avenue Boiler Domestic Hot Water Temperature",
          "1915 Morris Avenue Boiler Hot Water Coil Temperature",
          "2543 Decatur Avenue Boiler Domestic Hot Water Temperature",
          "2543 Decatur Avenue Boiler Hot Water Coil Temperature",
          "36 E 22nd Street Heating Valve Control DHW Temperature",
          "1908 Belmont Avenue Boiler Boiler Hot Water Supply Temperature",
          "1908 Belmont Avenue Boiler Domestic Hot Water Temperature",
          "1908 Belmont Avenue Boiler Hot Water Coil Temperature",
          "409 E 84th Street Boiler Domestic Hot Water Temperature",
          "409 E 84th Street Boiler Hot Water Coil Temperature",
          "1898 Belmont Avenue Boiler Boiler Hot Water Supply Temperature",
          "1898 Belmont Avenue Boiler Building Hot Water Supply Temperature",
          "1898 Belmont Avenue Boiler Domestic Hot Water Temperature",
          "1898 Belmont Avenue Boiler Hot Water Coil Temperature",
          "220 E 27th Street Boiler Domestic Hot Water Temperature",
          "220 E 27th Street Boiler Hot Water Coil Temperature",
          "815 W 180th Street Boiler Domestic Hot Water Temperature",
          "815 W 180th Street Boiler Hot Water Coil Temperature",
          "304 St Johns Boiler Domestic Hot Water Temperature",
          "304 St Johns Boiler Hot Water Supply Temperature",
          "220 East 54th St. Manhattan Boiler Plant Domestic Hot Water Post Mix Temp",
          "1818 Anthony Avenue Boiler Domestic Hot Water Temperature",
          "1818 Anthony Avenue Boiler Hot Water Coil Temperature",
          "447 Fort Washington Boiler Domestic Hot Water Temperature",
          "447 Fort Washington Boiler Hot Water Coil Temperature",
          "214 East 178th St Boiler Hot Water Coil Temperature",
          "214 East 178th St Boiler Domestic Hot Water Temperature",
          "718 Broadway Boiler Domestic Hot Water Temperature",
          "718 Broadway Boiler Hot Water Coil Temperature",
          "Selfhelp K3 Central Plant Boiler 1 Temperature",
          "Selfhelp K3 Central Plant Boiler 2 Temperature",
          "151 E 43rd Street Boiler Hot Water Coil Temperature",
          "151 E 43rd Street Boiler Domestic Hot Water Temperature",
          "935 Ogden Avenue Boiler Hot Water Coil Temperature",
          "935 Ogden Avenue Boiler Domestic Hot Water Temperature",
          "1860 Morris Avenue Boiler Hot Water Coil Temperature",
          "1860 Morris Avenue Boiler Domestic Hot Water Temperature",
          "100 Lawn Terrace Boiler Domestic Hot Water Temperature",
          "100 Lawn Terrace Boiler Hot Water Coil Temperature",
          "100 Lawn Terrace Boiler Hot Water Supply Temperature",
          "370 Westchester Avenue Boiler Domestic Hot Water Temperature",
          "370 Westchester Avenue Boiler Hot Water Coil Temperature",
          "1871 7th Avenue Boiler Boiler Hot Water Supply Temperature",
          "1871 7th Avenue Boiler Building Hot Water Supply Temperature",
          "1871 7th Avenue Boiler Domestic Hot Water Temperature",
          "1871 7th Avenue Boiler Hot Water Coil Temperature",
          "1900 Belmont Avenue Boiler Boiler Hot Water Supply Temperature",
          "1900 Belmont Avenue Boiler Domestic Hot Water Temperature",
          "1900 Belmont Avenue Boiler Hot Water Coil Temperature",
          "Roosevelt Landings eBX Tecogen 1 Outlet Temp",
          "Roosevelt Landings eBX Tecogen 2 Outlet Temp",
          "Roosevelt Landings eBX Tecogen 3 Outlet Temp",
          "611 Academy Street Boiler Domestic Hot Water Temperature",
          "611 Academy Street Boiler Hot Water Coil Temperature",
          "569 W 173rd Street Boiler Domestic Hot Water Temperature",
          "569 W 173rd Street Boiler Hot Water Coil Temperature",
          "2180 Grand Concourse Boiler Domestic Hot Water Temperature",
          "2180 Grand Concourse Boiler Hot Water Coil Temperature",
          "60 W Broad Street Boiler Domestic Hot Water Temperature",
          "905 Palmer Avenue Boiler Boiler Hot Water Supply Temperature",
          "905 Palmer Avenue Boiler Domestic Hot Water Temperature",
          "905 Palmer Avenue Boiler Hot Water Coil Temperature",
          "905 Palmer Avenue Boiler Hot Water Supply Temperature Zone 1",
          "905 Palmer Avenue Boiler Hot Water Supply Temperature Zone 2",
          "905 Palmer Avenue Boiler Hot Water Supply Temperature Zone 3",
          "3400 Fort Independence Boiler 1 Domestic Hot Water Temperature",
          "3400 Fort Independence Boiler 1 Hot Water Coil Temperature",
          "3400 Fort Independence Boiler 2 Hot Water Coil Temperature",
          "215 E 59th Street Boiler Domestic Hot Water Temperature",
          "215 E 59th Street Boiler Hot Water Coil Temperature",
          "3000 Bronx Park East Basement Boiler Room Boiler Steam - 1 Boiler Stack Temp",
          "3000 Bronx Park East Basement Boiler Room Boiler Steam - 2 Boiler Stack Temp",
          "3400 Fort Independence Street Boiler 1 Domestic Hot Water Temperature",
          "333 Lenox Road Penthouse Boiler Room Loop Hot Water Hot Water Loop Supply Temperature",
          "225 E 149th St. Boiler Hot Water-1 Supply Temperature [Boiler 1]",
          "245 E 149th St. Boiler Hot Water-1 Supply Temperature",
          "225 E 149th St. Boiler Hot Water-2 Supply Temperature",
          "225 E 149th St. Boiler Hot Water-3 Supply Temperature",
          "225 E 149th St. Boiler Hot Water-4 Supply Temperature",
          "450 W 147th Street Boiler Domestic Hot Water Temperature",
          "450 W 147th Street Boiler Hot Water Coil Temperature",
          "70 Prospect Park SW Boiler Domestic Hot Water Temperature",
          "70 Prospect Park SW Boiler Hot Water Coil Temperature",
          "819 E 173rd Street Boiler Domestic Hot Water Temperature",
          "819 E 173rd Street Boiler Hot Water Coil Temperature",
          "45-26 44th Street Boiler Domestic Hot Water Temperature",
          "45-26 44th Street Boiler Hot Water Coil Temperature",
          "1710 Avenue H Boiler Domestic Hot Water Temperature",
          "1710 Avenue H Boiler Hot Water Coil Temperature",
          "51 Cross Street Boiler Domestic Hot Water Temperature",
          "9-11 Greenridge Avenue Boiler Domestic Hot Water Temperature",
          "9-11 Greenridge Avenue Boiler Hot Water Coil Temperature",
          "304 St Johns Place Boiler Domestic Hot Water Temperature",
          "304 St Johns Place Boiler Hot Water Supply Temperature"
         ],
         "yaxis": "y"
        }
       ],
       "layout": {
        "barmode": "relative",
        "coloraxis": {
         "colorbar": {
          "title": {
           "text": "value"
          }
         },
         "colorscale": [
          [
           0,
           "#0d0887"
          ],
          [
           0.1111111111111111,
           "#46039f"
          ],
          [
           0.2222222222222222,
           "#7201a8"
          ],
          [
           0.3333333333333333,
           "#9c179e"
          ],
          [
           0.4444444444444444,
           "#bd3786"
          ],
          [
           0.5555555555555556,
           "#d8576b"
          ],
          [
           0.6666666666666666,
           "#ed7953"
          ],
          [
           0.7777777777777778,
           "#fb9f3a"
          ],
          [
           0.8888888888888888,
           "#fdca26"
          ],
          [
           1,
           "#f0f921"
          ]
         ]
        },
        "height": 800,
        "legend": {
         "tracegroupgap": 0
        },
        "template": {
         "data": {
          "bar": [
           {
            "error_x": {
             "color": "#2a3f5f"
            },
            "error_y": {
             "color": "#2a3f5f"
            },
            "marker": {
             "line": {
              "color": "#E5ECF6",
              "width": 0.5
             },
             "pattern": {
              "fillmode": "overlay",
              "size": 10,
              "solidity": 0.2
             }
            },
            "type": "bar"
           }
          ],
          "barpolar": [
           {
            "marker": {
             "line": {
              "color": "#E5ECF6",
              "width": 0.5
             },
             "pattern": {
              "fillmode": "overlay",
              "size": 10,
              "solidity": 0.2
             }
            },
            "type": "barpolar"
           }
          ],
          "carpet": [
           {
            "aaxis": {
             "endlinecolor": "#2a3f5f",
             "gridcolor": "white",
             "linecolor": "white",
             "minorgridcolor": "white",
             "startlinecolor": "#2a3f5f"
            },
            "baxis": {
             "endlinecolor": "#2a3f5f",
             "gridcolor": "white",
             "linecolor": "white",
             "minorgridcolor": "white",
             "startlinecolor": "#2a3f5f"
            },
            "type": "carpet"
           }
          ],
          "choropleth": [
           {
            "colorbar": {
             "outlinewidth": 0,
             "ticks": ""
            },
            "type": "choropleth"
           }
          ],
          "contour": [
           {
            "colorbar": {
             "outlinewidth": 0,
             "ticks": ""
            },
            "colorscale": [
             [
              0,
              "#0d0887"
             ],
             [
              0.1111111111111111,
              "#46039f"
             ],
             [
              0.2222222222222222,
              "#7201a8"
             ],
             [
              0.3333333333333333,
              "#9c179e"
             ],
             [
              0.4444444444444444,
              "#bd3786"
             ],
             [
              0.5555555555555556,
              "#d8576b"
             ],
             [
              0.6666666666666666,
              "#ed7953"
             ],
             [
              0.7777777777777778,
              "#fb9f3a"
             ],
             [
              0.8888888888888888,
              "#fdca26"
             ],
             [
              1,
              "#f0f921"
             ]
            ],
            "type": "contour"
           }
          ],
          "contourcarpet": [
           {
            "colorbar": {
             "outlinewidth": 0,
             "ticks": ""
            },
            "type": "contourcarpet"
           }
          ],
          "heatmap": [
           {
            "colorbar": {
             "outlinewidth": 0,
             "ticks": ""
            },
            "colorscale": [
             [
              0,
              "#0d0887"
             ],
             [
              0.1111111111111111,
              "#46039f"
             ],
             [
              0.2222222222222222,
              "#7201a8"
             ],
             [
              0.3333333333333333,
              "#9c179e"
             ],
             [
              0.4444444444444444,
              "#bd3786"
             ],
             [
              0.5555555555555556,
              "#d8576b"
             ],
             [
              0.6666666666666666,
              "#ed7953"
             ],
             [
              0.7777777777777778,
              "#fb9f3a"
             ],
             [
              0.8888888888888888,
              "#fdca26"
             ],
             [
              1,
              "#f0f921"
             ]
            ],
            "type": "heatmap"
           }
          ],
          "heatmapgl": [
           {
            "colorbar": {
             "outlinewidth": 0,
             "ticks": ""
            },
            "colorscale": [
             [
              0,
              "#0d0887"
             ],
             [
              0.1111111111111111,
              "#46039f"
             ],
             [
              0.2222222222222222,
              "#7201a8"
             ],
             [
              0.3333333333333333,
              "#9c179e"
             ],
             [
              0.4444444444444444,
              "#bd3786"
             ],
             [
              0.5555555555555556,
              "#d8576b"
             ],
             [
              0.6666666666666666,
              "#ed7953"
             ],
             [
              0.7777777777777778,
              "#fb9f3a"
             ],
             [
              0.8888888888888888,
              "#fdca26"
             ],
             [
              1,
              "#f0f921"
             ]
            ],
            "type": "heatmapgl"
           }
          ],
          "histogram": [
           {
            "marker": {
             "pattern": {
              "fillmode": "overlay",
              "size": 10,
              "solidity": 0.2
             }
            },
            "type": "histogram"
           }
          ],
          "histogram2d": [
           {
            "colorbar": {
             "outlinewidth": 0,
             "ticks": ""
            },
            "colorscale": [
             [
              0,
              "#0d0887"
             ],
             [
              0.1111111111111111,
              "#46039f"
             ],
             [
              0.2222222222222222,
              "#7201a8"
             ],
             [
              0.3333333333333333,
              "#9c179e"
             ],
             [
              0.4444444444444444,
              "#bd3786"
             ],
             [
              0.5555555555555556,
              "#d8576b"
             ],
             [
              0.6666666666666666,
              "#ed7953"
             ],
             [
              0.7777777777777778,
              "#fb9f3a"
             ],
             [
              0.8888888888888888,
              "#fdca26"
             ],
             [
              1,
              "#f0f921"
             ]
            ],
            "type": "histogram2d"
           }
          ],
          "histogram2dcontour": [
           {
            "colorbar": {
             "outlinewidth": 0,
             "ticks": ""
            },
            "colorscale": [
             [
              0,
              "#0d0887"
             ],
             [
              0.1111111111111111,
              "#46039f"
             ],
             [
              0.2222222222222222,
              "#7201a8"
             ],
             [
              0.3333333333333333,
              "#9c179e"
             ],
             [
              0.4444444444444444,
              "#bd3786"
             ],
             [
              0.5555555555555556,
              "#d8576b"
             ],
             [
              0.6666666666666666,
              "#ed7953"
             ],
             [
              0.7777777777777778,
              "#fb9f3a"
             ],
             [
              0.8888888888888888,
              "#fdca26"
             ],
             [
              1,
              "#f0f921"
             ]
            ],
            "type": "histogram2dcontour"
           }
          ],
          "mesh3d": [
           {
            "colorbar": {
             "outlinewidth": 0,
             "ticks": ""
            },
            "type": "mesh3d"
           }
          ],
          "parcoords": [
           {
            "line": {
             "colorbar": {
              "outlinewidth": 0,
              "ticks": ""
             }
            },
            "type": "parcoords"
           }
          ],
          "pie": [
           {
            "automargin": true,
            "type": "pie"
           }
          ],
          "scatter": [
           {
            "marker": {
             "colorbar": {
              "outlinewidth": 0,
              "ticks": ""
             }
            },
            "type": "scatter"
           }
          ],
          "scatter3d": [
           {
            "line": {
             "colorbar": {
              "outlinewidth": 0,
              "ticks": ""
             }
            },
            "marker": {
             "colorbar": {
              "outlinewidth": 0,
              "ticks": ""
             }
            },
            "type": "scatter3d"
           }
          ],
          "scattercarpet": [
           {
            "marker": {
             "colorbar": {
              "outlinewidth": 0,
              "ticks": ""
             }
            },
            "type": "scattercarpet"
           }
          ],
          "scattergeo": [
           {
            "marker": {
             "colorbar": {
              "outlinewidth": 0,
              "ticks": ""
             }
            },
            "type": "scattergeo"
           }
          ],
          "scattergl": [
           {
            "marker": {
             "colorbar": {
              "outlinewidth": 0,
              "ticks": ""
             }
            },
            "type": "scattergl"
           }
          ],
          "scattermapbox": [
           {
            "marker": {
             "colorbar": {
              "outlinewidth": 0,
              "ticks": ""
             }
            },
            "type": "scattermapbox"
           }
          ],
          "scatterpolar": [
           {
            "marker": {
             "colorbar": {
              "outlinewidth": 0,
              "ticks": ""
             }
            },
            "type": "scatterpolar"
           }
          ],
          "scatterpolargl": [
           {
            "marker": {
             "colorbar": {
              "outlinewidth": 0,
              "ticks": ""
             }
            },
            "type": "scatterpolargl"
           }
          ],
          "scatterternary": [
           {
            "marker": {
             "colorbar": {
              "outlinewidth": 0,
              "ticks": ""
             }
            },
            "type": "scatterternary"
           }
          ],
          "surface": [
           {
            "colorbar": {
             "outlinewidth": 0,
             "ticks": ""
            },
            "colorscale": [
             [
              0,
              "#0d0887"
             ],
             [
              0.1111111111111111,
              "#46039f"
             ],
             [
              0.2222222222222222,
              "#7201a8"
             ],
             [
              0.3333333333333333,
              "#9c179e"
             ],
             [
              0.4444444444444444,
              "#bd3786"
             ],
             [
              0.5555555555555556,
              "#d8576b"
             ],
             [
              0.6666666666666666,
              "#ed7953"
             ],
             [
              0.7777777777777778,
              "#fb9f3a"
             ],
             [
              0.8888888888888888,
              "#fdca26"
             ],
             [
              1,
              "#f0f921"
             ]
            ],
            "type": "surface"
           }
          ],
          "table": [
           {
            "cells": {
             "fill": {
              "color": "#EBF0F8"
             },
             "line": {
              "color": "white"
             }
            },
            "header": {
             "fill": {
              "color": "#C8D4E3"
             },
             "line": {
              "color": "white"
             }
            },
            "type": "table"
           }
          ]
         },
         "layout": {
          "annotationdefaults": {
           "arrowcolor": "#2a3f5f",
           "arrowhead": 0,
           "arrowwidth": 1
          },
          "autotypenumbers": "strict",
          "coloraxis": {
           "colorbar": {
            "outlinewidth": 0,
            "ticks": ""
           }
          },
          "colorscale": {
           "diverging": [
            [
             0,
             "#8e0152"
            ],
            [
             0.1,
             "#c51b7d"
            ],
            [
             0.2,
             "#de77ae"
            ],
            [
             0.3,
             "#f1b6da"
            ],
            [
             0.4,
             "#fde0ef"
            ],
            [
             0.5,
             "#f7f7f7"
            ],
            [
             0.6,
             "#e6f5d0"
            ],
            [
             0.7,
             "#b8e186"
            ],
            [
             0.8,
             "#7fbc41"
            ],
            [
             0.9,
             "#4d9221"
            ],
            [
             1,
             "#276419"
            ]
           ],
           "sequential": [
            [
             0,
             "#0d0887"
            ],
            [
             0.1111111111111111,
             "#46039f"
            ],
            [
             0.2222222222222222,
             "#7201a8"
            ],
            [
             0.3333333333333333,
             "#9c179e"
            ],
            [
             0.4444444444444444,
             "#bd3786"
            ],
            [
             0.5555555555555556,
             "#d8576b"
            ],
            [
             0.6666666666666666,
             "#ed7953"
            ],
            [
             0.7777777777777778,
             "#fb9f3a"
            ],
            [
             0.8888888888888888,
             "#fdca26"
            ],
            [
             1,
             "#f0f921"
            ]
           ],
           "sequentialminus": [
            [
             0,
             "#0d0887"
            ],
            [
             0.1111111111111111,
             "#46039f"
            ],
            [
             0.2222222222222222,
             "#7201a8"
            ],
            [
             0.3333333333333333,
             "#9c179e"
            ],
            [
             0.4444444444444444,
             "#bd3786"
            ],
            [
             0.5555555555555556,
             "#d8576b"
            ],
            [
             0.6666666666666666,
             "#ed7953"
            ],
            [
             0.7777777777777778,
             "#fb9f3a"
            ],
            [
             0.8888888888888888,
             "#fdca26"
            ],
            [
             1,
             "#f0f921"
            ]
           ]
          },
          "colorway": [
           "#636efa",
           "#EF553B",
           "#00cc96",
           "#ab63fa",
           "#FFA15A",
           "#19d3f3",
           "#FF6692",
           "#B6E880",
           "#FF97FF",
           "#FECB52"
          ],
          "font": {
           "color": "#2a3f5f"
          },
          "geo": {
           "bgcolor": "white",
           "lakecolor": "white",
           "landcolor": "#E5ECF6",
           "showlakes": true,
           "showland": true,
           "subunitcolor": "white"
          },
          "hoverlabel": {
           "align": "left"
          },
          "hovermode": "closest",
          "mapbox": {
           "style": "light"
          },
          "paper_bgcolor": "white",
          "plot_bgcolor": "#E5ECF6",
          "polar": {
           "angularaxis": {
            "gridcolor": "white",
            "linecolor": "white",
            "ticks": ""
           },
           "bgcolor": "#E5ECF6",
           "radialaxis": {
            "gridcolor": "white",
            "linecolor": "white",
            "ticks": ""
           }
          },
          "scene": {
           "xaxis": {
            "backgroundcolor": "#E5ECF6",
            "gridcolor": "white",
            "gridwidth": 2,
            "linecolor": "white",
            "showbackground": true,
            "ticks": "",
            "zerolinecolor": "white"
           },
           "yaxis": {
            "backgroundcolor": "#E5ECF6",
            "gridcolor": "white",
            "gridwidth": 2,
            "linecolor": "white",
            "showbackground": true,
            "ticks": "",
            "zerolinecolor": "white"
           },
           "zaxis": {
            "backgroundcolor": "#E5ECF6",
            "gridcolor": "white",
            "gridwidth": 2,
            "linecolor": "white",
            "showbackground": true,
            "ticks": "",
            "zerolinecolor": "white"
           }
          },
          "shapedefaults": {
           "line": {
            "color": "#2a3f5f"
           }
          },
          "ternary": {
           "aaxis": {
            "gridcolor": "white",
            "linecolor": "white",
            "ticks": ""
           },
           "baxis": {
            "gridcolor": "white",
            "linecolor": "white",
            "ticks": ""
           },
           "bgcolor": "#E5ECF6",
           "caxis": {
            "gridcolor": "white",
            "linecolor": "white",
            "ticks": ""
           }
          },
          "title": {
           "x": 0.05
          },
          "xaxis": {
           "automargin": true,
           "gridcolor": "white",
           "linecolor": "white",
           "ticks": "",
           "title": {
            "standoff": 15
           },
           "zerolinecolor": "white",
           "zerolinewidth": 2
          },
          "yaxis": {
           "automargin": true,
           "gridcolor": "white",
           "linecolor": "white",
           "ticks": "",
           "title": {
            "standoff": 15
           },
           "zerolinecolor": "white",
           "zerolinewidth": 2
          }
         }
        },
        "title": {
         "text": "Hot Water Supply Temperature"
        },
        "xaxis": {
         "anchor": "y",
         "domain": [
          0,
          1
         ],
         "title": {
          "text": "value"
         }
        },
        "yaxis": {
         "anchor": "x",
         "domain": [
          0,
          1
         ],
         "title": {
          "text": "description"
         }
        }
       }
      }
     },
     "metadata": {},
     "output_type": "display_data"
    }
   ],
   "source": [
    "df_sensor.plot.bar(y = \"description\",\n",
    " x=\"value\",\n",
    " barmode = \"relative\",\n",
    " color='value',\n",
    " hover_data=[\"value\",\"description\"],\n",
    " height = 800,\n",
    " title = \"Hot Water Supply Temperature\")"
   ]
  },
  {
   "cell_type": "code",
   "execution_count": 62,
   "metadata": {},
   "outputs": [
    {
     "data": {
      "application/vnd.plotly.v1+json": {
       "config": {
        "plotlyServerURL": "https://plot.ly"
       },
       "data": [
        {
         "alignmentgroup": "True",
         "hovertemplate": "value=%{marker.color}<br>description=%{y}<extra></extra>",
         "legendgroup": "",
         "marker": {
          "color": [
           185.86,
           146.72,
           168.04,
           156.6,
           149.17,
           149.17,
           149.36,
           128.18,
           120.32,
           126.28,
           218.74,
           80.24,
           142.11,
           145.23,
           165.76,
           148,
           143,
           148,
           177.84,
           91.75,
           110.81,
           102.21,
           84.03,
           127.37,
           140.46,
           92.83,
           76.59,
           75.86,
           72.04,
           82.19
          ],
          "coloraxis": "coloraxis",
          "pattern": {
           "shape": ""
          }
         },
         "name": "",
         "offsetgroup": "",
         "orientation": "h",
         "showlegend": false,
         "textposition": "auto",
         "type": "bar",
         "x": [
          185.86,
          146.72,
          168.04,
          156.6,
          149.17,
          149.17,
          149.36,
          128.18,
          120.32,
          126.28,
          218.74,
          80.24,
          142.11,
          145.23,
          165.76,
          148,
          143,
          148,
          177.84,
          91.75,
          110.81,
          102.21,
          84.03,
          127.37,
          140.46,
          92.83,
          76.59,
          75.86,
          72.04,
          82.19
         ],
         "xaxis": "x",
         "y": [
          "237 W 100th St Boiler Condensate Return Temperature",
          "1908 Belmont Avenue Boiler Boiler Hot Water Return Temperature",
          "1898 Belmont Avenue Boiler Boiler Hot Water Return Temperature",
          "1898 Belmont Avenue Boiler Building Hot Water Return Temperature",
          "Boiler 1 HWR_Temperature",
          "Boiler 2 HWR_Temperature",
          "Boiler 3 HWR_Temperature",
          "304 St Johns Boiler Hot Water Return Temperature",
          "220 East 54th St. Manhattan Boiler Plant Condensate Return Temp 1",
          "220 East 54th St. Manhattan Boiler Plant Condensate Return Temp 2",
          "220 East 54th St. Manhattan Boiler Plant Domestic Hot Water Pre Mix Temp",
          "100 Lawn Terrace Boiler Hot Water Return Temperature",
          "1871 7th Avenue Boiler Boiler Hot Water Return Temperature",
          "1871 7th Avenue Boiler Building Hot Water Return Temperature",
          "1900 Belmont Avenue Boiler Boiler Hot Water Return Temperature",
          "Roosevelt Landings eBX Tecogen 1 Inlet Temp",
          "Roosevelt Landings eBX Tecogen 2 Inlet Temp",
          "Roosevelt Landings eBX Tecogen 3 Inlet Temp",
          "905 Palmer Avenue Boiler Boiler Hot Water Return Temperature",
          "905 Palmer Avenue Boiler Hot Water Return Temperature Zone 1",
          "905 Palmer Avenue Boiler Hot Water Return Temperature Zone 2",
          "905 Palmer Avenue Boiler Hot Water Return Temperature Zone 3",
          "3400 Fort Independence Street Boiler 1 Condensate Return Temperature",
          "333 Lenox Road Penthouse Boiler Room Loop Hot Water Hot Water Loop Return Temperature",
          "70 Prospect Park SW Boiler Condensate Return Temperature",
          "45-26 44th Street Boiler Condensate Return Temperature",
          "1710 Avenue H Boiler Condensate Return Temperature",
          "51 Cross Street Boiler Condensate Return Temperature",
          "9-11 Greenridge Avenue Boiler Condensate Return Temperature",
          "304 St Johns Place Boiler Hot Water Return Temperature"
         ],
         "yaxis": "y"
        }
       ],
       "layout": {
        "barmode": "relative",
        "coloraxis": {
         "colorbar": {
          "title": {
           "text": "value"
          }
         },
         "colorscale": [
          [
           0,
           "#0d0887"
          ],
          [
           0.1111111111111111,
           "#46039f"
          ],
          [
           0.2222222222222222,
           "#7201a8"
          ],
          [
           0.3333333333333333,
           "#9c179e"
          ],
          [
           0.4444444444444444,
           "#bd3786"
          ],
          [
           0.5555555555555556,
           "#d8576b"
          ],
          [
           0.6666666666666666,
           "#ed7953"
          ],
          [
           0.7777777777777778,
           "#fb9f3a"
          ],
          [
           0.8888888888888888,
           "#fdca26"
          ],
          [
           1,
           "#f0f921"
          ]
         ]
        },
        "height": 800,
        "legend": {
         "tracegroupgap": 0
        },
        "template": {
         "data": {
          "bar": [
           {
            "error_x": {
             "color": "#2a3f5f"
            },
            "error_y": {
             "color": "#2a3f5f"
            },
            "marker": {
             "line": {
              "color": "#E5ECF6",
              "width": 0.5
             },
             "pattern": {
              "fillmode": "overlay",
              "size": 10,
              "solidity": 0.2
             }
            },
            "type": "bar"
           }
          ],
          "barpolar": [
           {
            "marker": {
             "line": {
              "color": "#E5ECF6",
              "width": 0.5
             },
             "pattern": {
              "fillmode": "overlay",
              "size": 10,
              "solidity": 0.2
             }
            },
            "type": "barpolar"
           }
          ],
          "carpet": [
           {
            "aaxis": {
             "endlinecolor": "#2a3f5f",
             "gridcolor": "white",
             "linecolor": "white",
             "minorgridcolor": "white",
             "startlinecolor": "#2a3f5f"
            },
            "baxis": {
             "endlinecolor": "#2a3f5f",
             "gridcolor": "white",
             "linecolor": "white",
             "minorgridcolor": "white",
             "startlinecolor": "#2a3f5f"
            },
            "type": "carpet"
           }
          ],
          "choropleth": [
           {
            "colorbar": {
             "outlinewidth": 0,
             "ticks": ""
            },
            "type": "choropleth"
           }
          ],
          "contour": [
           {
            "colorbar": {
             "outlinewidth": 0,
             "ticks": ""
            },
            "colorscale": [
             [
              0,
              "#0d0887"
             ],
             [
              0.1111111111111111,
              "#46039f"
             ],
             [
              0.2222222222222222,
              "#7201a8"
             ],
             [
              0.3333333333333333,
              "#9c179e"
             ],
             [
              0.4444444444444444,
              "#bd3786"
             ],
             [
              0.5555555555555556,
              "#d8576b"
             ],
             [
              0.6666666666666666,
              "#ed7953"
             ],
             [
              0.7777777777777778,
              "#fb9f3a"
             ],
             [
              0.8888888888888888,
              "#fdca26"
             ],
             [
              1,
              "#f0f921"
             ]
            ],
            "type": "contour"
           }
          ],
          "contourcarpet": [
           {
            "colorbar": {
             "outlinewidth": 0,
             "ticks": ""
            },
            "type": "contourcarpet"
           }
          ],
          "heatmap": [
           {
            "colorbar": {
             "outlinewidth": 0,
             "ticks": ""
            },
            "colorscale": [
             [
              0,
              "#0d0887"
             ],
             [
              0.1111111111111111,
              "#46039f"
             ],
             [
              0.2222222222222222,
              "#7201a8"
             ],
             [
              0.3333333333333333,
              "#9c179e"
             ],
             [
              0.4444444444444444,
              "#bd3786"
             ],
             [
              0.5555555555555556,
              "#d8576b"
             ],
             [
              0.6666666666666666,
              "#ed7953"
             ],
             [
              0.7777777777777778,
              "#fb9f3a"
             ],
             [
              0.8888888888888888,
              "#fdca26"
             ],
             [
              1,
              "#f0f921"
             ]
            ],
            "type": "heatmap"
           }
          ],
          "heatmapgl": [
           {
            "colorbar": {
             "outlinewidth": 0,
             "ticks": ""
            },
            "colorscale": [
             [
              0,
              "#0d0887"
             ],
             [
              0.1111111111111111,
              "#46039f"
             ],
             [
              0.2222222222222222,
              "#7201a8"
             ],
             [
              0.3333333333333333,
              "#9c179e"
             ],
             [
              0.4444444444444444,
              "#bd3786"
             ],
             [
              0.5555555555555556,
              "#d8576b"
             ],
             [
              0.6666666666666666,
              "#ed7953"
             ],
             [
              0.7777777777777778,
              "#fb9f3a"
             ],
             [
              0.8888888888888888,
              "#fdca26"
             ],
             [
              1,
              "#f0f921"
             ]
            ],
            "type": "heatmapgl"
           }
          ],
          "histogram": [
           {
            "marker": {
             "pattern": {
              "fillmode": "overlay",
              "size": 10,
              "solidity": 0.2
             }
            },
            "type": "histogram"
           }
          ],
          "histogram2d": [
           {
            "colorbar": {
             "outlinewidth": 0,
             "ticks": ""
            },
            "colorscale": [
             [
              0,
              "#0d0887"
             ],
             [
              0.1111111111111111,
              "#46039f"
             ],
             [
              0.2222222222222222,
              "#7201a8"
             ],
             [
              0.3333333333333333,
              "#9c179e"
             ],
             [
              0.4444444444444444,
              "#bd3786"
             ],
             [
              0.5555555555555556,
              "#d8576b"
             ],
             [
              0.6666666666666666,
              "#ed7953"
             ],
             [
              0.7777777777777778,
              "#fb9f3a"
             ],
             [
              0.8888888888888888,
              "#fdca26"
             ],
             [
              1,
              "#f0f921"
             ]
            ],
            "type": "histogram2d"
           }
          ],
          "histogram2dcontour": [
           {
            "colorbar": {
             "outlinewidth": 0,
             "ticks": ""
            },
            "colorscale": [
             [
              0,
              "#0d0887"
             ],
             [
              0.1111111111111111,
              "#46039f"
             ],
             [
              0.2222222222222222,
              "#7201a8"
             ],
             [
              0.3333333333333333,
              "#9c179e"
             ],
             [
              0.4444444444444444,
              "#bd3786"
             ],
             [
              0.5555555555555556,
              "#d8576b"
             ],
             [
              0.6666666666666666,
              "#ed7953"
             ],
             [
              0.7777777777777778,
              "#fb9f3a"
             ],
             [
              0.8888888888888888,
              "#fdca26"
             ],
             [
              1,
              "#f0f921"
             ]
            ],
            "type": "histogram2dcontour"
           }
          ],
          "mesh3d": [
           {
            "colorbar": {
             "outlinewidth": 0,
             "ticks": ""
            },
            "type": "mesh3d"
           }
          ],
          "parcoords": [
           {
            "line": {
             "colorbar": {
              "outlinewidth": 0,
              "ticks": ""
             }
            },
            "type": "parcoords"
           }
          ],
          "pie": [
           {
            "automargin": true,
            "type": "pie"
           }
          ],
          "scatter": [
           {
            "marker": {
             "colorbar": {
              "outlinewidth": 0,
              "ticks": ""
             }
            },
            "type": "scatter"
           }
          ],
          "scatter3d": [
           {
            "line": {
             "colorbar": {
              "outlinewidth": 0,
              "ticks": ""
             }
            },
            "marker": {
             "colorbar": {
              "outlinewidth": 0,
              "ticks": ""
             }
            },
            "type": "scatter3d"
           }
          ],
          "scattercarpet": [
           {
            "marker": {
             "colorbar": {
              "outlinewidth": 0,
              "ticks": ""
             }
            },
            "type": "scattercarpet"
           }
          ],
          "scattergeo": [
           {
            "marker": {
             "colorbar": {
              "outlinewidth": 0,
              "ticks": ""
             }
            },
            "type": "scattergeo"
           }
          ],
          "scattergl": [
           {
            "marker": {
             "colorbar": {
              "outlinewidth": 0,
              "ticks": ""
             }
            },
            "type": "scattergl"
           }
          ],
          "scattermapbox": [
           {
            "marker": {
             "colorbar": {
              "outlinewidth": 0,
              "ticks": ""
             }
            },
            "type": "scattermapbox"
           }
          ],
          "scatterpolar": [
           {
            "marker": {
             "colorbar": {
              "outlinewidth": 0,
              "ticks": ""
             }
            },
            "type": "scatterpolar"
           }
          ],
          "scatterpolargl": [
           {
            "marker": {
             "colorbar": {
              "outlinewidth": 0,
              "ticks": ""
             }
            },
            "type": "scatterpolargl"
           }
          ],
          "scatterternary": [
           {
            "marker": {
             "colorbar": {
              "outlinewidth": 0,
              "ticks": ""
             }
            },
            "type": "scatterternary"
           }
          ],
          "surface": [
           {
            "colorbar": {
             "outlinewidth": 0,
             "ticks": ""
            },
            "colorscale": [
             [
              0,
              "#0d0887"
             ],
             [
              0.1111111111111111,
              "#46039f"
             ],
             [
              0.2222222222222222,
              "#7201a8"
             ],
             [
              0.3333333333333333,
              "#9c179e"
             ],
             [
              0.4444444444444444,
              "#bd3786"
             ],
             [
              0.5555555555555556,
              "#d8576b"
             ],
             [
              0.6666666666666666,
              "#ed7953"
             ],
             [
              0.7777777777777778,
              "#fb9f3a"
             ],
             [
              0.8888888888888888,
              "#fdca26"
             ],
             [
              1,
              "#f0f921"
             ]
            ],
            "type": "surface"
           }
          ],
          "table": [
           {
            "cells": {
             "fill": {
              "color": "#EBF0F8"
             },
             "line": {
              "color": "white"
             }
            },
            "header": {
             "fill": {
              "color": "#C8D4E3"
             },
             "line": {
              "color": "white"
             }
            },
            "type": "table"
           }
          ]
         },
         "layout": {
          "annotationdefaults": {
           "arrowcolor": "#2a3f5f",
           "arrowhead": 0,
           "arrowwidth": 1
          },
          "autotypenumbers": "strict",
          "coloraxis": {
           "colorbar": {
            "outlinewidth": 0,
            "ticks": ""
           }
          },
          "colorscale": {
           "diverging": [
            [
             0,
             "#8e0152"
            ],
            [
             0.1,
             "#c51b7d"
            ],
            [
             0.2,
             "#de77ae"
            ],
            [
             0.3,
             "#f1b6da"
            ],
            [
             0.4,
             "#fde0ef"
            ],
            [
             0.5,
             "#f7f7f7"
            ],
            [
             0.6,
             "#e6f5d0"
            ],
            [
             0.7,
             "#b8e186"
            ],
            [
             0.8,
             "#7fbc41"
            ],
            [
             0.9,
             "#4d9221"
            ],
            [
             1,
             "#276419"
            ]
           ],
           "sequential": [
            [
             0,
             "#0d0887"
            ],
            [
             0.1111111111111111,
             "#46039f"
            ],
            [
             0.2222222222222222,
             "#7201a8"
            ],
            [
             0.3333333333333333,
             "#9c179e"
            ],
            [
             0.4444444444444444,
             "#bd3786"
            ],
            [
             0.5555555555555556,
             "#d8576b"
            ],
            [
             0.6666666666666666,
             "#ed7953"
            ],
            [
             0.7777777777777778,
             "#fb9f3a"
            ],
            [
             0.8888888888888888,
             "#fdca26"
            ],
            [
             1,
             "#f0f921"
            ]
           ],
           "sequentialminus": [
            [
             0,
             "#0d0887"
            ],
            [
             0.1111111111111111,
             "#46039f"
            ],
            [
             0.2222222222222222,
             "#7201a8"
            ],
            [
             0.3333333333333333,
             "#9c179e"
            ],
            [
             0.4444444444444444,
             "#bd3786"
            ],
            [
             0.5555555555555556,
             "#d8576b"
            ],
            [
             0.6666666666666666,
             "#ed7953"
            ],
            [
             0.7777777777777778,
             "#fb9f3a"
            ],
            [
             0.8888888888888888,
             "#fdca26"
            ],
            [
             1,
             "#f0f921"
            ]
           ]
          },
          "colorway": [
           "#636efa",
           "#EF553B",
           "#00cc96",
           "#ab63fa",
           "#FFA15A",
           "#19d3f3",
           "#FF6692",
           "#B6E880",
           "#FF97FF",
           "#FECB52"
          ],
          "font": {
           "color": "#2a3f5f"
          },
          "geo": {
           "bgcolor": "white",
           "lakecolor": "white",
           "landcolor": "#E5ECF6",
           "showlakes": true,
           "showland": true,
           "subunitcolor": "white"
          },
          "hoverlabel": {
           "align": "left"
          },
          "hovermode": "closest",
          "mapbox": {
           "style": "light"
          },
          "paper_bgcolor": "white",
          "plot_bgcolor": "#E5ECF6",
          "polar": {
           "angularaxis": {
            "gridcolor": "white",
            "linecolor": "white",
            "ticks": ""
           },
           "bgcolor": "#E5ECF6",
           "radialaxis": {
            "gridcolor": "white",
            "linecolor": "white",
            "ticks": ""
           }
          },
          "scene": {
           "xaxis": {
            "backgroundcolor": "#E5ECF6",
            "gridcolor": "white",
            "gridwidth": 2,
            "linecolor": "white",
            "showbackground": true,
            "ticks": "",
            "zerolinecolor": "white"
           },
           "yaxis": {
            "backgroundcolor": "#E5ECF6",
            "gridcolor": "white",
            "gridwidth": 2,
            "linecolor": "white",
            "showbackground": true,
            "ticks": "",
            "zerolinecolor": "white"
           },
           "zaxis": {
            "backgroundcolor": "#E5ECF6",
            "gridcolor": "white",
            "gridwidth": 2,
            "linecolor": "white",
            "showbackground": true,
            "ticks": "",
            "zerolinecolor": "white"
           }
          },
          "shapedefaults": {
           "line": {
            "color": "#2a3f5f"
           }
          },
          "ternary": {
           "aaxis": {
            "gridcolor": "white",
            "linecolor": "white",
            "ticks": ""
           },
           "baxis": {
            "gridcolor": "white",
            "linecolor": "white",
            "ticks": ""
           },
           "bgcolor": "#E5ECF6",
           "caxis": {
            "gridcolor": "white",
            "linecolor": "white",
            "ticks": ""
           }
          },
          "title": {
           "x": 0.05
          },
          "xaxis": {
           "automargin": true,
           "gridcolor": "white",
           "linecolor": "white",
           "ticks": "",
           "title": {
            "standoff": 15
           },
           "zerolinecolor": "white",
           "zerolinewidth": 2
          },
          "yaxis": {
           "automargin": true,
           "gridcolor": "white",
           "linecolor": "white",
           "ticks": "",
           "title": {
            "standoff": 15
           },
           "zerolinecolor": "white",
           "zerolinewidth": 2
          }
         }
        },
        "title": {
         "text": "Hot Water Return Temperature"
        },
        "xaxis": {
         "anchor": "y",
         "domain": [
          0,
          1
         ],
         "title": {
          "text": "value"
         }
        },
        "yaxis": {
         "anchor": "x",
         "domain": [
          0,
          1
         ],
         "title": {
          "text": "description"
         }
        }
       }
      }
     },
     "metadata": {},
     "output_type": "display_data"
    }
   ],
   "source": [
    "df_sensor.plot.bar(y = \"description\",\n",
    " x=\"value\",\n",
    " barmode = \"relative\",\n",
    " color='value',\n",
    " hover_data=[\"value\",\"description\"],\n",
    " height = 800,\n",
    " title = \"Hot Water Return Temperature\")"
   ]
  },
  {
   "cell_type": "markdown",
   "metadata": {},
   "source": [
    "## Extending the functionality to multiple sensors"
   ]
  },
  {
   "cell_type": "markdown",
   "metadata": {},
   "source": [
    "### Step 1 - Get all the buildings"
   ]
  },
  {
   "cell_type": "code",
   "execution_count": null,
   "metadata": {},
   "outputs": [],
   "source": [
    "# First fetch all the buildings\n",
    "df_buildings = pd.DataFrame(client.get_all_buildings())\n",
    "# Flattern the \"info\" column into multiple columns in the df\n",
    "objs = [df_buildings, pd.DataFrame(df_buildings['info'].tolist()).iloc[:, :14]]\n",
    "df_buildings_flt = pd.concat(objs, axis=1).drop('info', axis=1)"
   ]
  },
  {
   "cell_type": "code",
   "execution_count": null,
   "metadata": {},
   "outputs": [],
   "source": [
    "def get_building_info(building_id,df_buildings_flt):\n",
    "    \"\"\"_summary_\n",
    "\n",
    "    Args:\n",
    "        building_id (_type_): _description_\n",
    "        df_buildings_flt (_type_): _description_\n",
    "\n",
    "    Returns:\n",
    "        _type_: _description_\n",
    "    \"\"\"\n",
    "    building_info = df_buildings_flt[df_buildings_flt[\"id\"]==building_id].to_dict()\n",
    "    return building_info"
   ]
  },
  {
   "cell_type": "code",
   "execution_count": 158,
   "metadata": {},
   "outputs": [],
   "source": [
    "all_equipment = pd.DataFrame(client.get_building_equipment(441))[['id', 'building_id', 'equip_id',  'points', 'tags']]"
   ]
  },
  {
   "cell_type": "code",
   "execution_count": 160,
   "metadata": {},
   "outputs": [
    {
     "data": {
      "text/html": [
       "<div>\n",
       "<style scoped>\n",
       "    .dataframe tbody tr th:only-of-type {\n",
       "        vertical-align: middle;\n",
       "    }\n",
       "\n",
       "    .dataframe tbody tr th {\n",
       "        vertical-align: top;\n",
       "    }\n",
       "\n",
       "    .dataframe thead th {\n",
       "        text-align: right;\n",
       "    }\n",
       "</style>\n",
       "<table border=\"1\" class=\"dataframe\">\n",
       "  <thead>\n",
       "    <tr style=\"text-align: right;\">\n",
       "      <th></th>\n",
       "      <th>id</th>\n",
       "      <th>building_id</th>\n",
       "      <th>equip_id</th>\n",
       "      <th>points</th>\n",
       "      <th>tags</th>\n",
       "    </tr>\n",
       "  </thead>\n",
       "  <tbody>\n",
       "    <tr>\n",
       "      <th>0</th>\n",
       "      <td>28797</td>\n",
       "      <td>441</td>\n",
       "      <td>boiler-1</td>\n",
       "      <td>[{'id': 310029, 'building_id': 441, 'last_upda...</td>\n",
       "      <td>[boiler, hvac]</td>\n",
       "    </tr>\n",
       "    <tr>\n",
       "      <th>1</th>\n",
       "      <td>28798</td>\n",
       "      <td>441</td>\n",
       "      <td>boiler-2</td>\n",
       "      <td>[{'id': 310079, 'building_id': 441, 'last_upda...</td>\n",
       "      <td>[boiler, hvac]</td>\n",
       "    </tr>\n",
       "    <tr>\n",
       "      <th>2</th>\n",
       "      <td>28799</td>\n",
       "      <td>441</td>\n",
       "      <td>boiler-3</td>\n",
       "      <td>[{'id': 310108, 'building_id': 441, 'last_upda...</td>\n",
       "      <td>[boiler, hvac]</td>\n",
       "    </tr>\n",
       "    <tr>\n",
       "      <th>3</th>\n",
       "      <td>28800</td>\n",
       "      <td>441</td>\n",
       "      <td>boiler-4</td>\n",
       "      <td>[{'id': 310144, 'building_id': 441, 'last_upda...</td>\n",
       "      <td>[boiler, hvac]</td>\n",
       "    </tr>\n",
       "    <tr>\n",
       "      <th>4</th>\n",
       "      <td>28801</td>\n",
       "      <td>441</td>\n",
       "      <td>boiler-5</td>\n",
       "      <td>[{'id': 310152, 'building_id': 441, 'last_upda...</td>\n",
       "      <td>[boiler, hvac]</td>\n",
       "    </tr>\n",
       "  </tbody>\n",
       "</table>\n",
       "</div>"
      ],
      "text/plain": [
       "      id  building_id  equip_id  \\\n",
       "0  28797          441  boiler-1   \n",
       "1  28798          441  boiler-2   \n",
       "2  28799          441  boiler-3   \n",
       "3  28800          441  boiler-4   \n",
       "4  28801          441  boiler-5   \n",
       "\n",
       "                                              points            tags  \n",
       "0  [{'id': 310029, 'building_id': 441, 'last_upda...  [boiler, hvac]  \n",
       "1  [{'id': 310079, 'building_id': 441, 'last_upda...  [boiler, hvac]  \n",
       "2  [{'id': 310108, 'building_id': 441, 'last_upda...  [boiler, hvac]  \n",
       "3  [{'id': 310144, 'building_id': 441, 'last_upda...  [boiler, hvac]  \n",
       "4  [{'id': 310152, 'building_id': 441, 'last_upda...  [boiler, hvac]  "
      ]
     },
     "execution_count": 160,
     "metadata": {},
     "output_type": "execute_result"
    }
   ],
   "source": [
    "all_equipment.head()"
   ]
  },
  {
   "cell_type": "code",
   "execution_count": 182,
   "metadata": {},
   "outputs": [],
   "source": [
    "csv_eq_types = pd.read_csv('data/equip_types.csv')\n",
    "csv_point_types = pd.read_csv('data/point_types.csv')"
   ]
  },
  {
   "cell_type": "code",
   "execution_count": 219,
   "metadata": {},
   "outputs": [],
   "source": []
  },
  {
   "cell_type": "code",
   "execution_count": 192,
   "metadata": {},
   "outputs": [
    {
     "data": {
      "text/plain": [
       "['Hot Water Supply Temperature',\n",
       " 'Hot Water Supply Temperature Setpoint',\n",
       " 'Hot Water Return Temperature',\n",
       " 'Enable',\n",
       " 'Status']"
      ]
     },
     "execution_count": 192,
     "metadata": {},
     "output_type": "execute_result"
    }
   ],
   "source": []
  },
  {
   "cell_type": "code",
   "execution_count": 203,
   "metadata": {},
   "outputs": [
    {
     "data": {
      "text/plain": [
       "{'orgs': [5],\n",
       " 'buildings': [441],\n",
       " 'equipment': [28800, 28797, 28798, 28799],\n",
       " 'equipment_types': [19],\n",
       " 'point_types': [88],\n",
       " 'points': [310025, 310061, 310096, 310134, 310044]}"
      ]
     },
     "execution_count": 203,
     "metadata": {},
     "output_type": "execute_result"
    }
   ],
   "source": [
    "building_id = 441\n",
    "eq_types = ['boiler']\n",
    "query = PointSelector()\n",
    "query.point_types = ['Hot Water Supply Temperature']\n",
    "query.equipment_types = [eq_types[0]]\n",
    "query.buildings = [building_id]\n",
    "selection = client.select_points(query)\n",
    "selection\n"
   ]
  },
  {
   "cell_type": "markdown",
   "metadata": {},
   "source": [
    "Now that we have an example to see what the different values are, lets make a function around it to query something about one building"
   ]
  },
  {
   "cell_type": "code",
   "execution_count": 450,
   "metadata": {},
   "outputs": [],
   "source": [
    "def doctor_my_building(building_id,df_buildings_flt,year):\n",
    "    \"\"\"_summary_\n",
    "\n",
    "    Args:\n",
    "        building_id (_type_): _description_\n",
    "        df_buildings_flt (_type_): _description_\n",
    "        year (_type_): _description_\n",
    "\n",
    "    Returns:\n",
    "        _type_: _description_\n",
    "    \"\"\"\n",
    "    dflist_equipments = []\n",
    "    dflist_metadata = []\n",
    "    from matplotlib import pyplot as plt\n",
    "    building_info = get_building_info(building_id,df_buildings_flt)\n",
    "    id = list(building_info[\"id\"].values())[0]\n",
    "    building_area = list(building_info[\"sq_ft\"].values())[0]\n",
    "    building_city = list(building_info[\"geoCity\"].values())[0]\n",
    "    building_use = list(building_info[\"customerType\"].values())[0]\n",
    "    print(f\"You have selected building {id}\\nBuilding {id} is located in the {building_city} area of NY and has an area of {building_area} square feet.\\nBuilding {building_id} belongs to the category {building_use}.\")\n",
    "\n",
    "    #Select the category\n",
    "    df_buildingUse = sb_buildings_by_function(df_buildings_flt,building_use)\n",
    "    # Lets start with this building\n",
    "    all_buildings = df_buildingUse[\"id\"].unique().tolist()\n",
    "    print(f'There are {len(all_buildings)} other buildings available in this category')\n",
    "    \n",
    "    \n",
    "    # Going into equipments\n",
    "    all_equipment = pd.DataFrame(client.get_building_equipment(id))\n",
    "    eq_types = all_equipment[\"equip_type_tag\"].unique().tolist()\n",
    "    print(f\"The following equipment types are available {eq_types}\")\n",
    "    \n",
    "    # Maybe this helps somewhere?\n",
    "    #null_equipment = csv_eq_types[csv_eq_types[\"critical_point_types\"] == '[]'][\"tag_name\"].to_list()\n",
    "    tz = pytz.timezone('UTC')\n",
    "    start_date = datetime(year,1,1,0,0,0).replace(tzinfo=tz)\n",
    "    end_date = datetime(year,12,31,0,0,0).replace(tzinfo=tz)\n",
    "    # For each equipment type in this building\n",
    "    for i in eq_types:\n",
    "        print(f\"    Fetching sensors for {i}...\")\n",
    "        # Look for ValueError: invalid literal for int() with base 10: '' \n",
    "        # and add the equipment that caused this error in the list below\n",
    "        if i not in ['site','virtual','meter','panel','lighting','elevator','battery']:\n",
    "            point_types = []\n",
    "            for j in [int(x) for x in csv_eq_types[csv_eq_types['tag_name']==i][\"critical_point_types\"].to_list()[0].replace('[','').replace(']','').replace(' ','').split(',')]:\n",
    "                point_type = csv_point_types[csv_point_types['id'] == j][\"tag_name\"].to_list()[0]\n",
    "                point_types.append(point_type)\n",
    "            eq_types = [i]\n",
    "            query = PointSelector()\n",
    "            query.point_types = point_types\n",
    "            query.equipment_types = [i]\n",
    "            query.buildings = [id]\n",
    "            selection = client.select_points(query)\n",
    "            print(f\"        Following sensors are found: {point_types}\")\n",
    "            pd.options.plotting.backend = \"plotly\" \n",
    "            if len(selection['points'])>0:\n",
    "                timeseries_query = TimeseriesQuery(point_ids = selection['points'], start = start_date, end = end_date)\n",
    "                points = selection[\"points\"]\n",
    "                sensor_metadata = pd.DataFrame(client.get_points_by_ids(points))\n",
    "                dflist_metadata.append(sensor_metadata)\n",
    "                sensor_data = points_df_from_streaming_timeseries(client.stream_point_timeseries(timeseries_query))\n",
    "                if \"timestamp\" in sensor_data.columns:\n",
    "                    sensor_data =  sensor_data.set_index(\"timestamp\")\n",
    "                    print(f\"            Appending sensor data for {i}\")\n",
    "                    dflist_equipments.append(sensor_data)\n",
    "                else:\n",
    "                    print(f\"¯\\_(ツ)_/¯ Ahhh.... I didn't find any timeseries data for {i}\")\n",
    "            else:\n",
    "                print(f\"¯\\_(ツ)_/¯ Ahhh.... I didn't find any data for {i}\")\n",
    "        else:\n",
    "            print(\"¯\\_(ツ)_/¯ Ahh.... No data found\")\n",
    "    return dflist_equipments,dflist_metadata\n",
    "\n",
    "def rename_sensors(sensors,metadata):\n",
    "    \"\"\"_summary_\n",
    "\n",
    "    Args:\n",
    "        sensors (_type_): _description_\n",
    "        metadata (_type_): _description_\n",
    "    \"\"\"\n",
    "    new_sensors = []\n",
    "    id_list = []\n",
    "    description_list = []\n",
    "    for df in metadata:\n",
    "        sublist_id = df[\"id\"].to_list()\n",
    "        for item in sublist_id:\n",
    "            id_list.append(item)\n",
    "        sublist_description = df[\"description\"].to_list()\n",
    "        for item in sublist_description:\n",
    "            description_list.append(item)\n",
    "    for df in sensors:\n",
    "        key = df.columns.to_list()\n",
    "        val = []\n",
    "        for col in key:\n",
    "            if col in id_list:\n",
    "                index = id_list.index(col)\n",
    "                val.append(description_list[index])\n",
    "        column_rename = {key[i]: val[i] for i in range(len(key))}\n",
    "        df = df.rename(column_rename,axis='columns')\n",
    "        new_sensors.append(df)\n",
    "    return(new_sensors)"
   ]
  },
  {
   "cell_type": "markdown",
   "metadata": {},
   "source": [
    "## Testing out the function above"
   ]
  },
  {
   "cell_type": "code",
   "execution_count": 453,
   "metadata": {},
   "outputs": [
    {
     "name": "stdout",
     "output_type": "stream",
     "text": [
      "You have selected building 169\n",
      "Building 169 is located in the Brooklyn area of NY and has an area of 552860.0 square feet.\n",
      "Building 169 belongs to the category Multifamily.\n",
      "There are 69 other buildings available in this category\n",
      "The following equipment types are available ['site', 'virtual', 'battery', 'boiler', 'hotWaterPlant', 'pump']\n",
      "    Fetching sensors for site...\n",
      "¯\\_(ツ)_/¯ Ahh.... No data found\n",
      "    Fetching sensors for virtual...\n",
      "¯\\_(ツ)_/¯ Ahh.... No data found\n",
      "    Fetching sensors for battery...\n",
      "¯\\_(ツ)_/¯ Ahh.... No data found\n",
      "    Fetching sensors for boiler...\n",
      "        Following sensors are found: ['Hot Water Supply Temperature', 'Hot Water Supply Temperature Setpoint', 'Hot Water Return Temperature', 'Enable', 'Status']\n",
      "            Appending sensor data for boiler\n",
      "    Fetching sensors for hotWaterPlant...\n",
      "        Following sensors are found: ['Hot Water Supply Temperature', 'Hot Water Supply Temperature Setpoint', 'Hot Water Return Temperature', 'Hot Water Supply Flow', 'Hot Water Differential Pressure']\n",
      "            Appending sensor data for hotWaterPlant\n",
      "    Fetching sensors for pump...\n",
      "        Following sensors are found: ['Command', 'Status', 'Speed']\n",
      "            Appending sensor data for pump\n",
      "There are 3 equipment(s) in the dataframe\n"
     ]
    }
   ],
   "source": [
    "# Try 394 (1min51sec) - 6 sensors\n",
    "# Try 111 (0min2.8sec) - 1 sensor\n",
    "# Try 119 (0min7.5sec) - 3 sensors\n",
    "# Try 169 (0min3.7sec) - 3 sensors - Checkout 2018 sensor[0].plot() here! \n",
    "sensors,metadata = doctor_my_building(169,df_buildings_flt,2018)\n",
    "print(f\"There are {len(sensors)} equipment(s) in the dataframe\")\n",
    "sensors = rename_sensors(sensors, metadata)"
   ]
  },
  {
   "cell_type": "code",
   "execution_count": 454,
   "metadata": {},
   "outputs": [
    {
     "data": {
      "application/vnd.plotly.v1+json": {
       "config": {
        "plotlyServerURL": "https://plot.ly"
       },
       "data": [
        {
         "hovertemplate": "variable=Boiler 2 HWR_Temperature<br>timestamp=%{x}<br>value=%{y}<extra></extra>",
         "legendgroup": "Boiler 2 HWR_Temperature",
         "line": {
          "color": "#636efa",
          "dash": "solid"
         },
         "marker": {
          "symbol": "circle"
         },
         "mode": "lines",
         "name": "Boiler 2 HWR_Temperature",
         "showlegend": true,
         "type": "scattergl",
         "x": [
          "2018-11-16T05:00:00Z",
          "2018-11-16T05:15:00Z",
          "2018-11-16T05:30:00Z",
          "2018-11-16T05:45:00Z",
          "2018-11-16T06:00:00Z",
          "2018-11-16T06:15:00Z",
          "2018-11-16T06:30:00Z",
          "2018-11-16T06:45:00Z",
          "2018-11-16T07:00:00Z",
          "2018-11-16T07:15:00Z",
          "2018-11-16T07:30:00Z",
          "2018-11-16T07:45:00Z",
          "2018-11-16T08:00:00Z",
          "2018-11-16T08:15:00Z",
          "2018-11-16T08:30:00Z",
          "2018-11-16T08:45:00Z",
          "2018-11-16T09:00:00Z",
          "2018-11-16T09:15:00Z",
          "2018-11-16T09:30:00Z",
          "2018-11-16T09:45:00Z",
          "2018-11-16T10:00:00Z",
          "2018-11-16T10:15:00Z",
          "2018-11-16T10:30:00Z",
          "2018-11-16T10:45:00Z",
          "2018-11-16T11:00:00Z",
          "2018-11-16T11:15:00Z",
          "2018-11-16T11:30:00Z",
          "2018-11-16T11:45:00Z",
          "2018-11-16T12:00:00Z",
          "2018-11-16T12:15:00Z",
          "2018-11-16T12:30:00Z",
          "2018-11-16T12:45:00Z",
          "2018-11-16T13:00:00Z",
          "2018-11-16T13:15:00Z",
          "2018-11-16T13:30:00Z",
          "2018-11-16T13:45:00Z",
          "2018-11-16T14:00:00Z",
          "2018-11-16T14:15:00Z",
          "2018-11-16T14:30:00Z",
          "2018-11-16T14:45:00Z",
          "2018-11-16T15:00:00Z",
          "2018-11-16T15:15:00Z",
          "2018-11-16T15:30:00Z",
          "2018-11-16T15:45:00Z",
          "2018-11-16T16:00:00Z",
          "2018-11-16T16:15:00Z",
          "2018-11-16T16:30:00Z",
          "2018-11-16T16:45:00Z",
          "2018-11-16T17:00:00Z",
          "2018-11-16T17:15:00Z",
          "2018-11-16T17:30:00Z",
          "2018-11-16T17:45:00Z",
          "2018-11-16T18:00:00Z",
          "2018-11-16T18:15:00Z",
          "2018-11-16T18:30:00Z",
          "2018-11-16T18:45:00Z",
          "2018-11-16T19:00:00Z",
          "2018-11-16T19:15:00Z",
          "2018-11-16T19:30:00Z",
          "2018-11-16T19:45:00Z",
          "2018-11-16T20:00:00Z",
          "2018-11-16T20:15:00Z",
          "2018-11-16T20:30:00Z",
          "2018-11-16T20:45:00Z",
          "2018-11-16T21:00:00Z",
          "2018-11-16T21:15:00Z",
          "2018-11-16T21:30:00Z",
          "2018-11-16T21:45:00Z",
          "2018-11-16T22:00:00Z",
          "2018-11-16T22:15:00Z",
          "2018-11-16T22:30:00Z",
          "2018-11-16T22:45:00Z",
          "2018-11-16T23:00:00Z",
          "2018-11-16T23:15:00Z",
          "2018-11-16T23:30:00Z",
          "2018-11-16T23:45:00Z",
          "2018-11-17T00:00:00Z",
          "2018-11-17T00:15:00Z",
          "2018-11-17T00:30:00Z",
          "2018-11-17T00:45:00Z",
          "2018-11-17T01:00:00Z",
          "2018-11-17T01:15:00Z",
          "2018-11-17T01:30:00Z",
          "2018-11-17T01:45:00Z",
          "2018-11-17T02:00:00Z",
          "2018-11-17T02:15:00Z",
          "2018-11-17T02:30:00Z",
          "2018-11-17T02:45:00Z",
          "2018-11-17T03:00:00Z",
          "2018-11-17T03:15:00Z",
          "2018-11-17T03:30:00Z",
          "2018-11-17T03:45:00Z",
          "2018-11-17T04:00:00Z",
          "2018-11-17T04:15:00Z",
          "2018-11-17T04:30:00Z",
          "2018-11-17T04:45:00Z",
          "2018-11-17T05:00:00Z",
          "2018-11-17T05:15:00Z",
          "2018-11-17T05:30:00Z",
          "2018-11-17T05:45:00Z",
          "2018-11-17T06:00:00Z",
          "2018-11-17T06:15:00Z",
          "2018-11-17T06:30:00Z",
          "2018-11-17T06:45:00Z",
          "2018-11-17T07:00:00Z",
          "2018-11-17T07:15:00Z",
          "2018-11-17T07:30:00Z",
          "2018-11-17T07:45:00Z",
          "2018-11-17T08:00:00Z",
          "2018-11-17T08:15:00Z",
          "2018-11-17T08:30:00Z",
          "2018-11-17T08:45:00Z",
          "2018-11-17T09:00:00Z",
          "2018-11-17T09:15:00Z",
          "2018-11-17T09:30:00Z",
          "2018-11-17T09:45:00Z",
          "2018-11-17T10:00:00Z",
          "2018-11-17T10:15:00Z",
          "2018-11-17T10:30:00Z",
          "2018-11-17T10:45:00Z",
          "2018-11-17T11:00:00Z",
          "2018-11-17T11:15:00Z",
          "2018-11-17T11:30:00Z",
          "2018-11-17T11:45:00Z",
          "2018-11-17T12:00:00Z",
          "2018-11-17T12:15:00Z",
          "2018-11-17T12:30:00Z",
          "2018-11-17T12:45:00Z",
          "2018-11-17T13:00:00Z",
          "2018-11-17T13:15:00Z",
          "2018-11-17T13:30:00Z",
          "2018-11-17T13:45:00Z",
          "2018-11-17T14:00:00Z",
          "2018-11-17T14:15:00Z",
          "2018-11-17T14:30:00Z",
          "2018-11-17T14:45:00Z",
          "2018-11-17T15:00:00Z",
          "2018-11-17T15:15:00Z",
          "2018-11-17T15:30:00Z",
          "2018-11-17T15:45:00Z",
          "2018-11-17T16:00:00Z",
          "2018-11-17T16:15:00Z",
          "2018-11-17T16:30:00Z",
          "2018-11-17T16:45:00Z",
          "2018-11-17T17:00:00Z",
          "2018-11-17T17:15:00Z",
          "2018-11-17T17:30:00Z",
          "2018-11-17T17:45:00Z",
          "2018-11-17T18:00:00Z",
          "2018-11-17T18:15:00Z",
          "2018-11-17T18:30:00Z",
          "2018-11-17T18:45:00Z",
          "2018-11-17T19:00:00Z",
          "2018-11-17T19:15:00Z",
          "2018-11-17T19:30:00Z",
          "2018-11-17T19:45:00Z",
          "2018-11-17T20:00:00Z",
          "2018-11-17T20:15:00Z",
          "2018-11-17T20:30:00Z",
          "2018-11-17T20:45:00Z",
          "2018-11-17T21:00:00Z",
          "2018-11-17T21:15:00Z",
          "2018-11-17T21:30:00Z",
          "2018-11-17T21:45:00Z",
          "2018-11-17T22:00:00Z",
          "2018-11-17T22:15:00Z",
          "2018-11-17T22:30:00Z",
          "2018-11-17T22:45:00Z",
          "2018-11-17T23:00:00Z",
          "2018-11-17T23:15:00Z",
          "2018-11-17T23:30:00Z",
          "2018-11-17T23:45:00Z",
          "2018-11-18T00:00:00Z",
          "2018-11-18T00:15:00Z",
          "2018-11-18T00:30:00Z",
          "2018-11-18T00:45:00Z",
          "2018-11-18T01:00:00Z",
          "2018-11-18T01:15:00Z",
          "2018-11-18T01:30:00Z",
          "2018-11-18T01:45:00Z",
          "2018-11-18T02:00:00Z",
          "2018-11-18T02:15:00Z",
          "2018-11-18T02:30:00Z",
          "2018-11-18T02:45:00Z",
          "2018-11-18T03:00:00Z",
          "2018-11-18T03:15:00Z",
          "2018-11-18T03:30:00Z",
          "2018-11-18T03:45:00Z",
          "2018-11-18T04:00:00Z",
          "2018-11-18T04:15:00Z",
          "2018-11-18T04:30:00Z",
          "2018-11-18T04:45:00Z",
          "2018-11-18T05:00:00Z",
          "2018-11-18T05:15:00Z",
          "2018-11-18T05:30:00Z",
          "2018-11-18T05:45:00Z",
          "2018-11-18T06:00:00Z",
          "2018-11-18T06:15:00Z",
          "2018-11-18T06:30:00Z",
          "2018-11-18T06:45:00Z",
          "2018-11-18T07:00:00Z",
          "2018-11-18T07:15:00Z",
          "2018-11-18T07:30:00Z",
          "2018-11-18T07:45:00Z",
          "2018-11-18T08:00:00Z",
          "2018-11-18T08:15:00Z",
          "2018-11-18T08:30:00Z",
          "2018-11-18T08:45:00Z",
          "2018-11-18T09:00:00Z",
          "2018-11-18T09:15:00Z",
          "2018-11-18T09:30:00Z",
          "2018-11-18T09:45:00Z",
          "2018-11-18T10:00:00Z",
          "2018-11-18T10:15:00Z",
          "2018-11-18T10:30:00Z",
          "2018-11-18T10:45:00Z",
          "2018-11-18T11:00:00Z",
          "2018-11-18T11:15:00Z",
          "2018-11-18T11:30:00Z",
          "2018-11-18T11:45:00Z",
          "2018-11-18T12:00:00Z",
          "2018-11-18T12:15:00Z",
          "2018-11-18T12:30:00Z",
          "2018-11-18T12:45:00Z",
          "2018-11-18T13:00:00Z",
          "2018-11-18T13:15:00Z",
          "2018-11-18T13:30:00Z",
          "2018-11-18T13:45:00Z",
          "2018-11-18T14:00:00Z",
          "2018-11-18T14:15:00Z",
          "2018-11-18T14:30:00Z",
          "2018-11-18T14:45:00Z",
          "2018-11-18T15:00:00Z",
          "2018-11-18T15:15:00Z",
          "2018-11-18T15:30:00Z",
          "2018-11-18T15:45:00Z",
          "2018-11-18T16:00:00Z",
          "2018-11-18T16:15:00Z",
          "2018-11-18T16:30:00Z",
          "2018-11-18T16:45:00Z",
          "2018-11-18T17:00:00Z",
          "2018-11-18T17:15:00Z",
          "2018-11-18T17:30:00Z",
          "2018-11-18T17:45:00Z",
          "2018-11-18T18:00:00Z",
          "2018-11-18T18:15:00Z",
          "2018-11-18T18:30:00Z",
          "2018-11-18T18:45:00Z",
          "2018-11-18T19:00:00Z",
          "2018-11-18T19:15:00Z",
          "2018-11-18T19:30:00Z",
          "2018-11-18T19:45:00Z",
          "2018-11-18T20:00:00Z",
          "2018-11-18T20:15:00Z",
          "2018-11-18T20:30:00Z",
          "2018-11-18T20:45:00Z",
          "2018-11-18T21:00:00Z",
          "2018-11-18T21:15:00Z",
          "2018-11-18T21:30:00Z",
          "2018-11-18T21:45:00Z",
          "2018-11-18T22:00:00Z",
          "2018-11-18T22:15:00Z",
          "2018-11-18T22:30:00Z",
          "2018-11-18T22:45:00Z",
          "2018-11-18T23:00:00Z",
          "2018-11-18T23:15:00Z",
          "2018-11-18T23:30:00Z",
          "2018-11-18T23:45:00Z",
          "2018-11-19T00:00:00Z",
          "2018-11-19T00:15:00Z",
          "2018-11-19T00:30:00Z",
          "2018-11-19T00:45:00Z",
          "2018-11-19T01:00:00Z",
          "2018-11-19T01:15:00Z",
          "2018-11-19T01:30:00Z",
          "2018-11-19T01:45:00Z",
          "2018-11-19T02:00:00Z",
          "2018-11-19T02:15:00Z",
          "2018-11-19T02:30:00Z",
          "2018-11-19T02:45:00Z",
          "2018-11-19T03:00:00Z",
          "2018-11-19T03:15:00Z",
          "2018-11-19T03:30:00Z",
          "2018-11-19T03:45:00Z",
          "2018-11-19T04:00:00Z",
          "2018-11-19T04:15:00Z",
          "2018-11-19T04:30:00Z",
          "2018-11-19T04:45:00Z",
          "2018-11-19T05:00:00Z",
          "2018-11-19T05:15:00Z",
          "2018-11-19T05:30:00Z",
          "2018-11-19T05:45:00Z",
          "2018-11-19T06:00:00Z",
          "2018-11-19T06:15:00Z",
          "2018-11-19T06:30:00Z",
          "2018-11-19T06:45:00Z",
          "2018-11-19T07:00:00Z",
          "2018-11-19T07:15:00Z",
          "2018-11-19T07:30:00Z",
          "2018-11-19T07:45:00Z",
          "2018-11-19T08:00:00Z",
          "2018-11-19T08:15:00Z",
          "2018-11-19T08:30:00Z",
          "2018-11-19T08:45:00Z",
          "2018-11-19T09:00:00Z",
          "2018-11-19T09:15:00Z",
          "2018-11-19T09:30:00Z",
          "2018-11-19T09:45:00Z",
          "2018-11-19T10:00:00Z",
          "2018-11-19T10:15:00Z",
          "2018-11-19T10:30:00Z",
          "2018-11-19T10:45:00Z",
          "2018-11-19T11:00:00Z",
          "2018-11-19T11:15:00Z",
          "2018-11-19T11:30:00Z",
          "2018-11-19T11:45:00Z",
          "2018-11-19T12:00:00Z",
          "2018-11-19T12:15:00Z",
          "2018-11-19T12:30:00Z",
          "2018-11-19T12:45:00Z",
          "2018-11-19T13:00:00Z",
          "2018-11-19T13:15:00Z",
          "2018-11-19T13:30:00Z",
          "2018-11-19T13:45:00Z",
          "2018-11-19T14:00:00Z",
          "2018-11-19T14:15:00Z",
          "2018-11-19T14:30:00Z",
          "2018-11-19T14:45:00Z",
          "2018-11-19T15:00:00Z",
          "2018-11-19T15:15:00Z",
          "2018-11-19T15:30:00Z",
          "2018-11-19T15:45:00Z",
          "2018-11-19T16:00:00Z",
          "2018-11-19T16:00:01Z",
          "2018-11-19T16:15:00Z",
          "2018-11-19T16:30:00Z",
          "2018-11-19T16:45:00Z",
          "2018-11-19T17:00:00Z",
          "2018-11-19T17:15:00Z",
          "2018-11-19T17:30:00Z",
          "2018-11-19T17:45:00Z",
          "2018-11-19T18:00:00Z",
          "2018-11-19T18:15:00Z"
         ],
         "xaxis": "x",
         "y": [
          137.119995117188,
          138.559997558594,
          138.380004882812,
          140,
          138.919998168945,
          139.100006103516,
          138.919998168945,
          138.559997558594,
          140,
          140.179992675781,
          137.660003662109,
          140.360000610352,
          139.100006103516,
          139.100006103516,
          141.800003051758,
          139.639999389648,
          140.539993286133,
          141.800003051758,
          138.740005493164,
          139.279998779297,
          140,
          139.100006103516,
          138.199996948242,
          138.919998168945,
          137.119995117188,
          138.919998168945,
          137.479995727539,
          134.600006103516,
          135.860000610352,
          129.919998168945,
          131.360000610352,
          131.899993896484,
          129.740005493164,
          133.339996337891,
          136.399993896484,
          134.779998779297,
          133.880004882812,
          136.759994506836,
          136.399993896484,
          136.759994506836,
          138.740005493164,
          139.639999389648,
          137.479995727539,
          134.419998168945,
          138.199996948242,
          138.199996948242,
          138.380004882812,
          138.919998168945,
          140.720001220703,
          138.919998168945,
          140,
          140,
          136.399993896484,
          139.279998779297,
          140.360000610352,
          139.460006713867,
          138.380004882812,
          138.559997558594,
          137.300003051758,
          138.559997558594,
          137.300003051758,
          137.119995117188,
          134.960006713867,
          136.580001831055,
          139.279998779297,
          136.580001831055,
          138.559997558594,
          140.360000610352,
          139.100006103516,
          138.380004882812,
          138.919998168945,
          139.460006713867,
          138.380004882812,
          137.839996337891,
          137.119995117188,
          136.580001831055,
          135.860000610352,
          135.320007324219,
          135.139999389648,
          134.240005493164,
          134.419998168945,
          133.699996948242,
          133.520004272461,
          132.979995727539,
          132.440002441406,
          133.160003662109,
          132.800003051758,
          133.160003662109,
          132.800003051758,
          132.979995727539,
          132.800003051758,
          132.800003051758,
          132.440002441406,
          132.259994506836,
          132.979995727539,
          132.619995117188,
          131.899993896484,
          132.440002441406,
          132.440002441406,
          132.800003051758,
          132.800003051758,
          132.979995727539,
          132.800003051758,
          132.979995727539,
          133.160003662109,
          132.979995727539,
          133.160003662109,
          133.160003662109,
          132.800003051758,
          132.979995727539,
          133.160003662109,
          132.800003051758,
          132.619995117188,
          132.800003051758,
          132.979995727539,
          132.259994506836,
          132.800003051758,
          132.619995117188,
          132.440002441406,
          131.899993896484,
          131.539993286133,
          131.539993286133,
          131.539993286133,
          131.360000610352,
          130.460006713867,
          130.100006103516,
          131,
          131,
          131,
          130.460006713867,
          131,
          129.740005493164,
          129.919998168945,
          129.559997558594,
          128.479995727539,
          128.300003051758,
          128.300003051758,
          128.300003051758,
          128.479995727539,
          131,
          129.199996948242,
          128.300003051758,
          128.839996337891,
          126.319999694824,
          125.599998474121,
          129.380004882812,
          131.539993286133,
          131.899993896484,
          128.479995727539,
          128.660003662109,
          132.800003051758,
          131.179992675781,
          128.660003662109,
          131.899993896484,
          131.179992675781,
          131.179992675781,
          130.639999389648,
          133.699996948242,
          132.259994506836,
          132.080001831055,
          132.259994506836,
          132.080001831055,
          131.720001220703,
          131.360000610352,
          131.179992675781,
          130.460006713867,
          130.279998779297,
          130.279998779297,
          134.419998168945,
          134.779998779297,
          133.520004272461,
          132.619995117188,
          132.800003051758,
          135.5,
          133.160003662109,
          133.880004882812,
          133.339996337891,
          133.880004882812,
          134.240005493164,
          132.619995117188,
          136.399993896484,
          134.960006713867,
          134.059997558594,
          131.539993286133,
          134.779998779297,
          135.860000610352,
          135.139999389648,
          136.759994506836,
          138.199996948242,
          134.779998779297,
          138.380004882812,
          136.399993896484,
          134.779998779297,
          137.839996337891,
          136.399993896484,
          137.300003051758,
          139.279998779297,
          138.559997558594,
          137.300003051758,
          138.380004882812,
          139.460006713867,
          140.179992675781,
          140.899993896484,
          139.460006713867,
          140.720001220703,
          141.080001831055,
          142.699996948242,
          140.539993286133,
          140,
          140,
          141.800003051758,
          138.559997558594,
          141.800003051758,
          140.539993286133,
          140,
          140.179992675781,
          139.820007324219,
          138.740005493164,
          141.259994506836,
          140.720001220703,
          138.919998168945,
          137.300003051758,
          136.759994506836,
          136.940002441406,
          136.399993896484,
          136.399993896484,
          134.779998779297,
          131,
          133.699996948242,
          134.960006713867,
          133.339996337891,
          130.100006103516,
          130.460006713867,
          130.460006713867,
          129.559997558594,
          131,
          128.479995727539,
          130.460006713867,
          130.279998779297,
          130.100006103516,
          127.940002441406,
          127.400001525879,
          129.919998168945,
          129.199996948242,
          129.559997558594,
          130.460006713867,
          129.740005493164,
          127.400001525879,
          128.660003662109,
          129.020004272461,
          130.279998779297,
          131.360000610352,
          132.259994506836,
          132.979995727539,
          133.520004272461,
          134.600006103516,
          134.779998779297,
          135.320007324219,
          136.220001220703,
          136.940002441406,
          137.479995727539,
          134.960006713867,
          134.779998779297,
          134.960006713867,
          134.240005493164,
          133.880004882812,
          133.339996337891,
          134.960006713867,
          134.419998168945,
          134.960006713867,
          133.699996948242,
          135.5,
          137.479995727539,
          134.779998779297,
          132.259994506836,
          130.460006713867,
          130.460006713867,
          130.460006713867,
          131.539993286133,
          132.080001831055,
          134.059997558594,
          134.059997558594,
          130.460006713867,
          132.979995727539,
          134.960006713867,
          137.479995727539,
          137.660003662109,
          138.559997558594,
          138.380004882812,
          138.380004882812,
          135.679992675781,
          138.199996948242,
          138.020004272461,
          140.179992675781,
          141.440002441406,
          140.899993896484,
          141.080001831055,
          139.460006713867,
          141.800003051758,
          140.899993896484,
          141.800003051758,
          142.699996948242,
          142.160003662109,
          137.839996337891,
          139.639999389648,
          137.660003662109,
          138.380004882812,
          139.279998779297,
          137.660003662109,
          136.759994506836,
          136.580001831055,
          135.5,
          135.679992675781,
          134.960006713867,
          134.779998779297,
          132.080001831055,
          132.080001831055,
          129.199996948242,
          129.740005493164,
          127.76000213623,
          131.899993896484,
          131.360000610352,
          131.899993896484,
          131.720001220703,
          131.179992675781,
          130.279998779297,
          129.199996948242,
          131,
          130.460006713867,
          130.279998779297,
          131.539993286133,
          129.199996948242,
          null,
          131.179992675781,
          133.160003662109,
          131.539993286133,
          131.539993286133,
          131.539993286133,
          134.240005493164,
          131.720001220703,
          131,
          131.179992675781,
          131.720001220703
         ],
         "yaxis": "y"
        },
        {
         "hovertemplate": "variable=Boiler 1 HWR_Temperature<br>timestamp=%{x}<br>value=%{y}<extra></extra>",
         "legendgroup": "Boiler 1 HWR_Temperature",
         "line": {
          "color": "#EF553B",
          "dash": "solid"
         },
         "marker": {
          "symbol": "circle"
         },
         "mode": "lines",
         "name": "Boiler 1 HWR_Temperature",
         "showlegend": true,
         "type": "scattergl",
         "x": [
          "2018-11-16T05:00:00Z",
          "2018-11-16T05:15:00Z",
          "2018-11-16T05:30:00Z",
          "2018-11-16T05:45:00Z",
          "2018-11-16T06:00:00Z",
          "2018-11-16T06:15:00Z",
          "2018-11-16T06:30:00Z",
          "2018-11-16T06:45:00Z",
          "2018-11-16T07:00:00Z",
          "2018-11-16T07:15:00Z",
          "2018-11-16T07:30:00Z",
          "2018-11-16T07:45:00Z",
          "2018-11-16T08:00:00Z",
          "2018-11-16T08:15:00Z",
          "2018-11-16T08:30:00Z",
          "2018-11-16T08:45:00Z",
          "2018-11-16T09:00:00Z",
          "2018-11-16T09:15:00Z",
          "2018-11-16T09:30:00Z",
          "2018-11-16T09:45:00Z",
          "2018-11-16T10:00:00Z",
          "2018-11-16T10:15:00Z",
          "2018-11-16T10:30:00Z",
          "2018-11-16T10:45:00Z",
          "2018-11-16T11:00:00Z",
          "2018-11-16T11:15:00Z",
          "2018-11-16T11:30:00Z",
          "2018-11-16T11:45:00Z",
          "2018-11-16T12:00:00Z",
          "2018-11-16T12:15:00Z",
          "2018-11-16T12:30:00Z",
          "2018-11-16T12:45:00Z",
          "2018-11-16T13:00:00Z",
          "2018-11-16T13:15:00Z",
          "2018-11-16T13:30:00Z",
          "2018-11-16T13:45:00Z",
          "2018-11-16T14:00:00Z",
          "2018-11-16T14:15:00Z",
          "2018-11-16T14:30:00Z",
          "2018-11-16T14:45:00Z",
          "2018-11-16T15:00:00Z",
          "2018-11-16T15:15:00Z",
          "2018-11-16T15:30:00Z",
          "2018-11-16T15:45:00Z",
          "2018-11-16T16:00:00Z",
          "2018-11-16T16:15:00Z",
          "2018-11-16T16:30:00Z",
          "2018-11-16T16:45:00Z",
          "2018-11-16T17:00:00Z",
          "2018-11-16T17:15:00Z",
          "2018-11-16T17:30:00Z",
          "2018-11-16T17:45:00Z",
          "2018-11-16T18:00:00Z",
          "2018-11-16T18:15:00Z",
          "2018-11-16T18:30:00Z",
          "2018-11-16T18:45:00Z",
          "2018-11-16T19:00:00Z",
          "2018-11-16T19:15:00Z",
          "2018-11-16T19:30:00Z",
          "2018-11-16T19:45:00Z",
          "2018-11-16T20:00:00Z",
          "2018-11-16T20:15:00Z",
          "2018-11-16T20:30:00Z",
          "2018-11-16T20:45:00Z",
          "2018-11-16T21:00:00Z",
          "2018-11-16T21:15:00Z",
          "2018-11-16T21:30:00Z",
          "2018-11-16T21:45:00Z",
          "2018-11-16T22:00:00Z",
          "2018-11-16T22:15:00Z",
          "2018-11-16T22:30:00Z",
          "2018-11-16T22:45:00Z",
          "2018-11-16T23:00:00Z",
          "2018-11-16T23:15:00Z",
          "2018-11-16T23:30:00Z",
          "2018-11-16T23:45:00Z",
          "2018-11-17T00:00:00Z",
          "2018-11-17T00:15:00Z",
          "2018-11-17T00:30:00Z",
          "2018-11-17T00:45:00Z",
          "2018-11-17T01:00:00Z",
          "2018-11-17T01:15:00Z",
          "2018-11-17T01:30:00Z",
          "2018-11-17T01:45:00Z",
          "2018-11-17T02:00:00Z",
          "2018-11-17T02:15:00Z",
          "2018-11-17T02:30:00Z",
          "2018-11-17T02:45:00Z",
          "2018-11-17T03:00:00Z",
          "2018-11-17T03:15:00Z",
          "2018-11-17T03:30:00Z",
          "2018-11-17T03:45:00Z",
          "2018-11-17T04:00:00Z",
          "2018-11-17T04:15:00Z",
          "2018-11-17T04:30:00Z",
          "2018-11-17T04:45:00Z",
          "2018-11-17T05:00:00Z",
          "2018-11-17T05:15:00Z",
          "2018-11-17T05:30:00Z",
          "2018-11-17T05:45:00Z",
          "2018-11-17T06:00:00Z",
          "2018-11-17T06:15:00Z",
          "2018-11-17T06:30:00Z",
          "2018-11-17T06:45:00Z",
          "2018-11-17T07:00:00Z",
          "2018-11-17T07:15:00Z",
          "2018-11-17T07:30:00Z",
          "2018-11-17T07:45:00Z",
          "2018-11-17T08:00:00Z",
          "2018-11-17T08:15:00Z",
          "2018-11-17T08:30:00Z",
          "2018-11-17T08:45:00Z",
          "2018-11-17T09:00:00Z",
          "2018-11-17T09:15:00Z",
          "2018-11-17T09:30:00Z",
          "2018-11-17T09:45:00Z",
          "2018-11-17T10:00:00Z",
          "2018-11-17T10:15:00Z",
          "2018-11-17T10:30:00Z",
          "2018-11-17T10:45:00Z",
          "2018-11-17T11:00:00Z",
          "2018-11-17T11:15:00Z",
          "2018-11-17T11:30:00Z",
          "2018-11-17T11:45:00Z",
          "2018-11-17T12:00:00Z",
          "2018-11-17T12:15:00Z",
          "2018-11-17T12:30:00Z",
          "2018-11-17T12:45:00Z",
          "2018-11-17T13:00:00Z",
          "2018-11-17T13:15:00Z",
          "2018-11-17T13:30:00Z",
          "2018-11-17T13:45:00Z",
          "2018-11-17T14:00:00Z",
          "2018-11-17T14:15:00Z",
          "2018-11-17T14:30:00Z",
          "2018-11-17T14:45:00Z",
          "2018-11-17T15:00:00Z",
          "2018-11-17T15:15:00Z",
          "2018-11-17T15:30:00Z",
          "2018-11-17T15:45:00Z",
          "2018-11-17T16:00:00Z",
          "2018-11-17T16:15:00Z",
          "2018-11-17T16:30:00Z",
          "2018-11-17T16:45:00Z",
          "2018-11-17T17:00:00Z",
          "2018-11-17T17:15:00Z",
          "2018-11-17T17:30:00Z",
          "2018-11-17T17:45:00Z",
          "2018-11-17T18:00:00Z",
          "2018-11-17T18:15:00Z",
          "2018-11-17T18:30:00Z",
          "2018-11-17T18:45:00Z",
          "2018-11-17T19:00:00Z",
          "2018-11-17T19:15:00Z",
          "2018-11-17T19:30:00Z",
          "2018-11-17T19:45:00Z",
          "2018-11-17T20:00:00Z",
          "2018-11-17T20:15:00Z",
          "2018-11-17T20:30:00Z",
          "2018-11-17T20:45:00Z",
          "2018-11-17T21:00:00Z",
          "2018-11-17T21:15:00Z",
          "2018-11-17T21:30:00Z",
          "2018-11-17T21:45:00Z",
          "2018-11-17T22:00:00Z",
          "2018-11-17T22:15:00Z",
          "2018-11-17T22:30:00Z",
          "2018-11-17T22:45:00Z",
          "2018-11-17T23:00:00Z",
          "2018-11-17T23:15:00Z",
          "2018-11-17T23:30:00Z",
          "2018-11-17T23:45:00Z",
          "2018-11-18T00:00:00Z",
          "2018-11-18T00:15:00Z",
          "2018-11-18T00:30:00Z",
          "2018-11-18T00:45:00Z",
          "2018-11-18T01:00:00Z",
          "2018-11-18T01:15:00Z",
          "2018-11-18T01:30:00Z",
          "2018-11-18T01:45:00Z",
          "2018-11-18T02:00:00Z",
          "2018-11-18T02:15:00Z",
          "2018-11-18T02:30:00Z",
          "2018-11-18T02:45:00Z",
          "2018-11-18T03:00:00Z",
          "2018-11-18T03:15:00Z",
          "2018-11-18T03:30:00Z",
          "2018-11-18T03:45:00Z",
          "2018-11-18T04:00:00Z",
          "2018-11-18T04:15:00Z",
          "2018-11-18T04:30:00Z",
          "2018-11-18T04:45:00Z",
          "2018-11-18T05:00:00Z",
          "2018-11-18T05:15:00Z",
          "2018-11-18T05:30:00Z",
          "2018-11-18T05:45:00Z",
          "2018-11-18T06:00:00Z",
          "2018-11-18T06:15:00Z",
          "2018-11-18T06:30:00Z",
          "2018-11-18T06:45:00Z",
          "2018-11-18T07:00:00Z",
          "2018-11-18T07:15:00Z",
          "2018-11-18T07:30:00Z",
          "2018-11-18T07:45:00Z",
          "2018-11-18T08:00:00Z",
          "2018-11-18T08:15:00Z",
          "2018-11-18T08:30:00Z",
          "2018-11-18T08:45:00Z",
          "2018-11-18T09:00:00Z",
          "2018-11-18T09:15:00Z",
          "2018-11-18T09:30:00Z",
          "2018-11-18T09:45:00Z",
          "2018-11-18T10:00:00Z",
          "2018-11-18T10:15:00Z",
          "2018-11-18T10:30:00Z",
          "2018-11-18T10:45:00Z",
          "2018-11-18T11:00:00Z",
          "2018-11-18T11:15:00Z",
          "2018-11-18T11:30:00Z",
          "2018-11-18T11:45:00Z",
          "2018-11-18T12:00:00Z",
          "2018-11-18T12:15:00Z",
          "2018-11-18T12:30:00Z",
          "2018-11-18T12:45:00Z",
          "2018-11-18T13:00:00Z",
          "2018-11-18T13:15:00Z",
          "2018-11-18T13:30:00Z",
          "2018-11-18T13:45:00Z",
          "2018-11-18T14:00:00Z",
          "2018-11-18T14:15:00Z",
          "2018-11-18T14:30:00Z",
          "2018-11-18T14:45:00Z",
          "2018-11-18T15:00:00Z",
          "2018-11-18T15:15:00Z",
          "2018-11-18T15:30:00Z",
          "2018-11-18T15:45:00Z",
          "2018-11-18T16:00:00Z",
          "2018-11-18T16:15:00Z",
          "2018-11-18T16:30:00Z",
          "2018-11-18T16:45:00Z",
          "2018-11-18T17:00:00Z",
          "2018-11-18T17:15:00Z",
          "2018-11-18T17:30:00Z",
          "2018-11-18T17:45:00Z",
          "2018-11-18T18:00:00Z",
          "2018-11-18T18:15:00Z",
          "2018-11-18T18:30:00Z",
          "2018-11-18T18:45:00Z",
          "2018-11-18T19:00:00Z",
          "2018-11-18T19:15:00Z",
          "2018-11-18T19:30:00Z",
          "2018-11-18T19:45:00Z",
          "2018-11-18T20:00:00Z",
          "2018-11-18T20:15:00Z",
          "2018-11-18T20:30:00Z",
          "2018-11-18T20:45:00Z",
          "2018-11-18T21:00:00Z",
          "2018-11-18T21:15:00Z",
          "2018-11-18T21:30:00Z",
          "2018-11-18T21:45:00Z",
          "2018-11-18T22:00:00Z",
          "2018-11-18T22:15:00Z",
          "2018-11-18T22:30:00Z",
          "2018-11-18T22:45:00Z",
          "2018-11-18T23:00:00Z",
          "2018-11-18T23:15:00Z",
          "2018-11-18T23:30:00Z",
          "2018-11-18T23:45:00Z",
          "2018-11-19T00:00:00Z",
          "2018-11-19T00:15:00Z",
          "2018-11-19T00:30:00Z",
          "2018-11-19T00:45:00Z",
          "2018-11-19T01:00:00Z",
          "2018-11-19T01:15:00Z",
          "2018-11-19T01:30:00Z",
          "2018-11-19T01:45:00Z",
          "2018-11-19T02:00:00Z",
          "2018-11-19T02:15:00Z",
          "2018-11-19T02:30:00Z",
          "2018-11-19T02:45:00Z",
          "2018-11-19T03:00:00Z",
          "2018-11-19T03:15:00Z",
          "2018-11-19T03:30:00Z",
          "2018-11-19T03:45:00Z",
          "2018-11-19T04:00:00Z",
          "2018-11-19T04:15:00Z",
          "2018-11-19T04:30:00Z",
          "2018-11-19T04:45:00Z",
          "2018-11-19T05:00:00Z",
          "2018-11-19T05:15:00Z",
          "2018-11-19T05:30:00Z",
          "2018-11-19T05:45:00Z",
          "2018-11-19T06:00:00Z",
          "2018-11-19T06:15:00Z",
          "2018-11-19T06:30:00Z",
          "2018-11-19T06:45:00Z",
          "2018-11-19T07:00:00Z",
          "2018-11-19T07:15:00Z",
          "2018-11-19T07:30:00Z",
          "2018-11-19T07:45:00Z",
          "2018-11-19T08:00:00Z",
          "2018-11-19T08:15:00Z",
          "2018-11-19T08:30:00Z",
          "2018-11-19T08:45:00Z",
          "2018-11-19T09:00:00Z",
          "2018-11-19T09:15:00Z",
          "2018-11-19T09:30:00Z",
          "2018-11-19T09:45:00Z",
          "2018-11-19T10:00:00Z",
          "2018-11-19T10:15:00Z",
          "2018-11-19T10:30:00Z",
          "2018-11-19T10:45:00Z",
          "2018-11-19T11:00:00Z",
          "2018-11-19T11:15:00Z",
          "2018-11-19T11:30:00Z",
          "2018-11-19T11:45:00Z",
          "2018-11-19T12:00:00Z",
          "2018-11-19T12:15:00Z",
          "2018-11-19T12:30:00Z",
          "2018-11-19T12:45:00Z",
          "2018-11-19T13:00:00Z",
          "2018-11-19T13:15:00Z",
          "2018-11-19T13:30:00Z",
          "2018-11-19T13:45:00Z",
          "2018-11-19T14:00:00Z",
          "2018-11-19T14:15:00Z",
          "2018-11-19T14:30:00Z",
          "2018-11-19T14:45:00Z",
          "2018-11-19T15:00:00Z",
          "2018-11-19T15:15:00Z",
          "2018-11-19T15:30:00Z",
          "2018-11-19T15:45:00Z",
          "2018-11-19T16:00:00Z",
          "2018-11-19T16:00:01Z",
          "2018-11-19T16:15:00Z",
          "2018-11-19T16:30:00Z",
          "2018-11-19T16:45:00Z",
          "2018-11-19T17:00:00Z",
          "2018-11-19T17:15:00Z",
          "2018-11-19T17:30:00Z",
          "2018-11-19T17:45:00Z",
          "2018-11-19T18:00:00Z",
          "2018-11-19T18:15:00Z"
         ],
         "xaxis": "x",
         "y": [
          137.300003051758,
          138.919998168945,
          138.740005493164,
          140.360000610352,
          139.100006103516,
          139.460006713867,
          139.100006103516,
          138.919998168945,
          140.360000610352,
          140.539993286133,
          138.199996948242,
          140.899993896484,
          139.460006713867,
          139.460006713867,
          142.160003662109,
          140.179992675781,
          140.899993896484,
          142.339996337891,
          139.100006103516,
          139.639999389648,
          140.179992675781,
          139.460006713867,
          138.559997558594,
          139.279998779297,
          137.479995727539,
          139.279998779297,
          137.660003662109,
          135.139999389648,
          136.399993896484,
          130.279998779297,
          131.539993286133,
          132.080001831055,
          130.100006103516,
          133.520004272461,
          136.759994506836,
          135.320007324219,
          134.240005493164,
          137.119995117188,
          136.759994506836,
          136.940002441406,
          139.100006103516,
          140.179992675781,
          138.020004272461,
          134.779998779297,
          138.380004882812,
          138.559997558594,
          138.559997558594,
          139.279998779297,
          141.080001831055,
          139.279998779297,
          140.360000610352,
          140.360000610352,
          136.580001831055,
          139.820007324219,
          140.899993896484,
          140.179992675781,
          138.740005493164,
          138.919998168945,
          137.660003662109,
          138.919998168945,
          137.839996337891,
          137.479995727539,
          135.139999389648,
          136.940002441406,
          139.639999389648,
          136.940002441406,
          138.919998168945,
          140.539993286133,
          139.460006713867,
          138.559997558594,
          139.279998779297,
          138.559997558594,
          137.479995727539,
          136.940002441406,
          136.940002441406,
          135.679992675781,
          137.479995727539,
          138.020004272461,
          136.759994506836,
          135.320007324219,
          138.380004882812,
          136.220001220703,
          136.399993896484,
          132.979995727539,
          137.479995727539,
          138.199996948242,
          137.660003662109,
          137.660003662109,
          137.839996337891,
          138.559997558594,
          137.660003662109,
          137.839996337891,
          136.940002441406,
          138.380004882812,
          140.720001220703,
          136.940002441406,
          138.559997558594,
          138.380004882812,
          139.460006713867,
          139.100006103516,
          138.740005493164,
          140.360000610352,
          138.740005493164,
          139.100006103516,
          139.100006103516,
          140,
          140.899993896484,
          140.720001220703,
          140,
          141.259994506836,
          142.339996337891,
          139.639999389648,
          140.179992675781,
          141.619995117188,
          143.059997558594,
          139.639999389648,
          142.520004272461,
          140.179992675781,
          140.899993896484,
          139.279998779297,
          138.380004882812,
          138.919998168945,
          138.199996948242,
          138.380004882812,
          134.779998779297,
          136.039993286133,
          139.279998779297,
          138.380004882812,
          138.559997558594,
          137.839996337891,
          138.559997558594,
          134.960006713867,
          136.940002441406,
          135.320007324219,
          131.179992675781,
          133.520004272461,
          133.160003662109,
          133.699996948242,
          133.880004882812,
          131.539993286133,
          130.100006103516,
          128.479995727539,
          129.380004882812,
          126.5,
          125.959999084473,
          129.740005493164,
          131.899993896484,
          132.440002441406,
          129.020004272461,
          129.199996948242,
          132.979995727539,
          131.360000610352,
          128.839996337891,
          130.279998779297,
          132.619995117188,
          134.059997558594,
          135.679992675781,
          134.419998168945,
          135.139999389648,
          135.860000610352,
          136.580001831055,
          136.580001831055,
          136.039993286133,
          135.679992675781,
          135.139999389648,
          134.059997558594,
          134.779998779297,
          134.600006103516,
          134.960006713867,
          135.139999389648,
          133.699996948242,
          132.979995727539,
          133.339996337891,
          135.679992675781,
          133.339996337891,
          134.240005493164,
          133.699996948242,
          134.419998168945,
          134.960006713867,
          132.979995727539,
          136.759994506836,
          135.320007324219,
          134.600006103516,
          131.720001220703,
          134.779998779297,
          136.580001831055,
          135.679992675781,
          136.940002441406,
          138.559997558594,
          135.320007324219,
          138.740005493164,
          136.940002441406,
          135.139999389648,
          138.380004882812,
          136.759994506836,
          137.660003662109,
          139.820007324219,
          138.919998168945,
          137.660003662109,
          138.740005493164,
          139.820007324219,
          140.720001220703,
          141.440002441406,
          140,
          141.259994506836,
          141.440002441406,
          143.059997558594,
          141.080001831055,
          140.360000610352,
          140.179992675781,
          142.339996337891,
          138.919998168945,
          142.339996337891,
          141.080001831055,
          140.360000610352,
          140.360000610352,
          140.179992675781,
          139.100006103516,
          141.800003051758,
          141.080001831055,
          139.279998779297,
          137.479995727539,
          137.119995117188,
          137.300003051758,
          136.940002441406,
          136.580001831055,
          135.139999389648,
          131.360000610352,
          133.880004882812,
          135.320007324219,
          133.520004272461,
          130.820007324219,
          131,
          131,
          129.740005493164,
          131.360000610352,
          128.839996337891,
          131,
          130.639999389648,
          130.639999389648,
          128.119995117188,
          127.76000213623,
          130.279998779297,
          129.559997558594,
          129.919998168945,
          131,
          129.919998168945,
          127.76000213623,
          129.199996948242,
          129.020004272461,
          130.820007324219,
          131.720001220703,
          132.619995117188,
          133.339996337891,
          133.880004882812,
          134.960006713867,
          135.139999389648,
          135.5,
          136.580001831055,
          137.300003051758,
          138.020004272461,
          135.320007324219,
          135.320007324219,
          135.320007324219,
          134.600006103516,
          134.240005493164,
          133.520004272461,
          135.320007324219,
          134.600006103516,
          135.5,
          134.059997558594,
          135.679992675781,
          137.839996337891,
          135.139999389648,
          132.979995727539,
          131,
          131,
          130.820007324219,
          131.899993896484,
          132.259994506836,
          134.419998168945,
          134.600006103516,
          131,
          133.339996337891,
          135.320007324219,
          138.199996948242,
          138.020004272461,
          138.919998168945,
          138.740005493164,
          138.740005493164,
          136.039993286133,
          138.559997558594,
          138.380004882812,
          140.720001220703,
          141.800003051758,
          141.080001831055,
          141.619995117188,
          140,
          142.339996337891,
          141.259994506836,
          142.339996337891,
          143.240005493164,
          142.520004272461,
          138.380004882812,
          140.360000610352,
          138.199996948242,
          138.740005493164,
          139.639999389648,
          138.199996948242,
          137.119995117188,
          136.940002441406,
          135.860000610352,
          136.039993286133,
          135.139999389648,
          135.139999389648,
          132.619995117188,
          132.619995117188,
          129.740005493164,
          130.100006103516,
          128.119995117188,
          132.259994506836,
          131.720001220703,
          132.259994506836,
          132.080001831055,
          131.539993286133,
          130.820007324219,
          129.559997558594,
          131.360000610352,
          130.820007324219,
          130.639999389648,
          131.899993896484,
          129.559997558594,
          131.720001220703,
          null,
          134.600006103516,
          132.080001831055,
          134.600006103516,
          131.899993896484,
          135.679992675781,
          135.320007324219,
          134.059997558594,
          135.860000610352,
          136.399993896484
         ],
         "yaxis": "y"
        },
        {
         "hovertemplate": "variable=Boiler 3 HWR_Temperature<br>timestamp=%{x}<br>value=%{y}<extra></extra>",
         "legendgroup": "Boiler 3 HWR_Temperature",
         "line": {
          "color": "#00cc96",
          "dash": "solid"
         },
         "marker": {
          "symbol": "circle"
         },
         "mode": "lines",
         "name": "Boiler 3 HWR_Temperature",
         "showlegend": true,
         "type": "scattergl",
         "x": [
          "2018-11-16T05:00:00Z",
          "2018-11-16T05:15:00Z",
          "2018-11-16T05:30:00Z",
          "2018-11-16T05:45:00Z",
          "2018-11-16T06:00:00Z",
          "2018-11-16T06:15:00Z",
          "2018-11-16T06:30:00Z",
          "2018-11-16T06:45:00Z",
          "2018-11-16T07:00:00Z",
          "2018-11-16T07:15:00Z",
          "2018-11-16T07:30:00Z",
          "2018-11-16T07:45:00Z",
          "2018-11-16T08:00:00Z",
          "2018-11-16T08:15:00Z",
          "2018-11-16T08:30:00Z",
          "2018-11-16T08:45:00Z",
          "2018-11-16T09:00:00Z",
          "2018-11-16T09:15:00Z",
          "2018-11-16T09:30:00Z",
          "2018-11-16T09:45:00Z",
          "2018-11-16T10:00:00Z",
          "2018-11-16T10:15:00Z",
          "2018-11-16T10:30:00Z",
          "2018-11-16T10:45:00Z",
          "2018-11-16T11:00:00Z",
          "2018-11-16T11:15:00Z",
          "2018-11-16T11:30:00Z",
          "2018-11-16T11:45:00Z",
          "2018-11-16T12:00:00Z",
          "2018-11-16T12:15:00Z",
          "2018-11-16T12:30:00Z",
          "2018-11-16T12:45:00Z",
          "2018-11-16T13:00:00Z",
          "2018-11-16T13:15:00Z",
          "2018-11-16T13:30:00Z",
          "2018-11-16T13:45:00Z",
          "2018-11-16T14:00:00Z",
          "2018-11-16T14:15:00Z",
          "2018-11-16T14:30:00Z",
          "2018-11-16T14:45:00Z",
          "2018-11-16T15:00:00Z",
          "2018-11-16T15:15:00Z",
          "2018-11-16T15:30:00Z",
          "2018-11-16T15:45:00Z",
          "2018-11-16T16:00:00Z",
          "2018-11-16T16:15:00Z",
          "2018-11-16T16:30:00Z",
          "2018-11-16T16:45:00Z",
          "2018-11-16T17:00:00Z",
          "2018-11-16T17:15:00Z",
          "2018-11-16T17:30:00Z",
          "2018-11-16T17:45:00Z",
          "2018-11-16T18:00:00Z",
          "2018-11-16T18:15:00Z",
          "2018-11-16T18:30:00Z",
          "2018-11-16T18:45:00Z",
          "2018-11-16T19:00:00Z",
          "2018-11-16T19:15:00Z",
          "2018-11-16T19:30:00Z",
          "2018-11-16T19:45:00Z",
          "2018-11-16T20:00:00Z",
          "2018-11-16T20:15:00Z",
          "2018-11-16T20:30:00Z",
          "2018-11-16T20:45:00Z",
          "2018-11-16T21:00:00Z",
          "2018-11-16T21:15:00Z",
          "2018-11-16T21:30:00Z",
          "2018-11-16T21:45:00Z",
          "2018-11-16T22:00:00Z",
          "2018-11-16T22:15:00Z",
          "2018-11-16T22:30:00Z",
          "2018-11-16T22:45:00Z",
          "2018-11-16T23:00:00Z",
          "2018-11-16T23:15:00Z",
          "2018-11-16T23:30:00Z",
          "2018-11-16T23:45:00Z",
          "2018-11-17T00:00:00Z",
          "2018-11-17T00:15:00Z",
          "2018-11-17T00:30:00Z",
          "2018-11-17T00:45:00Z",
          "2018-11-17T01:00:00Z",
          "2018-11-17T01:15:00Z",
          "2018-11-17T01:30:00Z",
          "2018-11-17T01:45:00Z",
          "2018-11-17T02:00:00Z",
          "2018-11-17T02:15:00Z",
          "2018-11-17T02:30:00Z",
          "2018-11-17T02:45:00Z",
          "2018-11-17T03:00:00Z",
          "2018-11-17T03:15:00Z",
          "2018-11-17T03:30:00Z",
          "2018-11-17T03:45:00Z",
          "2018-11-17T04:00:00Z",
          "2018-11-17T04:15:00Z",
          "2018-11-17T04:30:00Z",
          "2018-11-17T04:45:00Z",
          "2018-11-17T05:00:00Z",
          "2018-11-17T05:15:00Z",
          "2018-11-17T05:30:00Z",
          "2018-11-17T05:45:00Z",
          "2018-11-17T06:00:00Z",
          "2018-11-17T06:15:00Z",
          "2018-11-17T06:30:00Z",
          "2018-11-17T06:45:00Z",
          "2018-11-17T07:00:00Z",
          "2018-11-17T07:15:00Z",
          "2018-11-17T07:30:00Z",
          "2018-11-17T07:45:00Z",
          "2018-11-17T08:00:00Z",
          "2018-11-17T08:15:00Z",
          "2018-11-17T08:30:00Z",
          "2018-11-17T08:45:00Z",
          "2018-11-17T09:00:00Z",
          "2018-11-17T09:15:00Z",
          "2018-11-17T09:30:00Z",
          "2018-11-17T09:45:00Z",
          "2018-11-17T10:00:00Z",
          "2018-11-17T10:15:00Z",
          "2018-11-17T10:30:00Z",
          "2018-11-17T10:45:00Z",
          "2018-11-17T11:00:00Z",
          "2018-11-17T11:15:00Z",
          "2018-11-17T11:30:00Z",
          "2018-11-17T11:45:00Z",
          "2018-11-17T12:00:00Z",
          "2018-11-17T12:15:00Z",
          "2018-11-17T12:30:00Z",
          "2018-11-17T12:45:00Z",
          "2018-11-17T13:00:00Z",
          "2018-11-17T13:15:00Z",
          "2018-11-17T13:30:00Z",
          "2018-11-17T13:45:00Z",
          "2018-11-17T14:00:00Z",
          "2018-11-17T14:15:00Z",
          "2018-11-17T14:30:00Z",
          "2018-11-17T14:45:00Z",
          "2018-11-17T15:00:00Z",
          "2018-11-17T15:15:00Z",
          "2018-11-17T15:30:00Z",
          "2018-11-17T15:45:00Z",
          "2018-11-17T16:00:00Z",
          "2018-11-17T16:15:00Z",
          "2018-11-17T16:30:00Z",
          "2018-11-17T16:45:00Z",
          "2018-11-17T17:00:00Z",
          "2018-11-17T17:15:00Z",
          "2018-11-17T17:30:00Z",
          "2018-11-17T17:45:00Z",
          "2018-11-17T18:00:00Z",
          "2018-11-17T18:15:00Z",
          "2018-11-17T18:30:00Z",
          "2018-11-17T18:45:00Z",
          "2018-11-17T19:00:00Z",
          "2018-11-17T19:15:00Z",
          "2018-11-17T19:30:00Z",
          "2018-11-17T19:45:00Z",
          "2018-11-17T20:00:00Z",
          "2018-11-17T20:15:00Z",
          "2018-11-17T20:30:00Z",
          "2018-11-17T20:45:00Z",
          "2018-11-17T21:00:00Z",
          "2018-11-17T21:15:00Z",
          "2018-11-17T21:30:00Z",
          "2018-11-17T21:45:00Z",
          "2018-11-17T22:00:00Z",
          "2018-11-17T22:15:00Z",
          "2018-11-17T22:30:00Z",
          "2018-11-17T22:45:00Z",
          "2018-11-17T23:00:00Z",
          "2018-11-17T23:15:00Z",
          "2018-11-17T23:30:00Z",
          "2018-11-17T23:45:00Z",
          "2018-11-18T00:00:00Z",
          "2018-11-18T00:15:00Z",
          "2018-11-18T00:30:00Z",
          "2018-11-18T00:45:00Z",
          "2018-11-18T01:00:00Z",
          "2018-11-18T01:15:00Z",
          "2018-11-18T01:30:00Z",
          "2018-11-18T01:45:00Z",
          "2018-11-18T02:00:00Z",
          "2018-11-18T02:15:00Z",
          "2018-11-18T02:30:00Z",
          "2018-11-18T02:45:00Z",
          "2018-11-18T03:00:00Z",
          "2018-11-18T03:15:00Z",
          "2018-11-18T03:30:00Z",
          "2018-11-18T03:45:00Z",
          "2018-11-18T04:00:00Z",
          "2018-11-18T04:15:00Z",
          "2018-11-18T04:30:00Z",
          "2018-11-18T04:45:00Z",
          "2018-11-18T05:00:00Z",
          "2018-11-18T05:15:00Z",
          "2018-11-18T05:30:00Z",
          "2018-11-18T05:45:00Z",
          "2018-11-18T06:00:00Z",
          "2018-11-18T06:15:00Z",
          "2018-11-18T06:30:00Z",
          "2018-11-18T06:45:00Z",
          "2018-11-18T07:00:00Z",
          "2018-11-18T07:15:00Z",
          "2018-11-18T07:30:00Z",
          "2018-11-18T07:45:00Z",
          "2018-11-18T08:00:00Z",
          "2018-11-18T08:15:00Z",
          "2018-11-18T08:30:00Z",
          "2018-11-18T08:45:00Z",
          "2018-11-18T09:00:00Z",
          "2018-11-18T09:15:00Z",
          "2018-11-18T09:30:00Z",
          "2018-11-18T09:45:00Z",
          "2018-11-18T10:00:00Z",
          "2018-11-18T10:15:00Z",
          "2018-11-18T10:30:00Z",
          "2018-11-18T10:45:00Z",
          "2018-11-18T11:00:00Z",
          "2018-11-18T11:15:00Z",
          "2018-11-18T11:30:00Z",
          "2018-11-18T11:45:00Z",
          "2018-11-18T12:00:00Z",
          "2018-11-18T12:15:00Z",
          "2018-11-18T12:30:00Z",
          "2018-11-18T12:45:00Z",
          "2018-11-18T13:00:00Z",
          "2018-11-18T13:15:00Z",
          "2018-11-18T13:30:00Z",
          "2018-11-18T13:45:00Z",
          "2018-11-18T14:00:00Z",
          "2018-11-18T14:15:00Z",
          "2018-11-18T14:30:00Z",
          "2018-11-18T14:45:00Z",
          "2018-11-18T15:00:00Z",
          "2018-11-18T15:15:00Z",
          "2018-11-18T15:30:00Z",
          "2018-11-18T15:45:00Z",
          "2018-11-18T16:00:00Z",
          "2018-11-18T16:15:00Z",
          "2018-11-18T16:30:00Z",
          "2018-11-18T16:45:00Z",
          "2018-11-18T17:00:00Z",
          "2018-11-18T17:15:00Z",
          "2018-11-18T17:30:00Z",
          "2018-11-18T17:45:00Z",
          "2018-11-18T18:00:00Z",
          "2018-11-18T18:15:00Z",
          "2018-11-18T18:30:00Z",
          "2018-11-18T18:45:00Z",
          "2018-11-18T19:00:00Z",
          "2018-11-18T19:15:00Z",
          "2018-11-18T19:30:00Z",
          "2018-11-18T19:45:00Z",
          "2018-11-18T20:00:00Z",
          "2018-11-18T20:15:00Z",
          "2018-11-18T20:30:00Z",
          "2018-11-18T20:45:00Z",
          "2018-11-18T21:00:00Z",
          "2018-11-18T21:15:00Z",
          "2018-11-18T21:30:00Z",
          "2018-11-18T21:45:00Z",
          "2018-11-18T22:00:00Z",
          "2018-11-18T22:15:00Z",
          "2018-11-18T22:30:00Z",
          "2018-11-18T22:45:00Z",
          "2018-11-18T23:00:00Z",
          "2018-11-18T23:15:00Z",
          "2018-11-18T23:30:00Z",
          "2018-11-18T23:45:00Z",
          "2018-11-19T00:00:00Z",
          "2018-11-19T00:15:00Z",
          "2018-11-19T00:30:00Z",
          "2018-11-19T00:45:00Z",
          "2018-11-19T01:00:00Z",
          "2018-11-19T01:15:00Z",
          "2018-11-19T01:30:00Z",
          "2018-11-19T01:45:00Z",
          "2018-11-19T02:00:00Z",
          "2018-11-19T02:15:00Z",
          "2018-11-19T02:30:00Z",
          "2018-11-19T02:45:00Z",
          "2018-11-19T03:00:00Z",
          "2018-11-19T03:15:00Z",
          "2018-11-19T03:30:00Z",
          "2018-11-19T03:45:00Z",
          "2018-11-19T04:00:00Z",
          "2018-11-19T04:15:00Z",
          "2018-11-19T04:30:00Z",
          "2018-11-19T04:45:00Z",
          "2018-11-19T05:00:00Z",
          "2018-11-19T05:15:00Z",
          "2018-11-19T05:30:00Z",
          "2018-11-19T05:45:00Z",
          "2018-11-19T06:00:00Z",
          "2018-11-19T06:15:00Z",
          "2018-11-19T06:30:00Z",
          "2018-11-19T06:45:00Z",
          "2018-11-19T07:00:00Z",
          "2018-11-19T07:15:00Z",
          "2018-11-19T07:30:00Z",
          "2018-11-19T07:45:00Z",
          "2018-11-19T08:00:00Z",
          "2018-11-19T08:15:00Z",
          "2018-11-19T08:30:00Z",
          "2018-11-19T08:45:00Z",
          "2018-11-19T09:00:00Z",
          "2018-11-19T09:15:00Z",
          "2018-11-19T09:30:00Z",
          "2018-11-19T09:45:00Z",
          "2018-11-19T10:00:00Z",
          "2018-11-19T10:15:00Z",
          "2018-11-19T10:30:00Z",
          "2018-11-19T10:45:00Z",
          "2018-11-19T11:00:00Z",
          "2018-11-19T11:15:00Z",
          "2018-11-19T11:30:00Z",
          "2018-11-19T11:45:00Z",
          "2018-11-19T12:00:00Z",
          "2018-11-19T12:15:00Z",
          "2018-11-19T12:30:00Z",
          "2018-11-19T12:45:00Z",
          "2018-11-19T13:00:00Z",
          "2018-11-19T13:15:00Z",
          "2018-11-19T13:30:00Z",
          "2018-11-19T13:45:00Z",
          "2018-11-19T14:00:00Z",
          "2018-11-19T14:15:00Z",
          "2018-11-19T14:30:00Z",
          "2018-11-19T14:45:00Z",
          "2018-11-19T15:00:00Z",
          "2018-11-19T15:15:00Z",
          "2018-11-19T15:30:00Z",
          "2018-11-19T15:45:00Z",
          "2018-11-19T16:00:00Z",
          "2018-11-19T16:00:01Z",
          "2018-11-19T16:15:00Z",
          "2018-11-19T16:30:00Z",
          "2018-11-19T16:45:00Z",
          "2018-11-19T17:00:00Z",
          "2018-11-19T17:15:00Z",
          "2018-11-19T17:30:00Z",
          "2018-11-19T17:45:00Z",
          "2018-11-19T18:00:00Z",
          "2018-11-19T18:15:00Z"
         ],
         "xaxis": "x",
         "y": [
          137.119995117188,
          138.559997558594,
          138.380004882812,
          140,
          138.919998168945,
          139.100006103516,
          139.100006103516,
          138.740005493164,
          140.179992675781,
          140.179992675781,
          138.199996948242,
          140.720001220703,
          139.279998779297,
          139.100006103516,
          141.979995727539,
          139.820007324219,
          140.539993286133,
          141.800003051758,
          138.740005493164,
          139.460006713867,
          140,
          139.279998779297,
          138.199996948242,
          138.919998168945,
          137.300003051758,
          139.100006103516,
          137.660003662109,
          134.419998168945,
          135.679992675781,
          130.100006103516,
          131.360000610352,
          132.259994506836,
          129.740005493164,
          133.699996948242,
          136.399993896484,
          134.960006713867,
          134.059997558594,
          136.759994506836,
          136.399993896484,
          136.940002441406,
          138.740005493164,
          139.639999389648,
          137.660003662109,
          134.600006103516,
          138.380004882812,
          138.199996948242,
          138.380004882812,
          138.919998168945,
          140.539993286133,
          138.919998168945,
          140,
          140,
          136.580001831055,
          139.460006713867,
          140.360000610352,
          139.460006713867,
          138.559997558594,
          138.559997558594,
          137.479995727539,
          138.740005493164,
          137.479995727539,
          137.300003051758,
          134.960006713867,
          136.940002441406,
          139.279998779297,
          136.399993896484,
          138.559997558594,
          140.360000610352,
          139.100006103516,
          138.380004882812,
          138.919998168945,
          138.199996948242,
          137.119995117188,
          136.940002441406,
          136.399993896484,
          135.679992675781,
          137.119995117188,
          137.300003051758,
          136.399993896484,
          135.139999389648,
          137.660003662109,
          135.860000610352,
          136.399993896484,
          132.259994506836,
          137.300003051758,
          137.839996337891,
          137.660003662109,
          137.300003051758,
          137.300003051758,
          138.199996948242,
          137.300003051758,
          137.479995727539,
          136.580001831055,
          138.380004882812,
          140.360000610352,
          136.580001831055,
          138.380004882812,
          138.020004272461,
          139.460006713867,
          138.740005493164,
          138.559997558594,
          140.179992675781,
          138.380004882812,
          138.740005493164,
          138.740005493164,
          139.460006713867,
          140.360000610352,
          140.539993286133,
          139.639999389648,
          141.080001831055,
          142.160003662109,
          139.460006713867,
          139.820007324219,
          141.440002441406,
          142.520004272461,
          139.279998779297,
          142.339996337891,
          140,
          140.720001220703,
          138.919998168945,
          138.199996948242,
          138.740005493164,
          137.839996337891,
          138.199996948242,
          134.240005493164,
          135.679992675781,
          139.100006103516,
          138.199996948242,
          138.020004272461,
          137.479995727539,
          137.839996337891,
          134.960006713867,
          136.580001831055,
          135.320007324219,
          131,
          133.520004272461,
          132.800003051758,
          133.520004272461,
          133.699996948242,
          130.639999389648,
          129.919998168945,
          128.300003051758,
          128.839996337891,
          126.5,
          125.599998474121,
          129.559997558594,
          131.360000610352,
          131.539993286133,
          128.660003662109,
          128.479995727539,
          132.440002441406,
          131.360000610352,
          128.839996337891,
          130.100006103516,
          132.259994506836,
          133.880004882812,
          135.679992675781,
          133.699996948242,
          134.960006713867,
          135.679992675781,
          136.039993286133,
          136.399993896484,
          135.679992675781,
          135.5,
          134.779998779297,
          134.059997558594,
          134.600006103516,
          134.240005493164,
          134.600006103516,
          134.779998779297,
          133.699996948242,
          132.979995727539,
          132.800003051758,
          135.5,
          133.339996337891,
          133.880004882812,
          133.339996337891,
          133.880004882812,
          134.419998168945,
          132.800003051758,
          136.039993286133,
          135.320007324219,
          134.419998168945,
          131.899993896484,
          134.960006713867,
          135.860000610352,
          135.320007324219,
          136.759994506836,
          138.199996948242,
          134.779998779297,
          138.559997558594,
          136.399993896484,
          134.960006713867,
          137.839996337891,
          136.580001831055,
          137.300003051758,
          139.460006713867,
          138.559997558594,
          137.479995727539,
          138.380004882812,
          139.820007324219,
          140.360000610352,
          140.899993896484,
          139.460006713867,
          140.899993896484,
          141.259994506836,
          142.520004272461,
          140.539993286133,
          140,
          140,
          142.160003662109,
          138.740005493164,
          141.800003051758,
          140.720001220703,
          140.179992675781,
          140.360000610352,
          140,
          138.740005493164,
          141.440002441406,
          140.899993896484,
          138.919998168945,
          137.479995727539,
          136.759994506836,
          137.119995117188,
          136.580001831055,
          136.580001831055,
          134.779998779297,
          131,
          133.699996948242,
          135.139999389648,
          133.520004272461,
          129.919998168945,
          130.460006713867,
          130.820007324219,
          129.740005493164,
          131.179992675781,
          128.479995727539,
          130.460006713867,
          130.639999389648,
          130.100006103516,
          128.119995117188,
          127.580001831055,
          130.100006103516,
          129.559997558594,
          129.740005493164,
          130.820007324219,
          129.919998168945,
          127.580001831055,
          128.660003662109,
          129.199996948242,
          130.639999389648,
          131.360000610352,
          132.440002441406,
          132.800003051758,
          133.880004882812,
          134.600006103516,
          134.059997558594,
          135.5,
          136.399993896484,
          136.940002441406,
          137.660003662109,
          135.139999389648,
          135.139999389648,
          135.139999389648,
          134.600006103516,
          133.880004882812,
          133.339996337891,
          135.139999389648,
          134.600006103516,
          135.139999389648,
          133.520004272461,
          135.679992675781,
          137.479995727539,
          134.600006103516,
          132.259994506836,
          130.279998779297,
          130.820007324219,
          130.639999389648,
          131.539993286133,
          132.619995117188,
          134.059997558594,
          133.880004882812,
          130.460006713867,
          132.979995727539,
          134.960006713867,
          137.479995727539,
          138.020004272461,
          138.740005493164,
          138.559997558594,
          138.380004882812,
          135.5,
          138.199996948242,
          138.199996948242,
          140.360000610352,
          141.440002441406,
          140.899993896484,
          141.440002441406,
          139.460006713867,
          141.800003051758,
          141.080001831055,
          141.800003051758,
          142.699996948242,
          142.339996337891,
          138.020004272461,
          139.460006713867,
          137.660003662109,
          138.559997558594,
          139.279998779297,
          137.839996337891,
          136.759994506836,
          136.759994506836,
          135.5,
          135.679992675781,
          135.139999389648,
          134.240005493164,
          132.619995117188,
          131.899993896484,
          129.380004882812,
          129.740005493164,
          127.76000213623,
          131.720001220703,
          131.539993286133,
          131.720001220703,
          131.720001220703,
          131,
          130.460006713867,
          129.199996948242,
          131,
          130.639999389648,
          130.279998779297,
          131.899993896484,
          129.380004882812,
          null,
          131.179992675781,
          134.240005493164,
          131.720001220703,
          134.059997558594,
          131.720001220703,
          135.679992675781,
          134.960006713867,
          134.059997558594,
          135.679992675781,
          136.220001220703
         ],
         "yaxis": "y"
        }
       ],
       "layout": {
        "legend": {
         "title": {
          "text": "variable"
         },
         "tracegroupgap": 0
        },
        "margin": {
         "t": 60
        },
        "template": {
         "data": {
          "bar": [
           {
            "error_x": {
             "color": "#2a3f5f"
            },
            "error_y": {
             "color": "#2a3f5f"
            },
            "marker": {
             "line": {
              "color": "#E5ECF6",
              "width": 0.5
             },
             "pattern": {
              "fillmode": "overlay",
              "size": 10,
              "solidity": 0.2
             }
            },
            "type": "bar"
           }
          ],
          "barpolar": [
           {
            "marker": {
             "line": {
              "color": "#E5ECF6",
              "width": 0.5
             },
             "pattern": {
              "fillmode": "overlay",
              "size": 10,
              "solidity": 0.2
             }
            },
            "type": "barpolar"
           }
          ],
          "carpet": [
           {
            "aaxis": {
             "endlinecolor": "#2a3f5f",
             "gridcolor": "white",
             "linecolor": "white",
             "minorgridcolor": "white",
             "startlinecolor": "#2a3f5f"
            },
            "baxis": {
             "endlinecolor": "#2a3f5f",
             "gridcolor": "white",
             "linecolor": "white",
             "minorgridcolor": "white",
             "startlinecolor": "#2a3f5f"
            },
            "type": "carpet"
           }
          ],
          "choropleth": [
           {
            "colorbar": {
             "outlinewidth": 0,
             "ticks": ""
            },
            "type": "choropleth"
           }
          ],
          "contour": [
           {
            "colorbar": {
             "outlinewidth": 0,
             "ticks": ""
            },
            "colorscale": [
             [
              0,
              "#0d0887"
             ],
             [
              0.1111111111111111,
              "#46039f"
             ],
             [
              0.2222222222222222,
              "#7201a8"
             ],
             [
              0.3333333333333333,
              "#9c179e"
             ],
             [
              0.4444444444444444,
              "#bd3786"
             ],
             [
              0.5555555555555556,
              "#d8576b"
             ],
             [
              0.6666666666666666,
              "#ed7953"
             ],
             [
              0.7777777777777778,
              "#fb9f3a"
             ],
             [
              0.8888888888888888,
              "#fdca26"
             ],
             [
              1,
              "#f0f921"
             ]
            ],
            "type": "contour"
           }
          ],
          "contourcarpet": [
           {
            "colorbar": {
             "outlinewidth": 0,
             "ticks": ""
            },
            "type": "contourcarpet"
           }
          ],
          "heatmap": [
           {
            "colorbar": {
             "outlinewidth": 0,
             "ticks": ""
            },
            "colorscale": [
             [
              0,
              "#0d0887"
             ],
             [
              0.1111111111111111,
              "#46039f"
             ],
             [
              0.2222222222222222,
              "#7201a8"
             ],
             [
              0.3333333333333333,
              "#9c179e"
             ],
             [
              0.4444444444444444,
              "#bd3786"
             ],
             [
              0.5555555555555556,
              "#d8576b"
             ],
             [
              0.6666666666666666,
              "#ed7953"
             ],
             [
              0.7777777777777778,
              "#fb9f3a"
             ],
             [
              0.8888888888888888,
              "#fdca26"
             ],
             [
              1,
              "#f0f921"
             ]
            ],
            "type": "heatmap"
           }
          ],
          "heatmapgl": [
           {
            "colorbar": {
             "outlinewidth": 0,
             "ticks": ""
            },
            "colorscale": [
             [
              0,
              "#0d0887"
             ],
             [
              0.1111111111111111,
              "#46039f"
             ],
             [
              0.2222222222222222,
              "#7201a8"
             ],
             [
              0.3333333333333333,
              "#9c179e"
             ],
             [
              0.4444444444444444,
              "#bd3786"
             ],
             [
              0.5555555555555556,
              "#d8576b"
             ],
             [
              0.6666666666666666,
              "#ed7953"
             ],
             [
              0.7777777777777778,
              "#fb9f3a"
             ],
             [
              0.8888888888888888,
              "#fdca26"
             ],
             [
              1,
              "#f0f921"
             ]
            ],
            "type": "heatmapgl"
           }
          ],
          "histogram": [
           {
            "marker": {
             "pattern": {
              "fillmode": "overlay",
              "size": 10,
              "solidity": 0.2
             }
            },
            "type": "histogram"
           }
          ],
          "histogram2d": [
           {
            "colorbar": {
             "outlinewidth": 0,
             "ticks": ""
            },
            "colorscale": [
             [
              0,
              "#0d0887"
             ],
             [
              0.1111111111111111,
              "#46039f"
             ],
             [
              0.2222222222222222,
              "#7201a8"
             ],
             [
              0.3333333333333333,
              "#9c179e"
             ],
             [
              0.4444444444444444,
              "#bd3786"
             ],
             [
              0.5555555555555556,
              "#d8576b"
             ],
             [
              0.6666666666666666,
              "#ed7953"
             ],
             [
              0.7777777777777778,
              "#fb9f3a"
             ],
             [
              0.8888888888888888,
              "#fdca26"
             ],
             [
              1,
              "#f0f921"
             ]
            ],
            "type": "histogram2d"
           }
          ],
          "histogram2dcontour": [
           {
            "colorbar": {
             "outlinewidth": 0,
             "ticks": ""
            },
            "colorscale": [
             [
              0,
              "#0d0887"
             ],
             [
              0.1111111111111111,
              "#46039f"
             ],
             [
              0.2222222222222222,
              "#7201a8"
             ],
             [
              0.3333333333333333,
              "#9c179e"
             ],
             [
              0.4444444444444444,
              "#bd3786"
             ],
             [
              0.5555555555555556,
              "#d8576b"
             ],
             [
              0.6666666666666666,
              "#ed7953"
             ],
             [
              0.7777777777777778,
              "#fb9f3a"
             ],
             [
              0.8888888888888888,
              "#fdca26"
             ],
             [
              1,
              "#f0f921"
             ]
            ],
            "type": "histogram2dcontour"
           }
          ],
          "mesh3d": [
           {
            "colorbar": {
             "outlinewidth": 0,
             "ticks": ""
            },
            "type": "mesh3d"
           }
          ],
          "parcoords": [
           {
            "line": {
             "colorbar": {
              "outlinewidth": 0,
              "ticks": ""
             }
            },
            "type": "parcoords"
           }
          ],
          "pie": [
           {
            "automargin": true,
            "type": "pie"
           }
          ],
          "scatter": [
           {
            "marker": {
             "colorbar": {
              "outlinewidth": 0,
              "ticks": ""
             }
            },
            "type": "scatter"
           }
          ],
          "scatter3d": [
           {
            "line": {
             "colorbar": {
              "outlinewidth": 0,
              "ticks": ""
             }
            },
            "marker": {
             "colorbar": {
              "outlinewidth": 0,
              "ticks": ""
             }
            },
            "type": "scatter3d"
           }
          ],
          "scattercarpet": [
           {
            "marker": {
             "colorbar": {
              "outlinewidth": 0,
              "ticks": ""
             }
            },
            "type": "scattercarpet"
           }
          ],
          "scattergeo": [
           {
            "marker": {
             "colorbar": {
              "outlinewidth": 0,
              "ticks": ""
             }
            },
            "type": "scattergeo"
           }
          ],
          "scattergl": [
           {
            "marker": {
             "colorbar": {
              "outlinewidth": 0,
              "ticks": ""
             }
            },
            "type": "scattergl"
           }
          ],
          "scattermapbox": [
           {
            "marker": {
             "colorbar": {
              "outlinewidth": 0,
              "ticks": ""
             }
            },
            "type": "scattermapbox"
           }
          ],
          "scatterpolar": [
           {
            "marker": {
             "colorbar": {
              "outlinewidth": 0,
              "ticks": ""
             }
            },
            "type": "scatterpolar"
           }
          ],
          "scatterpolargl": [
           {
            "marker": {
             "colorbar": {
              "outlinewidth": 0,
              "ticks": ""
             }
            },
            "type": "scatterpolargl"
           }
          ],
          "scatterternary": [
           {
            "marker": {
             "colorbar": {
              "outlinewidth": 0,
              "ticks": ""
             }
            },
            "type": "scatterternary"
           }
          ],
          "surface": [
           {
            "colorbar": {
             "outlinewidth": 0,
             "ticks": ""
            },
            "colorscale": [
             [
              0,
              "#0d0887"
             ],
             [
              0.1111111111111111,
              "#46039f"
             ],
             [
              0.2222222222222222,
              "#7201a8"
             ],
             [
              0.3333333333333333,
              "#9c179e"
             ],
             [
              0.4444444444444444,
              "#bd3786"
             ],
             [
              0.5555555555555556,
              "#d8576b"
             ],
             [
              0.6666666666666666,
              "#ed7953"
             ],
             [
              0.7777777777777778,
              "#fb9f3a"
             ],
             [
              0.8888888888888888,
              "#fdca26"
             ],
             [
              1,
              "#f0f921"
             ]
            ],
            "type": "surface"
           }
          ],
          "table": [
           {
            "cells": {
             "fill": {
              "color": "#EBF0F8"
             },
             "line": {
              "color": "white"
             }
            },
            "header": {
             "fill": {
              "color": "#C8D4E3"
             },
             "line": {
              "color": "white"
             }
            },
            "type": "table"
           }
          ]
         },
         "layout": {
          "annotationdefaults": {
           "arrowcolor": "#2a3f5f",
           "arrowhead": 0,
           "arrowwidth": 1
          },
          "autotypenumbers": "strict",
          "coloraxis": {
           "colorbar": {
            "outlinewidth": 0,
            "ticks": ""
           }
          },
          "colorscale": {
           "diverging": [
            [
             0,
             "#8e0152"
            ],
            [
             0.1,
             "#c51b7d"
            ],
            [
             0.2,
             "#de77ae"
            ],
            [
             0.3,
             "#f1b6da"
            ],
            [
             0.4,
             "#fde0ef"
            ],
            [
             0.5,
             "#f7f7f7"
            ],
            [
             0.6,
             "#e6f5d0"
            ],
            [
             0.7,
             "#b8e186"
            ],
            [
             0.8,
             "#7fbc41"
            ],
            [
             0.9,
             "#4d9221"
            ],
            [
             1,
             "#276419"
            ]
           ],
           "sequential": [
            [
             0,
             "#0d0887"
            ],
            [
             0.1111111111111111,
             "#46039f"
            ],
            [
             0.2222222222222222,
             "#7201a8"
            ],
            [
             0.3333333333333333,
             "#9c179e"
            ],
            [
             0.4444444444444444,
             "#bd3786"
            ],
            [
             0.5555555555555556,
             "#d8576b"
            ],
            [
             0.6666666666666666,
             "#ed7953"
            ],
            [
             0.7777777777777778,
             "#fb9f3a"
            ],
            [
             0.8888888888888888,
             "#fdca26"
            ],
            [
             1,
             "#f0f921"
            ]
           ],
           "sequentialminus": [
            [
             0,
             "#0d0887"
            ],
            [
             0.1111111111111111,
             "#46039f"
            ],
            [
             0.2222222222222222,
             "#7201a8"
            ],
            [
             0.3333333333333333,
             "#9c179e"
            ],
            [
             0.4444444444444444,
             "#bd3786"
            ],
            [
             0.5555555555555556,
             "#d8576b"
            ],
            [
             0.6666666666666666,
             "#ed7953"
            ],
            [
             0.7777777777777778,
             "#fb9f3a"
            ],
            [
             0.8888888888888888,
             "#fdca26"
            ],
            [
             1,
             "#f0f921"
            ]
           ]
          },
          "colorway": [
           "#636efa",
           "#EF553B",
           "#00cc96",
           "#ab63fa",
           "#FFA15A",
           "#19d3f3",
           "#FF6692",
           "#B6E880",
           "#FF97FF",
           "#FECB52"
          ],
          "font": {
           "color": "#2a3f5f"
          },
          "geo": {
           "bgcolor": "white",
           "lakecolor": "white",
           "landcolor": "#E5ECF6",
           "showlakes": true,
           "showland": true,
           "subunitcolor": "white"
          },
          "hoverlabel": {
           "align": "left"
          },
          "hovermode": "closest",
          "mapbox": {
           "style": "light"
          },
          "paper_bgcolor": "white",
          "plot_bgcolor": "#E5ECF6",
          "polar": {
           "angularaxis": {
            "gridcolor": "white",
            "linecolor": "white",
            "ticks": ""
           },
           "bgcolor": "#E5ECF6",
           "radialaxis": {
            "gridcolor": "white",
            "linecolor": "white",
            "ticks": ""
           }
          },
          "scene": {
           "xaxis": {
            "backgroundcolor": "#E5ECF6",
            "gridcolor": "white",
            "gridwidth": 2,
            "linecolor": "white",
            "showbackground": true,
            "ticks": "",
            "zerolinecolor": "white"
           },
           "yaxis": {
            "backgroundcolor": "#E5ECF6",
            "gridcolor": "white",
            "gridwidth": 2,
            "linecolor": "white",
            "showbackground": true,
            "ticks": "",
            "zerolinecolor": "white"
           },
           "zaxis": {
            "backgroundcolor": "#E5ECF6",
            "gridcolor": "white",
            "gridwidth": 2,
            "linecolor": "white",
            "showbackground": true,
            "ticks": "",
            "zerolinecolor": "white"
           }
          },
          "shapedefaults": {
           "line": {
            "color": "#2a3f5f"
           }
          },
          "ternary": {
           "aaxis": {
            "gridcolor": "white",
            "linecolor": "white",
            "ticks": ""
           },
           "baxis": {
            "gridcolor": "white",
            "linecolor": "white",
            "ticks": ""
           },
           "bgcolor": "#E5ECF6",
           "caxis": {
            "gridcolor": "white",
            "linecolor": "white",
            "ticks": ""
           }
          },
          "title": {
           "x": 0.05
          },
          "xaxis": {
           "automargin": true,
           "gridcolor": "white",
           "linecolor": "white",
           "ticks": "",
           "title": {
            "standoff": 15
           },
           "zerolinecolor": "white",
           "zerolinewidth": 2
          },
          "yaxis": {
           "automargin": true,
           "gridcolor": "white",
           "linecolor": "white",
           "ticks": "",
           "title": {
            "standoff": 15
           },
           "zerolinecolor": "white",
           "zerolinewidth": 2
          }
         }
        },
        "xaxis": {
         "anchor": "y",
         "domain": [
          0,
          1
         ],
         "title": {
          "text": "timestamp"
         }
        },
        "yaxis": {
         "anchor": "x",
         "domain": [
          0,
          1
         ],
         "title": {
          "text": "value"
         }
        }
       }
      }
     },
     "metadata": {},
     "output_type": "display_data"
    }
   ],
   "source": [
    "sensors[0].plot()"
   ]
  }
 ],
 "metadata": {
  "interpreter": {
   "hash": "643de1346df0f7e13897674cab99e87bece096e731f3c8565bb362bd5b0bcc15"
  },
  "kernelspec": {
   "display_name": "Python 3.8.12 ('asalpy')",
   "language": "python",
   "name": "python3"
  },
  "language_info": {
   "codemirror_mode": {
    "name": "ipython",
    "version": 3
   },
   "file_extension": ".py",
   "mimetype": "text/x-python",
   "name": "python",
   "nbconvert_exporter": "python",
   "pygments_lexer": "ipython3",
   "version": "3.8.12"
  }
 },
 "nbformat": 4,
 "nbformat_minor": 2
}
