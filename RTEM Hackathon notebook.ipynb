{
 "cells": [
  {
   "cell_type": "markdown",
   "metadata": {},
   "source": [
    "# RTEM Hackathon notebook"
   ]
  },
  {
   "cell_type": "markdown",
   "metadata": {},
   "source": [
    "## Import standard libraries"
   ]
  },
  {
   "cell_type": "code",
   "execution_count": null,
   "metadata": {},
   "outputs": [],
   "source": [
    "import pandas as pd\n",
    "import numpy as np"
   ]
  },
  {
   "cell_type": "markdown",
   "metadata": {},
   "source": [
    "## Import RTEM libraries"
   ]
  },
  {
   "cell_type": "code",
   "execution_count": null,
   "metadata": {},
   "outputs": [],
   "source": [
    "# Install onboard client to python, uncomment and run once\n",
    "'''\n",
    "!pip install onboard.client\n",
    "'''"
   ]
  },
  {
   "cell_type": "code",
   "execution_count": null,
   "metadata": {},
   "outputs": [],
   "source": [
    "from onboard.client import RtemClient\n",
    "from onboard.client.dataframes import points_df_from_streaming_timeseries\n",
    "from onboard.client.models import PointSelector, TimeseriesQuery, PointData\n",
    "from datetime import datetime, timezone, timedelta\n",
    "from typing import List\n",
    "import pytz"
   ]
  },
  {
   "cell_type": "markdown",
   "metadata": {},
   "source": [
    "## Load secret"
   ]
  },
  {
   "cell_type": "code",
   "execution_count": null,
   "metadata": {},
   "outputs": [],
   "source": [
    "# Read secret from /secrets/ folder\n",
    "with open('secrets/secrets.txt') as f:\n",
    "    secret = f.readlines()[0]\n",
    "\n",
    "# Setup client\n",
    "client = RtemClient(api_key=secret)"
   ]
  },
  {
   "cell_type": "code",
   "execution_count": null,
   "metadata": {},
   "outputs": [],
   "source": [
    "all_buildings = list(pd.DataFrame(client.get_all_buildings())['id'])\n",
    "print(list(pd.DataFrame(client.get_all_buildings())['id'])) # returns list of buildings that you have access to (you may not have 'Laboratory' in your set)\n",
    "print(len(all_buildings))"
   ]
  },
  {
   "cell_type": "code",
   "execution_count": null,
   "metadata": {},
   "outputs": [],
   "source": [
    "query = PointSelector()\n",
    "query.point_types     = ['Hot Water Return Temperature']        # can list multiple point\n",
    "query.equipment_types = ['boiler']     # types, equipment types,\n",
    "query.buildings       = all_buildings        # buildings, etc.\n",
    "selection = client.select_points(query)\n",
    "points = selection[\"points\"]\n",
    "\n",
    "print(points)\n",
    "\n",
    "sensor_metadata = pd.DataFrame(client.get_points_by_ids(points))\n",
    "\n",
    "#start_date = sensor_metadata.last_updated.apply(lambda x: datetime.fromtimestamp(x/1000, timezone.utc)).min()\n",
    "#end_date = sensor_metadata.first_updated.apply(lambda x: datetime.fromtimestamp(x/1000, timezone.utc)).max()\n",
    "\n",
    "tz = pytz.timezone('UTC')\n",
    "start_date = datetime(2018,1,1,0,0,0).replace(tzinfo=tz)\n",
    "end_date = datetime(2018,12,31,0,0,0).replace(tzinfo=tz)\n",
    "\n",
    "timeseries_query = TimeseriesQuery(point_ids = selection['points'], start = start_date, end = end_date)\n",
    "sensor_data = points_df_from_streaming_timeseries(client.stream_point_timeseries(timeseries_query))\n",
    "sensor_data.head()"
   ]
  },
  {
   "cell_type": "code",
   "execution_count": null,
   "metadata": {},
   "outputs": [],
   "source": [
    "import matplotlib.pyplot as plt\n",
    "fig, ax = plt.subplots(figsize = (20, 5))\n",
    "sensor_data.plot(ax=ax, x=\"timestamp\", y=sensor_data.columns.tolist()[1:], title=\"Hot Water Return Temperature\", ylabel=\"Temperature [F]\", rot=90)\n",
    "#plt.legend([\"Supply temperature\", \"Return temperature\"])"
   ]
  },
  {
   "cell_type": "code",
   "execution_count": null,
   "metadata": {},
   "outputs": [],
   "source": [
    "# Output csv and json\n",
    "# pd.json_normalize(client.get_equipment_types()).to_csv(\"data/equip_types.csv\")\n",
    "# pd.json_normalize(client.get_all_point_types()).to_csv(\"data/point_types.csv\")\n",
    "# pd.json_normalize(client.get_all_buildings()).to_csv(\"data/buildings.csv\")\n",
    "# pd.json_normalize(client.get_all_buildings()).to_json(\"data/buildings.json\")"
   ]
  },
  {
   "cell_type": "code",
   "execution_count": null,
   "metadata": {},
   "outputs": [],
   "source": [
    "\"\"\"Ideas\"\"\"\n",
    "\"\"\"Use case: Building Doctor\"\"\"\n",
    "# cooling demand/area for each building\n",
    "# counting the switches on and off for various equipment\n",
    "# identify indicators for each building which represents deterioration\n",
    "# benchmarking against other buildings\n",
    "# build a dashboard\n",
    "\n",
    "# select equipment\n",
    "# select indicators\n",
    "# rank equipment based on specific performance\n"
   ]
  }
 ],
 "metadata": {
  "kernelspec": {
   "display_name": "Python 3",
   "language": "python",
   "name": "python3"
  },
  "language_info": {
   "codemirror_mode": {
    "name": "ipython",
    "version": 3
   },
   "file_extension": ".py",
   "mimetype": "text/x-python",
   "name": "python",
   "nbconvert_exporter": "python",
   "pygments_lexer": "ipython3",
   "version": "3.9.12"
  }
 },
 "nbformat": 4,
 "nbformat_minor": 2
}
