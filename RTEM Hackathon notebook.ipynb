{
 "cells": [
  {
   "cell_type": "markdown",
   "metadata": {},
   "source": [
    "# RTEM Hackathon notebook"
   ]
  },
  {
   "cell_type": "markdown",
   "metadata": {},
   "source": [
    "## Import standard libraries"
   ]
  },
  {
   "cell_type": "code",
   "execution_count": 13,
   "metadata": {},
   "outputs": [],
   "source": [
    "import pandas as pd\n",
    "import json\n",
    "import numpy as np"
   ]
  },
  {
   "cell_type": "markdown",
   "metadata": {},
   "source": [
    "## Import RTEM libraries"
   ]
  },
  {
   "cell_type": "code",
   "execution_count": 5,
   "metadata": {},
   "outputs": [
    {
     "data": {
      "text/plain": [
       "'\\n!pip install onboard.client\\n'"
      ]
     },
     "execution_count": 5,
     "metadata": {},
     "output_type": "execute_result"
    }
   ],
   "source": [
    "# Install onboard client to python, uncomment and run once\n",
    "'''\n",
    "!pip install onboard.client\n",
    "'''"
   ]
  },
  {
   "cell_type": "code",
   "execution_count": 18,
   "metadata": {},
   "outputs": [],
   "source": [
    "from onboard.client import OnboardClient\n",
    "from onboard.client.dataframes import points_df_from_streaming_timeseries\n",
    "from onboard.client.models import PointSelector, TimeseriesQuery, PointData\n",
    "from datetime import datetime, timezone, timedelta\n",
    "from typing import List\n",
    "import pytz"
   ]
  },
  {
   "cell_type": "markdown",
   "metadata": {},
   "source": [
    "## Load secret"
   ]
  },
  {
   "cell_type": "code",
   "execution_count": 19,
   "metadata": {},
   "outputs": [],
   "source": [
    "# Read secret from /secrets/ folder\n",
    "with open('secrets/secrets.txt') as f:\n",
    "    secret = f.readlines()[0]\n",
    "\n",
    "# Setup client\n",
    "client = OnboardClient(api_key=secret)"
   ]
  },
  {
   "cell_type": "code",
   "execution_count": 20,
   "metadata": {},
   "outputs": [
    {
     "name": "stdout",
     "output_type": "stream",
     "text": [
      "['88737', '83483', '94414', '89496', '116742', '90366', '129666', '80324', '94400', '94412', '94411', '128286', '116399', '97789', '164423', '76513', '124540', '87722', '114460', '139252', '164994', '79789', '84869', '145732', '152000', '78797', '153255', '130262', '150388', '73107', '110897', '159950', '149911', '159109', '116350', '160783', '85481', '133932', '131034', '164864', '111479', '89089', '144601', '116723', '128615', '137940', '163896', '113413', '68855', '163716', '164033', '137257', '112620', '128313', '104698', '87261', '99315', '158818', '96938', '90367', '124556', '130079', '75216', '108774', '122677', '144540', '82119', '114249', '145813', '92344', '136558', '86328', '108998', '155776', '75620', '124529', '75049', '119313', '122607', '89522', '88776', '137244', '123183', '92894', '93400', '141633', '116888', '117460', '73582', '111473', '68975', '77439', '75506', '79790', '113572', '89088', '94395', '125921', '103083', '89097', '130853', '128312', '86373', '88777', '133939', '123771', '94415', '85326', '92332', '108366', '92406', '93623', '144812', '84481', '125854', '94422', '110938', '136271', '92485', '82141', '102854', '108235', '86375', '94408', '94399', '89091', '108242', '108224', '126521', '94418', '103622', '80409', '79792', '136534', '114402', '99314', '86988', '108237', '90423', '99317', '108594', '94420', '108233', '82295', '112065', '89090', '93944', '96582', '96581', '114400', '94406', '89096', '99313', '94407', '99316', '94404', '108226', '108230', '97171', '99291', '116875', '89763', '94403', '89094', '135785', '92495', '82294', '77738', '133602', '108229', '89093', '108236', '118981', '94410', '125541', '80413', '95843', '85492', '85918', '108223', '68983', '125920', '99466', '92409', '80412', '124522', '90425', '96512', '138707', '94396', '104435', '90275', '99318', '132641', '94424', '82140', '108222', '94405', '95480', '96583', '80411', '117228', '91480', '129887', '94421', '96580', '68985', '114399', '123698', '127525', '80880', '145147', '111478', '82176', '90200', '108238', '79791', '114403', '94423', '108764', '97593', '86468', '108227', '108232', '94413', '95457', '79528', '109188', '97151']\n"
     ]
    }
   ],
   "source": [
    "print(list(pd.DataFrame(client.get_all_buildings())['name'])) # returns list of buildings that you have access to (you may not have 'Laboratory' in your set)"
   ]
  },
  {
   "cell_type": "code",
   "execution_count": 22,
   "metadata": {},
   "outputs": [
    {
     "ename": "ValidationError",
     "evalue": "1 validation error for TimeseriesQuery\npoint_ids\n  Exactly one of 'point_ids' or 'selector' is required (type=value_error)",
     "output_type": "error",
     "traceback": [
      "\u001b[1;31m---------------------------------------------------------------------------\u001b[0m",
      "\u001b[1;31mValidationError\u001b[0m                           Traceback (most recent call last)",
      "\u001b[1;32mc:\\Users\\ssanjay\\Documents\\GitHub\\SB_rtem_hackathon\\RTEM Hackathon notebook.ipynb Cell 10'\u001b[0m in \u001b[0;36m<cell line: 10>\u001b[1;34m()\u001b[0m\n\u001b[0;32m      <a href='vscode-notebook-cell:/c%3A/Users/ssanjay/Documents/GitHub/SB_rtem_hackathon/RTEM%20Hackathon%20notebook.ipynb#ch0000013?line=6'>7</a>\u001b[0m start \u001b[39m=\u001b[39m datetime\u001b[39m.\u001b[39mnow(pytz\u001b[39m.\u001b[39mutc) \u001b[39m-\u001b[39m timedelta(days\u001b[39m=\u001b[39m\u001b[39m7\u001b[39m)\n\u001b[0;32m      <a href='vscode-notebook-cell:/c%3A/Users/ssanjay/Documents/GitHub/SB_rtem_hackathon/RTEM%20Hackathon%20notebook.ipynb#ch0000013?line=7'>8</a>\u001b[0m end   \u001b[39m=\u001b[39m datetime\u001b[39m.\u001b[39mnow(pytz\u001b[39m.\u001b[39mutc)\n\u001b[1;32m---> <a href='vscode-notebook-cell:/c%3A/Users/ssanjay/Documents/GitHub/SB_rtem_hackathon/RTEM%20Hackathon%20notebook.ipynb#ch0000013?line=9'>10</a>\u001b[0m timeseries_query \u001b[39m=\u001b[39m TimeseriesQuery(point_ids \u001b[39m=\u001b[39;49m selection[\u001b[39m'\u001b[39;49m\u001b[39mpoints\u001b[39;49m\u001b[39m'\u001b[39;49m], start \u001b[39m=\u001b[39;49m start, end \u001b[39m=\u001b[39;49m end)\n\u001b[0;32m     <a href='vscode-notebook-cell:/c%3A/Users/ssanjay/Documents/GitHub/SB_rtem_hackathon/RTEM%20Hackathon%20notebook.ipynb#ch0000013?line=10'>11</a>\u001b[0m sensor_data \u001b[39m=\u001b[39m points_df_from_streaming_timeseries(client\u001b[39m.\u001b[39mstream_point_timeseries(timeseries_query))\n",
      "File \u001b[1;32m<string>:8\u001b[0m, in \u001b[0;36m__init__\u001b[1;34m(self, start, end, selector, point_ids, units)\u001b[0m\n",
      "File \u001b[1;32m~\\AppData\\Local\\Continuum\\anaconda3\\envs\\asalpy\\lib\\site-packages\\pydantic\\dataclasses.py:100\u001b[0m, in \u001b[0;36mpydantic.dataclasses._generate_pydantic_post_init._pydantic_post_init\u001b[1;34m()\u001b[0m\n",
      "\u001b[1;31mValidationError\u001b[0m: 1 validation error for TimeseriesQuery\npoint_ids\n  Exactly one of 'point_ids' or 'selector' is required (type=value_error)"
     ]
    }
   ],
   "source": [
    "query = PointSelector()\n",
    "query.point_types     = ['Zone Temperature'] # can list multiple point\n",
    "query.equipment_types = ['fcu']              # types, equipment types,\n",
    "query.buildings       = ['Laboratory']       # buildings, etc.\n",
    "selection = client.select_points(query)\n",
    "\n",
    "start = datetime.now(pytz.utc) - timedelta(days=7)\n",
    "end   = datetime.now(pytz.utc)\n",
    "\n",
    "timeseries_query = TimeseriesQuery(point_ids = selection['points'], start = start, end = end)\n",
    "sensor_data = points_df_from_streaming_timeseries(client.stream_point_timeseries(timeseries_query))"
   ]
  }
 ],
 "metadata": {
  "kernelspec": {
   "display_name": "Python 3",
   "language": "python",
   "name": "python3"
  },
  "language_info": {
   "codemirror_mode": {
    "name": "ipython",
    "version": 3
   },
   "file_extension": ".py",
   "mimetype": "text/x-python",
   "name": "python",
   "nbconvert_exporter": "python",
   "pygments_lexer": "ipython3",
   "version": "3.8.12"
  }
 },
 "nbformat": 4,
 "nbformat_minor": 2
}
